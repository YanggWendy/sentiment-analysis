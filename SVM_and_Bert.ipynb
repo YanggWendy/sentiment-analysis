{
  "cells": [
    {
      "cell_type": "markdown",
      "metadata": {
        "id": "view-in-github",
        "colab_type": "text"
      },
      "source": [
        "<a href=\"https://colab.research.google.com/github/YanggWendy/sentiment-analysis/blob/main/SVM_and_Bert.ipynb\" target=\"_parent\"><img src=\"https://colab.research.google.com/assets/colab-badge.svg\" alt=\"Open In Colab\"/></a>"
      ]
    },
    {
      "cell_type": "code",
      "source": [
        "from google.colab import drive\n",
        "\n",
        "drive.mount('/content/drive', force_remount=True)\n",
        "\n",
        "FOLDERNAME = 'comp4332/Project 1/'\n",
        "assert FOLDERNAME is not None, \"[1]Enter the foldername.\"\n",
        "\n",
        "import sys\n",
        "sys.path.append('/content/drive/My Drive/{}'.format(FOLDERNAME))"
      ],
      "metadata": {
        "colab": {
          "base_uri": "https://localhost:8080/"
        },
        "id": "rXlmVvr91sAI",
        "outputId": "dea34ad5-b620-4fc0-a75c-d642ddae3a9b"
      },
      "execution_count": null,
      "outputs": [
        {
          "output_type": "stream",
          "name": "stdout",
          "text": [
            "Mounted at /content/drive\n"
          ]
        }
      ]
    },
    {
      "cell_type": "code",
      "source": [
        "path = '/content/drive/MyDrive/comp4332/Project 1/data'"
      ],
      "metadata": {
        "id": "jPyxxXHQ5hdg"
      },
      "execution_count": null,
      "outputs": []
    },
    {
      "cell_type": "markdown",
      "source": [
        "## 1. Loading data and saving predictions\n",
        "\n",
        "The same as previous tutorials, we use `pandas` as the basic tool to load & dump the data.\n",
        "The key ingredient of our operation is the `DataFrame` in pandas."
      ],
      "metadata": {
        "id": "cpoRui_47pOQ"
      }
    },
    {
      "cell_type": "code",
      "execution_count": null,
      "metadata": {
        "id": "56Yveell5UJM"
      },
      "outputs": [],
      "source": [
        "import pandas as pd\n",
        "import numpy as np\n",
        "from sklearn.metrics import confusion_matrix, classification_report, accuracy_score"
      ]
    },
    {
      "cell_type": "code",
      "source": [
        "import nltk\n",
        "nltk.download('stopwords')\n",
        "nltk.download('punkt')"
      ],
      "metadata": {
        "colab": {
          "base_uri": "https://localhost:8080/"
        },
        "id": "jTxx0LA366mu",
        "outputId": "beacebc6-adae-4d0b-dd7c-ffcc572c0e9c"
      },
      "execution_count": null,
      "outputs": [
        {
          "output_type": "stream",
          "name": "stderr",
          "text": [
            "[nltk_data] Downloading package stopwords to /root/nltk_data...\n",
            "[nltk_data]   Package stopwords is already up-to-date!\n",
            "[nltk_data] Downloading package punkt to /root/nltk_data...\n",
            "[nltk_data]   Package punkt is already up-to-date!\n"
          ]
        },
        {
          "output_type": "execute_result",
          "data": {
            "text/plain": [
              "True"
            ]
          },
          "metadata": {},
          "execution_count": 101
        }
      ]
    },
    {
      "cell_type": "markdown",
      "metadata": {
        "id": "Vo8Z7VVq5UJO"
      },
      "source": [
        "### A. Loading data\n",
        "\n",
        "The following code shows how to load the datasets for this project.  \n",
        "Among which, we do not release the labels (the \"stars\" column) for the test set. \n",
        "You may evaluate your trained model on the validation set instead.\n",
        "However, your submitted predictions (``pred.csv``) should be generated on the test set.\n",
        "\n",
        "Each year we release different data, so old models are not guaranteed to solve the new data."
      ]
    },
    {
      "cell_type": "code",
      "execution_count": null,
      "metadata": {
        "id": "coz-oCwS5UJP"
      },
      "outputs": [],
      "source": [
        "def load_data(split_name='train', columns=['text', 'stars'], folder='data'):\n",
        "    '''\n",
        "        \"split_name\" may be set as 'train', 'valid' or 'test' to load the corresponding dataset.\n",
        "        \n",
        "        You may also specify the column names to load any columns in the .csv data file.\n",
        "        Among many, \"text\" can be used as model input, and \"stars\" column is the labels (sentiment). \n",
        "        If you like, you are free to use columns other than \"text\" for prediction.\n",
        "    '''\n",
        "    try:\n",
        "        print(f\"select [{', '.join(columns)}] columns from the {split_name} split\")\n",
        "        df = pd.read_csv(f'{folder}/{split_name}.csv')\n",
        "        df = df.loc[:,columns]\n",
        "        print(\"Success\")\n",
        "        return df\n",
        "    except:\n",
        "        print(f\"Failed loading specified columns... Returning all columns from the {split_name} split\")\n",
        "        df = pd.read_csv(f'{folder}/{split_name}.csv')\n",
        "        return df"
      ]
    },
    {
      "cell_type": "markdown",
      "metadata": {
        "id": "PJnx8k_s5UJQ"
      },
      "source": [
        "Then you can extract the data by specifying the desired split and columns"
      ]
    },
    {
      "cell_type": "code",
      "execution_count": null,
      "metadata": {
        "colab": {
          "base_uri": "https://localhost:8080/"
        },
        "id": "UEJmxylT5UJR",
        "outputId": "cf9a9d37-8af5-47d5-cf50-dbad04fedeca"
      },
      "outputs": [
        {
          "output_type": "stream",
          "name": "stdout",
          "text": [
            "select [text, stars] columns from the train split\n",
            "Success\n",
            "select [text, stars] columns from the valid split\n",
            "Success\n",
            "select [text, stars] columns from the test split\n",
            "Failed loading specified columns... Returning all columns from the test split\n"
          ]
        }
      ],
      "source": [
        "train_df = load_data('train', columns=['text', 'stars'], folder='/content/drive/MyDrive/comp4332/Project 1/data')\n",
        "valid_df = load_data('valid', columns=['text', 'stars'], folder='/content/drive/MyDrive/comp4332/Project 1/data')\n",
        "# the test set labels (the 'stars' column) are not available! So the following code will instead return all columns\n",
        "test_df = load_data('test', columns=['text', 'stars'], folder='/content/drive/MyDrive/comp4332/Project 1/data')"
      ]
    },
    {
      "cell_type": "markdown",
      "source": [
        "## 2. Preprocessing\n",
        "\n",
        "Here are some preprocessing examples for your reference. For more details you may refer to the previous tutorials."
      ],
      "metadata": {
        "id": "n7lkS6sqAIT0"
      }
    },
    {
      "cell_type": "code",
      "execution_count": null,
      "metadata": {
        "id": "a-KE25vc5UJV"
      },
      "outputs": [],
      "source": [
        "import nltk\n",
        "from nltk.stem import PorterStemmer\n",
        "from nltk.corpus import stopwords\n",
        "stopwords = set(stopwords.words('english'))\n",
        "ps = PorterStemmer()\n",
        "\n",
        "def lower(s):\n",
        "    \"\"\"\n",
        "    :param s: a string.\n",
        "    return a string with lower characters\n",
        "    Note that we allow the input to be nested string of a list.\n",
        "    e.g.\n",
        "    Input: 'Text mining is to identify useful information.'\n",
        "    Output: 'text mining is to identify useful information.'\n",
        "    \"\"\"\n",
        "    if isinstance(s, list):\n",
        "        return [lower(t) for t in s]\n",
        "    if isinstance(s, str):\n",
        "        return s.lower()\n",
        "    else:\n",
        "        raise NotImplementedError(\"unknown datatype\")\n",
        "\n",
        "\n",
        "def tokenize(text):\n",
        "    \"\"\"\n",
        "    :param text: a doc with multiple sentences, type: str\n",
        "    return a word list, type: list\n",
        "    e.g.\n",
        "    Input: 'Text mining is to identify useful information.'\n",
        "    Output: ['Text', 'mining', 'is', 'to', 'identify', 'useful', 'information', '.']\n",
        "    \"\"\"\n",
        "    return nltk.word_tokenize(text)\n",
        "\n",
        "\n",
        "def stem(tokens):\n",
        "    \"\"\"\n",
        "    :param tokens: a list of tokens, type: list\n",
        "    return a list of stemmed words, type: list\n",
        "    e.g.\n",
        "    Input: ['Text', 'mining', 'is', 'to', 'identify', 'useful', 'information', '.']\n",
        "    Output: ['text', 'mine', 'is', 'to', 'identifi', 'use', 'inform', '.']\n",
        "    \"\"\"\n",
        "    ### equivalent code\n",
        "    # results = list()\n",
        "    # for token in tokens:\n",
        "    #     results.append(ps.stem(token))\n",
        "    # return results\n",
        "\n",
        "    return [ps.stem(token) for token in tokens]\n",
        "\n",
        "def n_gram(tokens, n=1):\n",
        "    \"\"\"\n",
        "    :param tokens: a list of tokens, type: list\n",
        "    :param n: the corresponding n-gram, type: int\n",
        "    return a list of n-gram tokens, type: list\n",
        "    e.g.\n",
        "    Input: ['text', 'mine', 'is', 'to', 'identifi', 'use', 'inform', '.'], 2\n",
        "    Output: ['text mine', 'mine is', 'is to', 'to identifi', 'identifi use', 'use inform', 'inform .']\n",
        "    \"\"\"\n",
        "    if n == 1:\n",
        "        return tokens\n",
        "    else:\n",
        "        results = list()\n",
        "        for i in range(len(tokens)-n+1):\n",
        "            # tokens[i:i+n] will return a sublist from i th to i+n th (i+n th is not included)\n",
        "            results.append(\" \".join(tokens[i:i+n]))\n",
        "        return results\n",
        "\n",
        "def filter_stopwords(tokens):\n",
        "    \"\"\"\n",
        "    :param tokens: a list of tokens, type: list\n",
        "    return a list of filtered tokens, type: list\n",
        "    e.g.\n",
        "    Input: ['text', 'mine', 'is', 'to', 'identifi', 'use', 'inform', '.']\n",
        "    Output: ['text', 'mine', 'identifi', 'use', 'inform', '.']\n",
        "    \"\"\"\n",
        "    ### equivalent code\n",
        "    # results = list()\n",
        "    # for token in tokens:\n",
        "    #     if token not in stopwords and not token.isnumeric():\n",
        "    #         results.append(token)\n",
        "    # return results\n",
        "\n",
        "    return [token for token in tokens if token not in stopwords and not token.isnumeric()]\n",
        "\n",
        "import numpy as np\n",
        "\n",
        "def get_onehot_vector(feats, feats_dict):\n",
        "    \"\"\"\n",
        "    :param data: a list of features, type: list\n",
        "    :param feats_dict: a dict from features to indices, type: dict\n",
        "    return a feature vector,\n",
        "    \"\"\"\n",
        "    # initialize the vector as all zeros\n",
        "    vector = np.zeros(len(feats_dict), dtype=np.float)\n",
        "    for f in feats:\n",
        "        # get the feature index, return -1 if the feature is not existed\n",
        "        f_idx = feats_dict.get(f, -1)\n",
        "        if f_idx != -1:\n",
        "            # set the corresponding element as 1\n",
        "            vector[f_idx] = 1\n",
        "    return vector"
      ]
    },
    {
      "cell_type": "code",
      "execution_count": null,
      "metadata": {
        "colab": {
          "base_uri": "https://localhost:8080/"
        },
        "id": "N5AKPx2A5UJb",
        "outputId": "63584441-ee67-4b2a-ed11-3bb7d8541e36"
      },
      "outputs": [
        {
          "output_type": "stream",
          "name": "stdout",
          "text": [
            "select [text, stars] columns from the train split\n",
            "Success\n",
            "select [text, stars] columns from the valid split\n",
            "Success\n"
          ]
        }
      ],
      "source": [
        "train_df = load_data('train',folder=path)[:5000]\n",
        "valid_df = load_data('valid',folder=path)\n",
        "x_train = train_df['text']\n",
        "y_train = train_df['stars']\n",
        "x_valid = valid_df['text']\n",
        "y_valid = valid_df['stars']\n",
        "x_test = test_df['text']"
      ]
    },
    {
      "cell_type": "markdown",
      "source": [
        "#Use pre-trained bert model\n",
        "We use pre-trained bert model \"nlptown/bert-base-multilingual-uncased-sentiment\" to do the prediction"
      ],
      "metadata": {
        "id": "LL134wcCL-ca"
      }
    },
    {
      "cell_type": "code",
      "source": [
        "import locale\n",
        "locale.getpreferredencoding = lambda: \"UTF-8\"\n",
        "!pip install transformers\n",
        "from transformers import AutoTokenizer, AutoModelForSequenceClassification, AutoModel,BertTokenizerFast\n",
        "import torch"
      ],
      "metadata": {
        "colab": {
          "base_uri": "https://localhost:8080/"
        },
        "id": "MQ91N-rwKjDo",
        "outputId": "94d87fda-192f-431b-f15c-c096b1cb9a08"
      },
      "execution_count": null,
      "outputs": [
        {
          "output_type": "stream",
          "name": "stdout",
          "text": [
            "Looking in indexes: https://pypi.org/simple, https://us-python.pkg.dev/colab-wheels/public/simple/\n",
            "Collecting transformers\n",
            "  Downloading transformers-4.27.4-py3-none-any.whl (6.8 MB)\n",
            "\u001b[2K     \u001b[90m━━━━━━━━━━━━━━━━━━━━━━━━━━━━━━━━━━━━━━━━\u001b[0m \u001b[32m6.8/6.8 MB\u001b[0m \u001b[31m102.4 MB/s\u001b[0m eta \u001b[36m0:00:00\u001b[0m\n",
            "\u001b[?25hRequirement already satisfied: requests in /usr/local/lib/python3.9/dist-packages (from transformers) (2.27.1)\n",
            "Requirement already satisfied: packaging>=20.0 in /usr/local/lib/python3.9/dist-packages (from transformers) (23.0)\n",
            "Collecting tokenizers!=0.11.3,<0.14,>=0.11.1\n",
            "  Downloading tokenizers-0.13.3-cp39-cp39-manylinux_2_17_x86_64.manylinux2014_x86_64.whl (7.8 MB)\n",
            "\u001b[2K     \u001b[90m━━━━━━━━━━━━━━━━━━━━━━━━━━━━━━━━━━━━━━━━\u001b[0m \u001b[32m7.8/7.8 MB\u001b[0m \u001b[31m107.9 MB/s\u001b[0m eta \u001b[36m0:00:00\u001b[0m\n",
            "\u001b[?25hRequirement already satisfied: tqdm>=4.27 in /usr/local/lib/python3.9/dist-packages (from transformers) (4.65.0)\n",
            "Requirement already satisfied: filelock in /usr/local/lib/python3.9/dist-packages (from transformers) (3.11.0)\n",
            "Requirement already satisfied: numpy>=1.17 in /usr/local/lib/python3.9/dist-packages (from transformers) (1.22.4)\n",
            "Requirement already satisfied: pyyaml>=5.1 in /usr/local/lib/python3.9/dist-packages (from transformers) (6.0)\n",
            "Collecting huggingface-hub<1.0,>=0.11.0\n",
            "  Downloading huggingface_hub-0.13.4-py3-none-any.whl (200 kB)\n",
            "\u001b[2K     \u001b[90m━━━━━━━━━━━━━━━━━━━━━━━━━━━━━━━━━━━━━━\u001b[0m \u001b[32m200.1/200.1 kB\u001b[0m \u001b[31m28.5 MB/s\u001b[0m eta \u001b[36m0:00:00\u001b[0m\n",
            "\u001b[?25hRequirement already satisfied: regex!=2019.12.17 in /usr/local/lib/python3.9/dist-packages (from transformers) (2022.10.31)\n",
            "Requirement already satisfied: typing-extensions>=3.7.4.3 in /usr/local/lib/python3.9/dist-packages (from huggingface-hub<1.0,>=0.11.0->transformers) (4.5.0)\n",
            "Requirement already satisfied: urllib3<1.27,>=1.21.1 in /usr/local/lib/python3.9/dist-packages (from requests->transformers) (1.26.15)\n",
            "Requirement already satisfied: charset-normalizer~=2.0.0 in /usr/local/lib/python3.9/dist-packages (from requests->transformers) (2.0.12)\n",
            "Requirement already satisfied: idna<4,>=2.5 in /usr/local/lib/python3.9/dist-packages (from requests->transformers) (3.4)\n",
            "Requirement already satisfied: certifi>=2017.4.17 in /usr/local/lib/python3.9/dist-packages (from requests->transformers) (2022.12.7)\n",
            "Installing collected packages: tokenizers, huggingface-hub, transformers\n",
            "Successfully installed huggingface-hub-0.13.4 tokenizers-0.13.3 transformers-4.27.4\n"
          ]
        }
      ]
    },
    {
      "cell_type": "code",
      "source": [
        "def sentiment_score(review, max_len):\n",
        "    temp = []\n",
        "    for rev in review:\n",
        "      tokens = tokenizer.encode(rev[0:max_len], return_tensors='pt')\n",
        "      result = model(tokens)\n",
        "      temp.append(int(torch.argmax(result.logits))+1)\n",
        "    return temp"
      ],
      "metadata": {
        "id": "F2QRw3auMz5v"
      },
      "execution_count": null,
      "outputs": []
    },
    {
      "cell_type": "code",
      "source": [
        "max_len = 512\n",
        "\n",
        "tokenizer = AutoTokenizer.from_pretrained('nlptown/bert-base-multilingual-uncased-sentiment',max_length= max_len, truncation=True)\n",
        "model = AutoModelForSequenceClassification.from_pretrained('nlptown/bert-base-multilingual-uncased-sentiment')"
      ],
      "metadata": {
        "id": "4DpnV6VfL6h6",
        "colab": {
          "base_uri": "https://localhost:8080/",
          "height": 177,
          "referenced_widgets": [
            "6cd2b164cb134ab49e616c9dfaa43cbc",
            "13cc9555d8ab49d2a0691f19eb2a4651",
            "1da80eb5a2d14d0ca2cd7a8e6ce27aaf",
            "7e79d87320164de9b893f31b0d645b7e",
            "2012350a33124e5b9c35835417aa9a0e",
            "69c857a9f75c461a9e9157c80772bb9e",
            "232a7d1567404e6383c9488b990257fb",
            "ba9ffd47448641f7a80e4dd9f54616af",
            "77e7a9a7c3194f779ebae4bc1d4006e4",
            "3b435895240942cb8cf626b80e9a8d7d",
            "3df783afcd4b45309ef221d36d7ebf65",
            "019edbff49ca405db07e2d6faeabf6c2",
            "2e2c9a57ab8343c488ac934c7b93109d",
            "ab33a71f3e64401eba4a0ef77ff6481c",
            "517a745d066b4030a897e436472d232d",
            "2a97ea0a0f904611b54766b2c21e7e05",
            "f5906bc755a14072914e08fabc13237f",
            "9527d477c23647f1b4d0884513b20efb",
            "4fc9672ffcde4a2ab47fd48ae4954e29",
            "420481c0d8c24aaf88d9434cbeb00ab3",
            "97c60893bec04554bbaf1a0185f353ab",
            "a85ea81ab57b4122a12c19d4d65fd9ce",
            "fc06e149c68c45bc83e1433d8da46dac",
            "35310400f7514afd92eeb5f29be541ce",
            "670c0b2f7f3248c7808cdb8f9a544d53",
            "c2a0daf68d7b435ba4b5f0bd1082a1eb",
            "8a9f5753a8384b9eb9fcd5349eebfa7d",
            "7bb6739d16d74179ad28e00a7bb4952f",
            "e49c155c340c4f0d90377f73f7ec7b14",
            "73cdc30b0b9b4857b956d6d637da293b",
            "1c8145e6736e426b989812b865ab85c7",
            "223ceeb46156469db1c75e81a3acc428",
            "634984164802409f86d2e3edd079911a",
            "58b9a703349d4aedb7db5506d0a7759e",
            "71870d6e40684856a742e482760ba1bf",
            "cd69dd7e308e444e87b4c1d53107ecc9",
            "bc10bad2cfde4291a42dedabcdac161f",
            "bb37787510ba4a6b828be91009d17ec5",
            "7a49d88986294d68bee537eb228737ef",
            "00011fc61ece44ed9778501fcf25b304",
            "ab5480c6316c443fa65fa827cea7e0df",
            "1a4dd196e92a4874b73fa209a28c6234",
            "4420de1b8fad405e81555d828bb5d7ce",
            "9c35c9dd2e5a4361ac58714f79b2e69c",
            "9b3d25c0ba1743819face3812dc29874",
            "43303387530146608717b0bde11a14e1",
            "eb19896e8beb463bb3ee72436c0c7cfe",
            "956a34e07dcc40b9a936d5a99aa86d2c",
            "832c3613f6544fe497ea547e556de7fe",
            "59e32732dbe94e9ab63d5b7cb9660969",
            "dea166ece2bf4eb7a4d82fad5fd94e84",
            "cef38cfab6104f9880bd16fdfbb95798",
            "858c4fb724cf49a5a50d77532ef1a344",
            "2d1dd4c65ac849ebadad3a995485b188",
            "b265666a2b404058a8e8a5c84947926b"
          ]
        },
        "outputId": "f389eec1-f97b-4627-bc74-9df0fa02f64e"
      },
      "execution_count": null,
      "outputs": [
        {
          "output_type": "display_data",
          "data": {
            "text/plain": [
              "Downloading (…)okenizer_config.json:   0%|          | 0.00/39.0 [00:00<?, ?B/s]"
            ],
            "application/vnd.jupyter.widget-view+json": {
              "version_major": 2,
              "version_minor": 0,
              "model_id": "6cd2b164cb134ab49e616c9dfaa43cbc"
            }
          },
          "metadata": {}
        },
        {
          "output_type": "display_data",
          "data": {
            "text/plain": [
              "Downloading (…)lve/main/config.json:   0%|          | 0.00/953 [00:00<?, ?B/s]"
            ],
            "application/vnd.jupyter.widget-view+json": {
              "version_major": 2,
              "version_minor": 0,
              "model_id": "019edbff49ca405db07e2d6faeabf6c2"
            }
          },
          "metadata": {}
        },
        {
          "output_type": "display_data",
          "data": {
            "text/plain": [
              "Downloading (…)solve/main/vocab.txt:   0%|          | 0.00/872k [00:00<?, ?B/s]"
            ],
            "application/vnd.jupyter.widget-view+json": {
              "version_major": 2,
              "version_minor": 0,
              "model_id": "fc06e149c68c45bc83e1433d8da46dac"
            }
          },
          "metadata": {}
        },
        {
          "output_type": "display_data",
          "data": {
            "text/plain": [
              "Downloading (…)cial_tokens_map.json:   0%|          | 0.00/112 [00:00<?, ?B/s]"
            ],
            "application/vnd.jupyter.widget-view+json": {
              "version_major": 2,
              "version_minor": 0,
              "model_id": "58b9a703349d4aedb7db5506d0a7759e"
            }
          },
          "metadata": {}
        },
        {
          "output_type": "display_data",
          "data": {
            "text/plain": [
              "Downloading pytorch_model.bin:   0%|          | 0.00/669M [00:00<?, ?B/s]"
            ],
            "application/vnd.jupyter.widget-view+json": {
              "version_major": 2,
              "version_minor": 0,
              "model_id": "9b3d25c0ba1743819face3812dc29874"
            }
          },
          "metadata": {}
        }
      ]
    },
    {
      "cell_type": "code",
      "source": [
        "y_pred = sentiment_score(x_valid,max_len)\n",
        "print(classification_report(y_valid, y_pred))\n",
        "print(\"\\n\\n\")\n",
        "print(confusion_matrix(y_valid, y_pred))\n",
        "print('accuracy', np.mean(y_valid == y_pred))"
      ],
      "metadata": {
        "colab": {
          "base_uri": "https://localhost:8080/"
        },
        "id": "z-cVlWfsNwBF",
        "outputId": "68594e04-947c-4e9e-d9ff-8ac7811a629b"
      },
      "execution_count": null,
      "outputs": [
        {
          "output_type": "stream",
          "name": "stdout",
          "text": [
            "              precision    recall  f1-score   support\n",
            "\n",
            "           1       0.70      0.68      0.69       292\n",
            "           2       0.33      0.45      0.38       163\n",
            "           3       0.49      0.45      0.47       232\n",
            "           4       0.48      0.50      0.49       421\n",
            "           5       0.82      0.77      0.79       892\n",
            "\n",
            "    accuracy                           0.64      2000\n",
            "   macro avg       0.56      0.57      0.56      2000\n",
            "weighted avg       0.65      0.64      0.64      2000\n",
            "\n",
            "\n",
            "\n",
            "\n",
            "[[199  69  11   5   8]\n",
            " [ 46  74  29   8   6]\n",
            " [ 12  44 104  64   8]\n",
            " [ 11  19  49 210 132]\n",
            " [ 16  18  20 153 685]]\n",
            "accuracy 0.636\n"
          ]
        }
      ]
    },
    {
      "cell_type": "code",
      "source": [
        "max_len = 200\n",
        "\n",
        "tokenizer = AutoTokenizer.from_pretrained('nlptown/bert-base-multilingual-uncased-sentiment',max_length= max_len, truncation=True)\n",
        "model = AutoModelForSequenceClassification.from_pretrained('nlptown/bert-base-multilingual-uncased-sentiment')"
      ],
      "metadata": {
        "id": "80Fhu2h4dNlH"
      },
      "execution_count": null,
      "outputs": []
    },
    {
      "cell_type": "code",
      "source": [
        "y_pred = sentiment_score(x_valid,max_len)\n",
        "print(classification_report(y_valid, y_pred))\n",
        "print(\"\\n\\n\")\n",
        "print(confusion_matrix(y_valid, y_pred))\n",
        "print('accuracy', np.mean(y_valid == y_pred))"
      ],
      "metadata": {
        "colab": {
          "base_uri": "https://localhost:8080/"
        },
        "id": "vPiCzl-3bdcg",
        "outputId": "b41db78a-7a3e-4646-8b97-56a53b7e82c3"
      },
      "execution_count": null,
      "outputs": [
        {
          "output_type": "stream",
          "name": "stdout",
          "text": [
            "              precision    recall  f1-score   support\n",
            "\n",
            "           1       0.64      0.62      0.63       292\n",
            "           2       0.24      0.32      0.27       163\n",
            "           3       0.37      0.35      0.36       232\n",
            "           4       0.39      0.35      0.37       421\n",
            "           5       0.74      0.74      0.74       892\n",
            "\n",
            "    accuracy                           0.56      2000\n",
            "   macro avg       0.48      0.48      0.48      2000\n",
            "weighted avg       0.57      0.56      0.56      2000\n",
            "\n",
            "\n",
            "\n",
            "\n",
            "[[180  66  24   8  14]\n",
            " [ 43  52  38  12  18]\n",
            " [ 12  39  82  75  24]\n",
            " [ 11  26  56 149 179]\n",
            " [ 34  33  23 139 663]]\n",
            "accuracy 0.563\n"
          ]
        }
      ]
    },
    {
      "cell_type": "code",
      "source": [
        "max_len = 400\n",
        "\n",
        "tokenizer = AutoTokenizer.from_pretrained('nlptown/bert-base-multilingual-uncased-sentiment',max_length= max_len, truncation=True)\n",
        "model = AutoModelForSequenceClassification.from_pretrained('nlptown/bert-base-multilingual-uncased-sentiment')\n",
        "y_pred = sentiment_score(x_valid,max_len)\n",
        "print(classification_report(y_valid, y_pred))\n",
        "print(\"\\n\\n\")\n",
        "print(confusion_matrix(y_valid, y_pred))\n",
        "print('accuracy', np.mean(y_valid == y_pred))"
      ],
      "metadata": {
        "colab": {
          "base_uri": "https://localhost:8080/"
        },
        "id": "OrdYyCAeg3rZ",
        "outputId": "f4a24442-5fe6-46b2-c6f2-68d6cc05a4a5"
      },
      "execution_count": null,
      "outputs": [
        {
          "output_type": "stream",
          "name": "stdout",
          "text": [
            "              precision    recall  f1-score   support\n",
            "\n",
            "           1       0.70      0.64      0.67       292\n",
            "           2       0.30      0.42      0.35       163\n",
            "           3       0.47      0.41      0.44       232\n",
            "           4       0.46      0.48      0.47       421\n",
            "           5       0.79      0.76      0.77       892\n",
            "\n",
            "    accuracy                           0.61      2000\n",
            "   macro avg       0.54      0.54      0.54      2000\n",
            "weighted avg       0.63      0.61      0.62      2000\n",
            "\n",
            "\n",
            "\n",
            "\n",
            "[[188  74  13   6  11]\n",
            " [ 40  69  33  13   8]\n",
            " [ 11  45  95  69  12]\n",
            " [ 11  17  44 203 146]\n",
            " [ 20  28  17 152 675]]\n",
            "accuracy 0.615\n"
          ]
        }
      ]
    },
    {
      "cell_type": "code",
      "source": [
        "max_length = [200, 400, 512]\n",
        "accuracy = [0.56,0.61,0.64]\n",
        "macro_f1 = [0.48,0.54,0.56]\n",
        "\n",
        "plt.plot(max_length, accuracy, label=\"Accuracy\", color=\"blue\")\n",
        "plt.plot(max_length,macro_f1, label=\"Macro_F1\", color=\"yellow\")\n",
        "plt.xlabel(\"Max token length\")\n",
        "plt.ylabel(\"Value\")\n",
        "plt.title('Pretrained Bert Base Multilingual Uncased Sentiment')\n",
        "plt.legend()"
      ],
      "metadata": {
        "colab": {
          "base_uri": "https://localhost:8080/",
          "height": 490
        },
        "id": "Ogus_2bDkGh4",
        "outputId": "efe06ce6-08af-4109-cf42-74dac89c769c"
      },
      "execution_count": null,
      "outputs": [
        {
          "output_type": "execute_result",
          "data": {
            "text/plain": [
              "<matplotlib.legend.Legend at 0x7f92f389aa60>"
            ]
          },
          "metadata": {},
          "execution_count": 39
        },
        {
          "output_type": "display_data",
          "data": {
            "text/plain": [
              "<Figure size 640x480 with 1 Axes>"
            ],
            "image/png": "[encoded data removed]"
          },
          "metadata": {}
        }
      ]
    },
    {
      "cell_type": "markdown",
      "source": [
        "#Support Vector Machine Algorithm (SVM)"
      ],
      "metadata": {
        "id": "Tb9nzPhQGfIN"
      }
    },
    {
      "cell_type": "code",
      "source": [
        "#Importing the necessary packages and libaries\n",
        "from sklearn.metrics import confusion_matrix\n",
        "from sklearn.model_selection import train_test_split\n",
        "from sklearn import svm, datasets\n",
        "from itertools import chain\n",
        "from collections import Counter"
      ],
      "metadata": {
        "id": "EEgoqu7TGt6W"
      },
      "execution_count": null,
      "outputs": []
    },
    {
      "cell_type": "code",
      "source": [
        "def get_feats_dict(feats, min_freq=-1, max_freq=-1, max_size=-1):\n",
        "    \"\"\"\n",
        "    :param data: a list of features, type: list(list)\n",
        "    :param min_freq: the lowest fequency that the fequency of a feature smaller than it will be filtered out, type: int\n",
        "    :param max_freq: the highest fequency that the fequency of a feature larger than it will be filtered out, type: int\n",
        "    :param max_size: the max size of feature dict, type: int\n",
        "    return a feature dict that maps features to indices, sorted by frequencies\n",
        "    # Counter document: https://docs.python.org/3.6/library/collections.html#collections.Counter\n",
        "    \"\"\"\n",
        "    # count all features\n",
        "    feat_cnt = Counter(feats) # [\"text\", \"text\", \"mine\"] --> {\"text\": 2, \"mine\": 1}\n",
        "    if max_size > 0 and min_freq == -1 and max_freq == -1:\n",
        "        valid_feats = [f for f, cnt in feat_cnt.most_common(max_size)]\n",
        "    else:\n",
        "        valid_feats = list()\n",
        "        for f, cnt in feat_cnt.most_common():\n",
        "            if (min_freq == -1 or cnt >= min_freq) and \\\n",
        "                (max_freq == -1 or cnt <= max_freq):\n",
        "                valid_feats.append(f)\n",
        "    if max_size > 0 and len(valid_feats) > max_size:\n",
        "        valid_feats = valid_feats[:max_size]        \n",
        "    print(\"Size of features:\", len(valid_feats))\n",
        "    \n",
        "    # build a mapping from features to indices\n",
        "    feats_dict = dict(zip(valid_feats, range(len(valid_feats))))\n",
        "    return feats_dict\n",
        "\n",
        "def get_onehot_vector(feats, feats_dict):\n",
        "    \"\"\"\n",
        "    :param feats: a list of features, type: list\n",
        "    :param feats_dict: a dict from features to indices, type: dict\n",
        "    return a feature vector,\n",
        "    \"\"\"\n",
        "    # initialize the vector as all zeros\n",
        "    vector = np.zeros(len(feats_dict), dtype=np.float)\n",
        "    for f in feats:\n",
        "        # get the feature index, return -1 if the feature is not existed\n",
        "        f_idx = feats_dict.get(f, -1)\n",
        "        if f_idx != -1:\n",
        "            # set the corresponding element as 1\n",
        "            vector[f_idx] = 1\n",
        "    return vector"
      ],
      "metadata": {
        "id": "ftoO2uOCIcpe"
      },
      "execution_count": null,
      "outputs": []
    },
    {
      "cell_type": "code",
      "source": [
        "# extract features\n",
        "train_tokens = [tokenize(text) for text in x_train]\n",
        "test_tokens = [tokenize(text) for text in x_valid]\n",
        "\n",
        "train_stemmed = [stem(tokens) for tokens in x_train]\n",
        "test_stemmed = [stem(tokens) for tokens in x_valid]\n",
        "\n",
        "train_stemmed = [filter_stopwords(tokens) for tokens in train_stemmed]\n",
        "test_stemmed = [filter_stopwords(tokens) for tokens in test_stemmed]\n",
        "\n",
        "train_2_gram = [n_gram(tokens, 2) for tokens in train_stemmed]\n",
        "train_3_gram = [n_gram(tokens, 3) for tokens in train_stemmed]\n",
        "test_2_gram = [n_gram(tokens, 2) for tokens in test_stemmed]\n",
        "test_3_gram = [n_gram(tokens, 3) for tokens in test_stemmed]\n",
        "\n",
        "\n",
        "# build the feature list\n",
        "train_feats = list()\n",
        "for i in range(len(x_train)):\n",
        "    train_feats.append(\n",
        "        np.array(train_stemmed[i]) )\n",
        "             \n",
        "# train_2_gram[i] + train_3_gram[i])\n",
        "test_feats = list()\n",
        "for i in range(len(x_valid)):\n",
        "    test_feats.append(\n",
        "        np.array(test_stemmed[i]))\n",
        "#test_2_gram[i] + test_3_gram[i])\n",
        "\n",
        "\n",
        "# build a mapping from features to indices\n",
        "feats_dict = get_feats_dict(\n",
        "    chain.from_iterable(train_feats),\n",
        "    min_freq=5)\n",
        "\n",
        "# build the feats_matrix\n",
        "# convert each example to a ont-hot vector, and then stack vectors as a matrix\n",
        "train_feats_matrix = np.vstack(\n",
        "    [get_onehot_vector(f, feats_dict) for f in train_feats])\n",
        "test_feats_matrix = np.vstack(\n",
        "    [get_onehot_vector(f, feats_dict) for f in test_feats])\n"
      ],
      "metadata": {
        "colab": {
          "base_uri": "https://localhost:8080/"
        },
        "id": "VpzRHy5-H4hw",
        "outputId": "828593e8-aad8-4007-d936-fe2b291e4908"
      },
      "execution_count": null,
      "outputs": [
        {
          "output_type": "stream",
          "name": "stdout",
          "text": [
            "Size of features: 59\n"
          ]
        },
        {
          "output_type": "stream",
          "name": "stderr",
          "text": [
            "<ipython-input-28-dbef715936ca>:95: DeprecationWarning: `np.float` is a deprecated alias for the builtin `float`. To silence this warning, use `float` by itself. Doing this will not modify any behavior and is safe. If you specifically wanted the numpy scalar type, use `np.float64` here.\n",
            "Deprecated in NumPy 1.20; for more details and guidance: https://numpy.org/devdocs/release/1.20.0-notes.html#deprecations\n",
            "  vector = np.zeros(len(feats_dict), dtype=np.float)\n"
          ]
        }
      ]
    },
    {
      "cell_type": "code",
      "source": [
        "linear = svm.SVC(kernel='linear', C=1, decision_function_shape='ovo').fit(train_feats_matrix, y_train)\n",
        "rbf = svm.SVC(kernel='rbf', gamma=1, C=1, decision_function_shape='ovo').fit(train_feats_matrix, y_train)\n",
        "poly = svm.SVC(kernel='poly', degree=3, C=1, decision_function_shape='ovo').fit(train_feats_matrix, y_train)\n",
        "sig = svm.SVC(kernel='sigmoid', C=1, decision_function_shape='ovo').fit(train_feats_matrix, y_train)"
      ],
      "metadata": {
        "id": "CTOiqffhGedb"
      },
      "execution_count": null,
      "outputs": []
    },
    {
      "cell_type": "code",
      "source": [
        "linear_pred = linear.predict(test_feats_matrix)\n",
        "poly_pred = poly.predict(test_feats_matrix)\n",
        "rbf_pred = rbf.predict(test_feats_matrix)\n",
        "sig_pred = sig.predict(test_feats_matrix)"
      ],
      "metadata": {
        "id": "MUHaXfFnL_E7"
      },
      "execution_count": null,
      "outputs": []
    },
    {
      "cell_type": "code",
      "source": [
        "# retrieve the accuracy and print it for all 4 kernel functions\n",
        "accuracy_lin = linear.score(test_feats_matrix, y_valid)\n",
        "accuracy_poly = poly.score(test_feats_matrix, y_valid)\n",
        "accuracy_rbf = rbf.score(test_feats_matrix, y_valid)\n",
        "accuracy_sig = sig.score(test_feats_matrix, y_valid)\n",
        "print('Accuracy Linear Kernel:', accuracy_lin)\n",
        "print(\"Accuracy Polynomial Kernel:\", accuracy_poly)\n",
        "print(\"Accuracy Radial Basis Kernel:\", accuracy_rbf)\n",
        "print('Accuracy Sigmoid Kernel:', accuracy_sig)"
      ],
      "metadata": {
        "id": "wJP2wjNxMAe-",
        "colab": {
          "base_uri": "https://localhost:8080/"
        },
        "outputId": "26c6b6da-6a10-4d5e-8697-e2c6767ee6e6"
      },
      "execution_count": null,
      "outputs": [
        {
          "output_type": "stream",
          "name": "stdout",
          "text": [
            "Accuracy Linear Kernel: 0.4495\n",
            "Accuracy Polynomial Kernel: 0.4555\n",
            "Accuracy Radial Basis Kernel: 0.4425\n",
            "Accuracy Sigmoid Kernel: 0.445\n"
          ]
        }
      ]
    },
    {
      "cell_type": "code",
      "source": [
        "print('Linear Kernel:\\n', classification_report(y_valid, linear_pred))\n",
        "print(\"Polynomial Kernel:\\n\", classification_report(y_valid, poly_pred))\n",
        "print(\"Radial Basis Kernel:\\n\", classification_report(y_valid, rbf_pred))\n",
        "print('Sigmoid Kernel:\\n', classification_report(y_valid, sig_pred))"
      ],
      "metadata": {
        "id": "gkee3gWqOoY9",
        "colab": {
          "base_uri": "https://localhost:8080/"
        },
        "outputId": "d3d6851c-b3db-476b-b7ae-5470c53c57d2"
      },
      "execution_count": null,
      "outputs": [
        {
          "output_type": "stream",
          "name": "stdout",
          "text": [
            "Linear Kernel:\n",
            "               precision    recall  f1-score   support\n",
            "\n",
            "           1       0.32      0.23      0.27       292\n",
            "           2       0.00      0.00      0.00       163\n",
            "           3       0.10      0.00      0.01       232\n",
            "           4       0.26      0.14      0.18       421\n",
            "           5       0.50      0.87      0.63       892\n",
            "\n",
            "    accuracy                           0.45      2000\n",
            "   macro avg       0.24      0.25      0.22      2000\n",
            "weighted avg       0.33      0.45      0.36      2000\n",
            "\n",
            "Polynomial Kernel:\n",
            "               precision    recall  f1-score   support\n",
            "\n",
            "           1       0.32      0.16      0.21       292\n",
            "           2       0.00      0.00      0.00       163\n",
            "           3       0.23      0.02      0.04       232\n",
            "           4       0.25      0.08      0.12       421\n",
            "           5       0.49      0.92      0.64       892\n",
            "\n",
            "    accuracy                           0.46      2000\n",
            "   macro avg       0.26      0.24      0.20      2000\n",
            "weighted avg       0.34      0.46      0.35      2000\n",
            "\n",
            "Radial Basis Kernel:\n",
            "               precision    recall  f1-score   support\n",
            "\n",
            "           1       0.33      0.15      0.21       292\n",
            "           2       0.08      0.01      0.01       163\n",
            "           3       0.14      0.03      0.04       232\n",
            "           4       0.29      0.13      0.18       421\n",
            "           5       0.48      0.87      0.62       892\n",
            "\n",
            "    accuracy                           0.44      2000\n",
            "   macro avg       0.26      0.24      0.21      2000\n",
            "weighted avg       0.35      0.44      0.35      2000\n",
            "\n",
            "Sigmoid Kernel:\n",
            "               precision    recall  f1-score   support\n",
            "\n",
            "           1       0.25      0.04      0.07       292\n",
            "           2       0.00      0.00      0.00       163\n",
            "           3       0.00      0.00      0.00       232\n",
            "           4       0.30      0.06      0.10       421\n",
            "           5       0.46      0.96      0.62       892\n",
            "\n",
            "    accuracy                           0.45      2000\n",
            "   macro avg       0.20      0.21      0.16      2000\n",
            "weighted avg       0.30      0.45      0.31      2000\n",
            "\n"
          ]
        },
        {
          "output_type": "stream",
          "name": "stderr",
          "text": [
            "/usr/local/lib/python3.9/dist-packages/sklearn/metrics/_classification.py:1344: UndefinedMetricWarning: Precision and F-score are ill-defined and being set to 0.0 in labels with no predicted samples. Use `zero_division` parameter to control this behavior.\n",
            "  _warn_prf(average, modifier, msg_start, len(result))\n",
            "/usr/local/lib/python3.9/dist-packages/sklearn/metrics/_classification.py:1344: UndefinedMetricWarning: Precision and F-score are ill-defined and being set to 0.0 in labels with no predicted samples. Use `zero_division` parameter to control this behavior.\n",
            "  _warn_prf(average, modifier, msg_start, len(result))\n",
            "/usr/local/lib/python3.9/dist-packages/sklearn/metrics/_classification.py:1344: UndefinedMetricWarning: Precision and F-score are ill-defined and being set to 0.0 in labels with no predicted samples. Use `zero_division` parameter to control this behavior.\n",
            "  _warn_prf(average, modifier, msg_start, len(result))\n"
          ]
        }
      ]
    },
    {
      "cell_type": "code",
      "source": [
        "# extract features\n",
        "train_tokens = [tokenize(text) for text in x_train]\n",
        "test_tokens = [tokenize(text) for text in x_valid]\n",
        "\n",
        "train_stemmed = [stem(tokens) for tokens in x_train]\n",
        "test_stemmed = [stem(tokens) for tokens in x_valid]\n",
        "\n",
        "train_stemmed = [filter_stopwords(tokens) for tokens in train_stemmed]\n",
        "test_stemmed = [filter_stopwords(tokens) for tokens in test_stemmed]\n",
        "\n",
        "train_2_gram = [n_gram(tokens, 2) for tokens in train_stemmed]\n",
        "train_3_gram = [n_gram(tokens, 3) for tokens in train_stemmed]\n",
        "test_2_gram = [n_gram(tokens, 2) for tokens in test_stemmed]\n",
        "test_3_gram = [n_gram(tokens, 3) for tokens in test_stemmed]\n",
        "\n",
        "\n",
        "# build the feature list\n",
        "train_feats = list()\n",
        "for i in range(len(x_train)):\n",
        "    train_feats.append(\n",
        "        train_stemmed[i] + train_2_gram[i] + train_3_gram[i])\n",
        "    \n",
        "test_feats = list()\n",
        "for i in range(len(x_valid)):\n",
        "    test_feats.append(\n",
        "        test_stemmed[i] + test_2_gram[i] + test_3_gram[i])\n",
        "\n",
        "\n",
        "# build a mapping from features to indices\n",
        "feats_dict = get_feats_dict(\n",
        "    chain.from_iterable(train_feats),\n",
        "    min_freq=5)\n",
        "\n",
        "# build the feats_matrix\n",
        "# convert each example to a ont-hot vector, and then stack vectors as a matrix\n",
        "train_feats_matrix = np.vstack(\n",
        "    [get_onehot_vector(f, feats_dict) for f in train_feats])\n",
        "test_feats_matrix = np.vstack(\n",
        "    [get_onehot_vector(f, feats_dict) for f in test_feats])\n"
      ],
      "metadata": {
        "colab": {
          "base_uri": "https://localhost:8080/"
        },
        "id": "RxBH1T3aGeZP",
        "outputId": "85e29ff1-e36d-4601-ec2c-5958d71d3b39"
      },
      "execution_count": null,
      "outputs": [
        {
          "output_type": "stream",
          "name": "stdout",
          "text": [
            "Size of features: 5802\n"
          ]
        },
        {
          "output_type": "stream",
          "name": "stderr",
          "text": [
            "<ipython-input-28-dbef715936ca>:95: DeprecationWarning: `np.float` is a deprecated alias for the builtin `float`. To silence this warning, use `float` by itself. Doing this will not modify any behavior and is safe. If you specifically wanted the numpy scalar type, use `np.float64` here.\n",
            "Deprecated in NumPy 1.20; for more details and guidance: https://numpy.org/devdocs/release/1.20.0-notes.html#deprecations\n",
            "  vector = np.zeros(len(feats_dict), dtype=np.float)\n"
          ]
        }
      ]
    },
    {
      "cell_type": "code",
      "source": [
        "linear = svm.SVC(kernel='linear', C=1, decision_function_shape='ovo').fit(train_feats_matrix, y_train)\n",
        "rbf = svm.SVC(kernel='rbf', gamma=1, C=1, decision_function_shape='ovo').fit(train_feats_matrix, y_train)\n",
        "poly = svm.SVC(kernel='poly', degree=3, C=1, decision_function_shape='ovo').fit(train_feats_matrix, y_train)\n",
        "sig = svm.SVC(kernel='sigmoid', C=1, decision_function_shape='ovo').fit(train_feats_matrix, y_train)\n",
        "\n",
        "linear_pred = linear.predict(test_feats_matrix)\n",
        "poly_pred = poly.predict(test_feats_matrix)\n",
        "rbf_pred = rbf.predict(test_feats_matrix)\n",
        "sig_pred = sig.predict(test_feats_matrix)\n",
        "\n",
        "# retrieve the accuracy and print it for all 4 kernel functions\n",
        "accuracy_lin = linear.score(test_feats_matrix, y_valid)\n",
        "accuracy_poly = poly.score(test_feats_matrix, y_valid)\n",
        "accuracy_rbf = rbf.score(test_feats_matrix, y_valid)\n",
        "accuracy_sig = sig.score(test_feats_matrix, y_valid)\n",
        "print('Accuracy Linear Kernel:', accuracy_lin)\n",
        "print(\"Accuracy Polynomial Kernel:\", accuracy_poly)\n",
        "print(\"Accuracy Radial Basis Kernel:\", accuracy_rbf)\n",
        "print('Accuracy Sigmoid Kernel:', accuracy_sig)\n",
        "\n",
        "print('Linear Kernel:\\n', classification_report(y_valid, linear_pred))\n",
        "print(\"Polynomial Kernel:\\n\", classification_report(y_valid, poly_pred))\n",
        "print(\"Radial Basis Kernel:\\n\", classification_report(y_valid, rbf_pred))\n",
        "print('Sigmoid Kernel:\\n', classification_report(y_valid, sig_pred))"
      ],
      "metadata": {
        "colab": {
          "base_uri": "https://localhost:8080/"
        },
        "id": "yb1GsGPSGoFk",
        "outputId": "5215ac4f-fd69-4312-e9c5-83b092215db4"
      },
      "execution_count": null,
      "outputs": [
        {
          "output_type": "stream",
          "name": "stdout",
          "text": [
            "Accuracy Linear Kernel: 0.498\n",
            "Accuracy Polynomial Kernel: 0.5285\n",
            "Accuracy Radial Basis Kernel: 0.4465\n",
            "Accuracy Sigmoid Kernel: 0.5035\n",
            "Linear Kernel:\n",
            "               precision    recall  f1-score   support\n",
            "\n",
            "           1       0.53      0.59      0.56       292\n",
            "           2       0.23      0.26      0.25       163\n",
            "           3       0.27      0.27      0.27       232\n",
            "           4       0.33      0.34      0.33       421\n",
            "           5       0.71      0.64      0.67       892\n",
            "\n",
            "    accuracy                           0.50      2000\n",
            "   macro avg       0.41      0.42      0.42      2000\n",
            "weighted avg       0.51      0.50      0.50      2000\n",
            "\n",
            "Polynomial Kernel:\n",
            "               precision    recall  f1-score   support\n",
            "\n",
            "           1       0.61      0.41      0.49       292\n",
            "           2       0.29      0.13      0.18       163\n",
            "           3       0.29      0.10      0.15       232\n",
            "           4       0.38      0.16      0.23       421\n",
            "           5       0.56      0.92      0.70       892\n",
            "\n",
            "    accuracy                           0.53      2000\n",
            "   macro avg       0.43      0.35      0.35      2000\n",
            "weighted avg       0.48      0.53      0.46      2000\n",
            "\n",
            "Radial Basis Kernel:\n",
            "               precision    recall  f1-score   support\n",
            "\n",
            "           1       1.00      0.00      0.01       292\n",
            "           2       0.00      0.00      0.00       163\n",
            "           3       0.00      0.00      0.00       232\n",
            "           4       0.00      0.00      0.00       421\n",
            "           5       0.45      1.00      0.62       892\n",
            "\n",
            "    accuracy                           0.45      2000\n",
            "   macro avg       0.29      0.20      0.12      2000\n",
            "weighted avg       0.35      0.45      0.28      2000\n",
            "\n",
            "Sigmoid Kernel:\n",
            "               precision    recall  f1-score   support\n",
            "\n",
            "           1       0.57      0.47      0.51       292\n",
            "           2       0.29      0.09      0.14       163\n",
            "           3       0.23      0.18      0.20       232\n",
            "           4       0.37      0.21      0.27       421\n",
            "           5       0.56      0.81      0.67       892\n",
            "\n",
            "    accuracy                           0.50      2000\n",
            "   macro avg       0.41      0.35      0.36      2000\n",
            "weighted avg       0.46      0.50      0.46      2000\n",
            "\n"
          ]
        },
        {
          "output_type": "stream",
          "name": "stderr",
          "text": [
            "/usr/local/lib/python3.9/dist-packages/sklearn/metrics/_classification.py:1344: UndefinedMetricWarning: Precision and F-score are ill-defined and being set to 0.0 in labels with no predicted samples. Use `zero_division` parameter to control this behavior.\n",
            "  _warn_prf(average, modifier, msg_start, len(result))\n",
            "/usr/local/lib/python3.9/dist-packages/sklearn/metrics/_classification.py:1344: UndefinedMetricWarning: Precision and F-score are ill-defined and being set to 0.0 in labels with no predicted samples. Use `zero_division` parameter to control this behavior.\n",
            "  _warn_prf(average, modifier, msg_start, len(result))\n",
            "/usr/local/lib/python3.9/dist-packages/sklearn/metrics/_classification.py:1344: UndefinedMetricWarning: Precision and F-score are ill-defined and being set to 0.0 in labels with no predicted samples. Use `zero_division` parameter to control this behavior.\n",
            "  _warn_prf(average, modifier, msg_start, len(result))\n"
          ]
        }
      ]
    },
    {
      "cell_type": "markdown",
      "source": [
        "#Pretrain BERT Base"
      ],
      "metadata": {
        "id": "4-cC9IqaJJP4"
      }
    },
    {
      "cell_type": "code",
      "source": [
        "import locale\n",
        "locale.getpreferredencoding = lambda: \"UTF-8\"\n",
        "!pip install transformers"
      ],
      "metadata": {
        "colab": {
          "base_uri": "https://localhost:8080/"
        },
        "id": "jijgEax7niPJ",
        "outputId": "7e37a171-4b69-4143-9275-5d97e7302bdb"
      },
      "execution_count": null,
      "outputs": [
        {
          "output_type": "stream",
          "name": "stdout",
          "text": [
            "Looking in indexes: https://pypi.org/simple, https://us-python.pkg.dev/colab-wheels/public/simple/\n",
            "Requirement already satisfied: transformers in /usr/local/lib/python3.9/dist-packages (4.27.4)\n",
            "Requirement already satisfied: regex!=2019.12.17 in /usr/local/lib/python3.9/dist-packages (from transformers) (2022.10.31)\n",
            "Requirement already satisfied: packaging>=20.0 in /usr/local/lib/python3.9/dist-packages (from transformers) (23.0)\n",
            "Requirement already satisfied: requests in /usr/local/lib/python3.9/dist-packages (from transformers) (2.27.1)\n",
            "Requirement already satisfied: filelock in /usr/local/lib/python3.9/dist-packages (from transformers) (3.11.0)\n",
            "Requirement already satisfied: numpy>=1.17 in /usr/local/lib/python3.9/dist-packages (from transformers) (1.22.4)\n",
            "Requirement already satisfied: pyyaml>=5.1 in /usr/local/lib/python3.9/dist-packages (from transformers) (6.0)\n",
            "Requirement already satisfied: tqdm>=4.27 in /usr/local/lib/python3.9/dist-packages (from transformers) (4.65.0)\n",
            "Requirement already satisfied: tokenizers!=0.11.3,<0.14,>=0.11.1 in /usr/local/lib/python3.9/dist-packages (from transformers) (0.13.3)\n",
            "Requirement already satisfied: huggingface-hub<1.0,>=0.11.0 in /usr/local/lib/python3.9/dist-packages (from transformers) (0.13.4)\n",
            "Requirement already satisfied: typing-extensions>=3.7.4.3 in /usr/local/lib/python3.9/dist-packages (from huggingface-hub<1.0,>=0.11.0->transformers) (4.5.0)\n",
            "Requirement already satisfied: urllib3<1.27,>=1.21.1 in /usr/local/lib/python3.9/dist-packages (from requests->transformers) (1.26.15)\n",
            "Requirement already satisfied: charset-normalizer~=2.0.0 in /usr/local/lib/python3.9/dist-packages (from requests->transformers) (2.0.12)\n",
            "Requirement already satisfied: certifi>=2017.4.17 in /usr/local/lib/python3.9/dist-packages (from requests->transformers) (2022.12.7)\n",
            "Requirement already satisfied: idna<4,>=2.5 in /usr/local/lib/python3.9/dist-packages (from requests->transformers) (3.4)\n"
          ]
        }
      ]
    },
    {
      "cell_type": "code",
      "source": [
        "import torch\n",
        "import os\n",
        "import re\n",
        "from tqdm import tqdm\n",
        "import numpy as np\n",
        "import pandas as pd\n",
        "import matplotlib.pyplot as plt\n",
        "\n",
        "%matplotlib inline\n",
        "\n",
        "if torch.cuda.is_available():       \n",
        "    device = torch.device(\"cuda\")\n",
        "    print(f'There are {torch.cuda.device_count()} GPU(s) available.')\n",
        "    print('Device name:', torch.cuda.get_device_name(0))\n",
        "\n",
        "else:\n",
        "    print('No GPU available, using the CPU instead.')\n",
        "    device = torch.device(\"cpu\")"
      ],
      "metadata": {
        "colab": {
          "base_uri": "https://localhost:8080/"
        },
        "id": "Kvtyj_gjznww",
        "outputId": "563831da-250c-442d-ad7a-6c8e943dc048"
      },
      "execution_count": null,
      "outputs": [
        {
          "output_type": "stream",
          "name": "stdout",
          "text": [
            "There are 1 GPU(s) available.\n",
            "Device name: Tesla T4\n"
          ]
        }
      ]
    },
    {
      "cell_type": "code",
      "source": [
        "def text_preprocessing(text):\n",
        "    \"\"\"\n",
        "    - Remove entity mentions (eg. '@united')\n",
        "    - Correct errors (eg. '&amp;' to '&')\n",
        "    @param    text (str): a string to be processed.\n",
        "    @return   text (Str): the processed string.\n",
        "    \"\"\"\n",
        "    # Remove '@name'\n",
        "    text = re.sub(r'(@.*?)[\\s]', ' ', text)\n",
        "\n",
        "    # Replace '&amp;' with '&'\n",
        "    text = re.sub(r'&amp;', '&', text)\n",
        "\n",
        "    # Remove trailing whitespace\n",
        "    text = re.sub(r'\\s+', ' ', text).strip()\n",
        "\n",
        "    return text"
      ],
      "metadata": {
        "id": "iqsQ80BlwMEm"
      },
      "execution_count": null,
      "outputs": []
    },
    {
      "cell_type": "code",
      "source": [
        "from transformers import BertTokenizer\n",
        "\n",
        "# Load the BERT tokenizer \n",
        "tokenizer = BertTokenizer.from_pretrained('bert-base-uncased', do_lower_case=True)\n",
        "#tokenizer = BertTokenizer.from_pretrained('prajjwal1/bert-small')\n",
        "\n",
        "# Create a function to tokenize a set of texts\n",
        "def preprocessing_for_bert(data):\n",
        "    \"\"\"Perform required preprocessing steps for pretrained BERT.\n",
        "    @param    data (np.array): Array of texts to be processed.\n",
        "    @return   input_ids (torch.Tensor): Tensor of token ids to be fed to a model.\n",
        "    @return   attention_masks (torch.Tensor): Tensor of indices specifying which\n",
        "                  tokens should be attended to by the model.\n",
        "    \"\"\"\n",
        "    # Create empty lists to store outputs\n",
        "    input_ids = []\n",
        "    attention_masks = []\n",
        "\n",
        "    # For every sentence...\n",
        "    for sent in data:\n",
        "        # `encode_plus` will:\n",
        "        #    (1) Tokenize the sentence\n",
        "        #    (2) Add the `[CLS]` and `[SEP]` token to the start and end\n",
        "        #    (3) Truncate/Pad sentence to max length\n",
        "        #    (4) Map tokens to their IDs\n",
        "        #    (5) Create attention mask\n",
        "        #    (6) Return a dictionary of outputs\n",
        "        encoded_sent = tokenizer.encode_plus(\n",
        "            text=text_preprocessing(sent),  # Preprocess sentence\n",
        "            add_special_tokens=True,        # Add `[CLS]` and `[SEP]`\n",
        "            max_length=MAX_LEN,                  # Max length to truncate/pad\n",
        "            pad_to_max_length=True,         # Pad sentence to max length\n",
        "            #return_tensors='pt',           # Return PyTorch tensor\n",
        "            return_attention_mask=True      # Return attention mask\n",
        "            )\n",
        "        \n",
        "        # Add the outputs to the lists\n",
        "        input_ids.append(encoded_sent.get('input_ids'))\n",
        "        attention_masks.append(encoded_sent.get('attention_mask'))\n",
        "\n",
        "    # Convert lists to tensors\n",
        "    input_ids = torch.tensor(input_ids)\n",
        "    attention_masks = torch.tensor(attention_masks)\n",
        "\n",
        "    return input_ids, attention_masks"
      ],
      "metadata": {
        "id": "sosgg4IzKuK2"
      },
      "execution_count": null,
      "outputs": []
    },
    {
      "cell_type": "code",
      "source": [
        "# Concatenate train data and test data\n",
        "all_reviews = np.concatenate([x_train, x_valid])\n",
        "\n",
        "# Encode our concatenated data\n",
        "encoded_reviews = [tokenizer.encode(sent, add_special_tokens=True) for sent in all_reviews]\n",
        "\n",
        "# Find the maximum length\n",
        "\n",
        "max_len = max([len(sent) for sent in encoded_reviews])\n",
        "'''\n",
        "for sent in encoded_reviews:\n",
        "  if len(sent) == max_len:\n",
        "    print(sent)\n",
        "'''\n",
        "print('Max length: ', max_len)"
      ],
      "metadata": {
        "colab": {
          "base_uri": "https://localhost:8080/"
        },
        "id": "-hrJqO1CLL34",
        "outputId": "967162c8-06e6-4414-b665-8238eb4caf7b"
      },
      "execution_count": null,
      "outputs": [
        {
          "output_type": "stream",
          "name": "stderr",
          "text": [
            "Token indices sequence length is longer than the specified maximum sequence length for this model (768 > 512). Running this sequence through the model will result in indexing errors\n"
          ]
        },
        {
          "output_type": "stream",
          "name": "stdout",
          "text": [
            "Max length:  1155\n"
          ]
        }
      ]
    },
    {
      "cell_type": "code",
      "source": [
        "# Specify `MAX_LEN`\n",
        "MAX_LEN = 512\n",
        "\n",
        "# Print sentence 0 and its encoded token ids\n",
        "token_ids = list(preprocessing_for_bert([x_train[0]])[0].squeeze().numpy())\n",
        "print('Original: ', x_train[0])\n",
        "print('Token IDs: ', token_ids)\n",
        "\n",
        "# Run function `preprocessing_for_bert` on the train set and the validation set\n",
        "print('Tokenizing data...')\n",
        "train_inputs, train_masks = preprocessing_for_bert(x_train)\n",
        "val_inputs, val_masks = preprocessing_for_bert(x_valid)"
      ],
      "metadata": {
        "colab": {
          "base_uri": "https://localhost:8080/"
        },
        "id": "v1NUFDcdLONE",
        "outputId": "24c26752-a72f-48c9-94a8-e85b36ab491b"
      },
      "execution_count": null,
      "outputs": [
        {
          "output_type": "stream",
          "name": "stderr",
          "text": [
            "Truncation was not explicitly activated but `max_length` is provided a specific value, please use `truncation=True` to explicitly truncate examples to max length. Defaulting to 'longest_first' truncation strategy. If you encode pairs of sequences (GLUE-style) with the tokenizer you can select this strategy more precisely by providing a specific strategy to `truncation`.\n"
          ]
        },
        {
          "output_type": "stream",
          "name": "stdout",
          "text": [
            "Original:  Best Sunday buffet in the two cities of Charlotte and Concord!    Every week they change 80% of the buffet on Sunday so you never get bored.   And the attention to Customer Service was outstanding.    \n",
            "\n",
            "Good for them.  Fresh ingredients and perfect atmosphere.    Loved it. \n",
            "\n",
            "Pat & Ali Hughes\n",
            "Token IDs:  [101, 2190, 4465, 28305, 1999, 1996, 2048, 3655, 1997, 5904, 1998, 16557, 999, 2296, 2733, 2027, 2689, 3770, 1003, 1997, 1996, 28305, 2006, 4465, 2061, 2017, 2196, 2131, 11471, 1012, 1998, 1996, 3086, 2000, 8013, 2326, 2001, 5151, 1012, 2204, 2005, 2068, 1012, 4840, 12760, 1998, 3819, 7224, 1012, 3866, 2009, 1012, 6986, 1004, 4862, 8099, 102, 0, 0, 0, 0, 0, 0, 0, 0, 0, 0, 0, 0, 0, 0, 0, 0, 0, 0, 0, 0, 0, 0, 0, 0, 0, 0, 0, 0, 0, 0, 0, 0, 0, 0, 0, 0, 0, 0, 0, 0, 0, 0, 0, 0, 0, 0, 0, 0, 0, 0, 0, 0, 0, 0, 0, 0, 0, 0, 0, 0, 0, 0, 0, 0, 0, 0, 0, 0, 0, 0, 0, 0, 0, 0, 0, 0, 0, 0, 0, 0, 0, 0, 0, 0, 0, 0, 0, 0, 0, 0, 0, 0, 0, 0, 0, 0, 0, 0, 0, 0, 0, 0, 0, 0, 0, 0, 0, 0, 0, 0, 0, 0, 0, 0, 0, 0, 0, 0, 0, 0, 0, 0, 0, 0, 0, 0, 0, 0, 0, 0, 0, 0, 0, 0, 0, 0, 0, 0, 0, 0, 0, 0, 0, 0, 0, 0, 0, 0, 0, 0, 0, 0, 0, 0, 0, 0, 0, 0, 0, 0, 0, 0, 0, 0, 0, 0, 0, 0, 0, 0, 0, 0, 0, 0, 0, 0, 0, 0, 0, 0, 0, 0, 0, 0, 0, 0, 0, 0, 0, 0, 0, 0, 0, 0, 0, 0, 0, 0, 0, 0, 0, 0, 0, 0, 0, 0, 0, 0, 0, 0, 0, 0, 0, 0, 0, 0, 0, 0, 0, 0, 0, 0, 0, 0, 0, 0, 0, 0, 0, 0, 0, 0, 0, 0, 0, 0, 0, 0, 0, 0, 0, 0, 0, 0, 0, 0, 0, 0, 0, 0, 0, 0, 0, 0, 0, 0, 0, 0, 0, 0, 0, 0, 0, 0, 0, 0, 0, 0, 0, 0, 0, 0, 0, 0, 0, 0, 0, 0, 0, 0, 0, 0, 0, 0, 0, 0, 0, 0, 0, 0, 0, 0, 0, 0, 0, 0, 0, 0, 0, 0, 0, 0, 0, 0, 0, 0, 0, 0, 0, 0, 0, 0, 0, 0, 0, 0, 0, 0, 0, 0, 0, 0, 0, 0, 0, 0, 0, 0, 0, 0, 0, 0, 0, 0, 0, 0, 0, 0, 0, 0, 0, 0, 0, 0, 0, 0, 0, 0, 0, 0, 0, 0, 0, 0, 0, 0, 0, 0, 0, 0, 0, 0, 0, 0, 0, 0, 0, 0, 0, 0, 0, 0, 0, 0, 0, 0, 0, 0, 0, 0, 0, 0, 0, 0, 0, 0, 0, 0, 0, 0, 0, 0, 0, 0, 0, 0, 0, 0, 0, 0, 0, 0, 0, 0, 0, 0, 0, 0, 0, 0, 0, 0, 0, 0, 0, 0, 0, 0, 0, 0, 0, 0, 0, 0, 0, 0, 0, 0, 0, 0, 0, 0, 0, 0, 0, 0, 0, 0, 0, 0, 0, 0, 0, 0, 0, 0, 0, 0, 0, 0, 0, 0, 0, 0, 0]\n",
            "Tokenizing data...\n"
          ]
        },
        {
          "output_type": "stream",
          "name": "stderr",
          "text": [
            "/usr/local/lib/python3.9/dist-packages/transformers/tokenization_utils_base.py:2346: FutureWarning: The `pad_to_max_length` argument is deprecated and will be removed in a future version, use `padding=True` or `padding='longest'` to pad to the longest sequence in the batch, or use `padding='max_length'` to pad to a max length. In this case, you can give a specific length with `max_length` (e.g. `max_length=45`) or leave max_length to None to pad to the maximal input size of the model (e.g. 512 for Bert).\n",
            "  warnings.warn(\n"
          ]
        }
      ]
    },
    {
      "cell_type": "code",
      "source": [
        "from torch.utils.data import TensorDataset, DataLoader, RandomSampler, SequentialSampler\n",
        "\n",
        "# Convert other data types to torch.Tensor\n",
        "train_labels = torch.tensor(y_train-1)\n",
        "val_labels = torch.tensor(y_valid-1)\n",
        "\n",
        "# For fine-tuning BERT, the authors recommend a batch size of 16 or 32.\n",
        "batch_size = 32\n",
        "\n",
        "# Create the DataLoader for our training set\n",
        "train_data = TensorDataset(train_inputs, train_masks, train_labels)\n",
        "train_sampler = RandomSampler(train_data)\n",
        "train_dataloader = DataLoader(train_data, sampler=train_sampler, batch_size=batch_size)\n",
        "\n",
        "# Create the DataLoader for our validation set\n",
        "val_data = TensorDataset(val_inputs, val_masks, val_labels)\n",
        "val_sampler = SequentialSampler(val_data)\n",
        "val_dataloader = DataLoader(val_data, sampler=val_sampler, batch_size=batch_size)"
      ],
      "metadata": {
        "id": "IWMEtJKYLTiM"
      },
      "execution_count": null,
      "outputs": []
    },
    {
      "cell_type": "code",
      "source": [
        "%%time\n",
        "import torch\n",
        "import torch.nn as nn\n",
        "from transformers import BertModel\n",
        "\n",
        "# Create the BertClassfier class\n",
        "class BertClassifier(nn.Module):\n",
        "    \"\"\"Bert Model for Classification Tasks.\n",
        "    \"\"\"\n",
        "    def __init__(self, freeze_bert=False):\n",
        "        \"\"\"\n",
        "        @param    bert: a BertModel object\n",
        "        @param    classifier: a torch.nn.Module classifier\n",
        "        @param    freeze_bert (bool): Set `False` to fine-tune the BERT model\n",
        "        \"\"\"\n",
        "        super(BertClassifier, self).__init__()\n",
        "        # Specify hidden size of BERT, hidden size of our classifier, and number of labels\n",
        "        D_in, H, D_out = 768, 50, 5\n",
        "\n",
        "        # Instantiate BERT model\n",
        "        self.bert = BertModel.from_pretrained('bert-base-uncased')\n",
        "  \n",
        "\n",
        "        # Instantiate an one-layer feed-forward classifier\n",
        "        self.classifier = nn.Sequential(\n",
        "            nn.Linear(D_in, H),\n",
        "            nn.ReLU(),\n",
        "            #nn.Dropout(0.5),\n",
        "            nn.Linear(H, D_out)\n",
        "        )\n",
        "\n",
        "        # Freeze the BERT model\n",
        "        if freeze_bert:\n",
        "            for param in self.bert.parameters():\n",
        "                param.requires_grad = False\n",
        "        \n",
        "    def forward(self, input_ids, attention_mask):\n",
        "        \"\"\"\n",
        "        Feed input to BERT and the classifier to compute logits.\n",
        "        @param    input_ids (torch.Tensor): an input tensor with shape (batch_size,\n",
        "                      max_length)\n",
        "        @param    attention_mask (torch.Tensor): a tensor that hold attention mask\n",
        "                      information with shape (batch_size, max_length)\n",
        "        @return   logits (torch.Tensor): an output tensor with shape (batch_size,\n",
        "                      num_labels)\n",
        "        \"\"\"\n",
        "        # Feed input to BERT\n",
        "        outputs = self.bert(input_ids=input_ids,\n",
        "                            attention_mask=attention_mask)\n",
        "        \n",
        "        # Extract the last hidden state of the token `[CLS]` for classification task\n",
        "        last_hidden_state_cls = outputs[0][:, 0, :]\n",
        "\n",
        "        # Feed input to classifier to compute logits\n",
        "        logits = self.classifier(last_hidden_state_cls)\n",
        "\n",
        "        return logits"
      ],
      "metadata": {
        "colab": {
          "base_uri": "https://localhost:8080/"
        },
        "id": "gD1oZl8Nx2hH",
        "outputId": "f61193a7-ca39-452b-d611-54261d32a3eb"
      },
      "execution_count": null,
      "outputs": [
        {
          "output_type": "stream",
          "name": "stdout",
          "text": [
            "CPU times: user 68 ms, sys: 720 µs, total: 68.7 ms\n",
            "Wall time: 74.6 ms\n"
          ]
        }
      ]
    },
    {
      "cell_type": "code",
      "source": [
        "from transformers import AdamW, get_linear_schedule_with_warmup\n",
        "\n",
        "def initialize_model(epochs=4, freeze_bert = False ):\n",
        "    \"\"\"Initialize the Bert Classifier, the optimizer and the learning rate scheduler.\n",
        "    \"\"\"\n",
        "    # Instantiate Bert Classifier\n",
        "    bert_classifier = BertClassifier(freeze_bert= freeze_bert)\n",
        "\n",
        "    # Tell PyTorch to run the model on GPU\n",
        "    bert_classifier.to(device)\n",
        "    #bert_classifier\n",
        "\n",
        "    # Create the optimizer\n",
        "    optimizer = AdamW(bert_classifier.parameters(),\n",
        "                      lr=5e-5,    # Default learning rate\n",
        "                      eps=1e-8    # Default epsilon value\n",
        "                      )\n",
        "\n",
        "    # Total number of training steps\n",
        "    total_steps = len(train_dataloader) * epochs\n",
        "\n",
        "    # Set up the learning rate scheduler\n",
        "    scheduler = get_linear_schedule_with_warmup(optimizer,\n",
        "                                                num_warmup_steps=0, # Default value\n",
        "                                                num_training_steps=total_steps)\n",
        "    return bert_classifier, optimizer, scheduler"
      ],
      "metadata": {
        "id": "mo-KzAIByize"
      },
      "execution_count": null,
      "outputs": []
    },
    {
      "cell_type": "code",
      "source": [
        "import random\n",
        "import time\n",
        "\n",
        "# Specify loss function\n",
        "loss_fn = nn.CrossEntropyLoss()\n",
        "\n",
        "def set_seed(seed_value=42):\n",
        "    \"\"\"Set seed for reproducibility.\n",
        "    \"\"\"\n",
        "    random.seed(seed_value)\n",
        "    np.random.seed(seed_value)\n",
        "    torch.manual_seed(seed_value)\n",
        "    torch.cuda.manual_seed_all(seed_value)\n",
        "\n",
        "def train(model, train_dataloader, val_dataloader=None, epochs=4, evaluation=False):\n",
        "    \"\"\"Train the BertClassifier model.\n",
        "    \"\"\"\n",
        "    # Start training loop\n",
        "    print(\"Start training...\\n\")\n",
        "    best_val_loss = float('inf')\n",
        "    train_acc = []\n",
        "    train_loss_his = []\n",
        "    train_acc_his = []\n",
        "    valid_loss_his = []\n",
        "    valid_acc_his = []\n",
        "    early_stopping_threshold_count = 0\n",
        "    for epoch_i in range(epochs):\n",
        "        # =======================================\n",
        "        #               Training\n",
        "        # =======================================\n",
        "        # Print the header of the result table\n",
        "        print(f\"{'Epoch':^7} | {'Batch':^7} | {'Train Loss':^12} | {'Val Loss':^10} | {'Val Acc':^9} | {'Elapsed':^9}\")\n",
        "        print(\"-\"*70)\n",
        "\n",
        "        # Measure the elapsed time of each epoch\n",
        "        t0_epoch, t0_batch = time.time(), time.time()\n",
        "\n",
        "        # Reset tracking variables at the beginning of each epoch\n",
        "        total_loss, batch_loss, batch_counts = 0, 0, 0\n",
        "\n",
        "        # Put the model into the training mode\n",
        "        model.train()\n",
        "\n",
        "        # For each batch of training data...\n",
        "        for step, batch in enumerate(train_dataloader):\n",
        "            batch_counts +=1\n",
        "            # Load batch to GPU\n",
        "            b_input_ids, b_attn_mask, b_labels = tuple(t.to(device) for t in batch)\n",
        "            #b_input_ids, b_attn_mask, b_labels = tuple(batch)\n",
        "  \n",
        "            # Zero out any previously calculated gradients\n",
        "            model.zero_grad()\n",
        "\n",
        "            # Perform a forward pass. This will return logits.\n",
        "            logits = model(b_input_ids, b_attn_mask)\n",
        "\n",
        "            # Compute loss and accumulate the loss values\n",
        "            loss = loss_fn(logits, b_labels)\n",
        "            batch_loss += loss.item()\n",
        "            total_loss += loss.item()\n",
        "\n",
        "            # Perform a backward pass to calculate gradients\n",
        "            loss.backward()\n",
        "\n",
        "            # Clip the norm of the gradients to 1.0 to prevent \"exploding gradients\"\n",
        "            torch.nn.utils.clip_grad_norm_(model.parameters(), 1.0)\n",
        "\n",
        "            # Update parameters and the learning rate\n",
        "            optimizer.step()\n",
        "            scheduler.step()\n",
        "\n",
        "            #Calculate train accuracy\n",
        "            output = torch.argmax(logits, dim=1).flatten()\n",
        "            accuracy = (output == b_labels).cpu().numpy().sum()\n",
        "            \n",
        "\n",
        "            # Print the loss values and time elapsed for every 20 batches\n",
        "            if (step % 20 == 0 and step != 0) or (step == len(train_dataloader) - 1):\n",
        "                # Calculate time elapsed for 20 batches\n",
        "                time_elapsed = time.time() - t0_batch\n",
        "\n",
        "                # Print training results\n",
        "                print(f\"{epoch_i + 1:^7} | {step:^7} | {batch_loss / batch_counts:^12.6f} | {'-':^10} | {'-':^9} | {time_elapsed:^9.2f}\")\n",
        "\n",
        "                # Reset batch tracking variables\n",
        "                batch_loss, batch_counts = 0, 0\n",
        "                t0_batch = time.time()\n",
        "        \n",
        "        \n",
        "        # Calculate the average loss over the entire training data\n",
        "        avg_train_loss = total_loss / len(train_dataloader)\n",
        "        train_loss_his.append(avg_train_loss)\n",
        "        \n",
        "        train_acc = accuracy / len(train_dataloader)\n",
        "        train_acc_his.append(train_acc)\n",
        "\n",
        "        print(\"-\"*70)\n",
        "        # =======================================\n",
        "        #               Evaluation\n",
        "        # =======================================\n",
        "        if evaluation == True:\n",
        "            # After the completion of each training epoch, measure the model's performance\n",
        "            # on our validation set.\n",
        "            val_loss, val_accuracy, y_true, y_pred, best_val_loss, early_stopping_threshold_count = evaluate(model, val_dataloader, best_val_loss, early_stopping_threshold_count)\n",
        "            valid_loss_his.append(val_loss)\n",
        "            valid_acc_his.append(val_accuracy)\n",
        "            # Print performance over the entire training data\n",
        "            time_elapsed = time.time() - t0_epoch\n",
        "            \n",
        "            print(f\"{epoch_i + 1:^7} | {'-':^7} | {avg_train_loss:^12.6f} | {val_loss:^10.6f} | {val_accuracy:^9.2f} | {time_elapsed:^9.2f}\")\n",
        "            print(\"-\"*70)\n",
        "        print(\"\\n\")\n",
        "        if early_stopping_threshold_count >= 1:\n",
        "          print(\"Early stopping\")\n",
        "          break\n",
        "    \n",
        "    print(\"Training complete!\")\n",
        "    return y_true, y_pred, train_loss_his, train_acc_his, valid_loss_his, valid_acc_his\n",
        "\n",
        "\n",
        "def evaluate(model, val_dataloader, best_val_loss, early_stopping_threshold_count):\n",
        "    \"\"\"After the completion of each training epoch, measure the model's performance\n",
        "    on our validation set.\n",
        "    \"\"\"\n",
        "    # Put the model into the evaluation mode. The dropout layers are disabled during\n",
        "    # the test time.\n",
        "    model.eval()\n",
        "\n",
        "    # Tracking variables\n",
        "    val_accuracy = []\n",
        "    val_loss = []\n",
        "\n",
        "    y_pred = []\n",
        "    y_true = []\n",
        "\n",
        "    with torch.no_grad():\n",
        "      total_loss_val = 0\n",
        "\n",
        "    # For each batch in our validation set...\n",
        "    for batch in val_dataloader:\n",
        "        # Load batch to GPU\n",
        "        b_input_ids, b_attn_mask, b_labels = tuple(t.to(device) for t in batch)\n",
        "        #b_input_ids, b_attn_mask, b_labels = tuple(batch)\n",
        "\n",
        "        # Compute logits\n",
        "        with torch.no_grad():\n",
        "            logits = model(b_input_ids, b_attn_mask)\n",
        "\n",
        "        # Compute loss\n",
        "        loss = loss_fn(logits, b_labels)\n",
        "        val_loss.append(loss.item())\n",
        "\n",
        "        # Get the predictions\n",
        "        preds = torch.argmax(logits, dim=1).flatten()\n",
        "\n",
        "        # Calculate the accuracy rate\n",
        "        accuracy = (preds == b_labels).cpu().numpy().mean() * 100\n",
        "       \n",
        "        val_accuracy.append(accuracy)\n",
        "\n",
        "        y_true += b_labels.tolist()\n",
        "        y_pred += preds\n",
        "        total_loss_val += loss.item()\n",
        "\n",
        "    if best_val_loss > total_loss_val:\n",
        "        best_val_loss = total_loss_val\n",
        "        torch.save(model, f\"/content/drive/MyDrive/comp4332/Project 1/best_bert_model_1.pt\")\n",
        "        print(\"Saved model\")\n",
        "        early_stopping_threshold_count = 0\n",
        "    else:\n",
        "        early_stopping_threshold_count += 1\n",
        "                \n",
        "\n",
        "    # Compute the average accuracy and loss over the validation set.\n",
        "    val_loss = np.mean(val_loss)\n",
        "    val_accuracy = np.mean(val_accuracy)\n",
        "\n",
        "    return val_loss, val_accuracy, y_true, y_pred, best_val_loss, early_stopping_threshold_count"
      ],
      "metadata": {
        "id": "IXKdqmNeyzBb"
      },
      "execution_count": null,
      "outputs": []
    },
    {
      "cell_type": "code",
      "source": [
        "set_seed(42)    # Set seed for reproducibility\n",
        "bert_classifier, optimizer, scheduler = initialize_model(epochs=3, freeze_bert = True)\n",
        "y_true, y_pred, train_loss_his, train_acc_his, valid_loss_his, valid_acc_his = train(bert_classifier, train_dataloader, val_dataloader, epochs=3, evaluation=True)"
      ],
      "metadata": {
        "colab": {
          "base_uri": "https://localhost:8080/"
        },
        "id": "1zOm7SgtzCQf",
        "outputId": "cbdadac4-01af-40dc-a0ca-e386e00553d7"
      },
      "execution_count": null,
      "outputs": [
        {
          "output_type": "stream",
          "name": "stderr",
          "text": [
            "Some weights of the model checkpoint at bert-base-uncased were not used when initializing BertModel: ['cls.predictions.transform.dense.bias', 'cls.predictions.transform.dense.weight', 'cls.predictions.bias', 'cls.predictions.transform.LayerNorm.weight', 'cls.seq_relationship.weight', 'cls.predictions.decoder.weight', 'cls.seq_relationship.bias', 'cls.predictions.transform.LayerNorm.bias']\n",
            "- This IS expected if you are initializing BertModel from the checkpoint of a model trained on another task or with another architecture (e.g. initializing a BertForSequenceClassification model from a BertForPreTraining model).\n",
            "- This IS NOT expected if you are initializing BertModel from the checkpoint of a model that you expect to be exactly identical (initializing a BertForSequenceClassification model from a BertForSequenceClassification model).\n"
          ]
        },
        {
          "output_type": "stream",
          "name": "stdout",
          "text": [
            "Start training...\n",
            "\n",
            " Epoch  |  Batch  |  Train Loss  |  Val Loss  |  Val Acc  |  Elapsed \n",
            "----------------------------------------------------------------------\n",
            "   1    |   20    |   1.608202   |     -      |     -     |   4.87   \n",
            "   1    |   40    |   1.524683   |     -      |     -     |   4.62   \n",
            "   1    |   60    |   1.490517   |     -      |     -     |   4.62   \n",
            "   1    |   80    |   1.442866   |     -      |     -     |   4.61   \n",
            "   1    |   100   |   1.441232   |     -      |     -     |   4.62   \n",
            "   1    |   120   |   1.390112   |     -      |     -     |   4.62   \n",
            "   1    |   140   |   1.353363   |     -      |     -     |   4.61   \n",
            "   1    |   156   |   1.396969   |     -      |     -     |   3.53   \n",
            "----------------------------------------------------------------------\n",
            "   1    |    -    |   1.458466   |  1.370692  |   44.64   |   49.66  \n",
            "----------------------------------------------------------------------\n",
            "\n",
            "\n",
            " Epoch  |  Batch  |  Train Loss  |  Val Loss  |  Val Acc  |  Elapsed \n",
            "----------------------------------------------------------------------\n",
            "   2    |   20    |   1.390551   |     -      |     -     |   4.85   \n",
            "   2    |   40    |   1.315491   |     -      |     -     |   4.62   \n",
            "   2    |   60    |   1.341411   |     -      |     -     |   4.62   \n",
            "   2    |   80    |   1.354607   |     -      |     -     |   4.61   \n",
            "   2    |   100   |   1.351053   |     -      |     -     |   4.62   \n",
            "   2    |   120   |   1.293525   |     -      |     -     |   4.62   \n",
            "   2    |   140   |   1.334237   |     -      |     -     |   4.61   \n",
            "   2    |   156   |   1.354169   |     -      |     -     |   3.53   \n",
            "----------------------------------------------------------------------\n",
            "   2    |    -    |   1.341877   |  1.314651  |   44.69   |   49.62  \n",
            "----------------------------------------------------------------------\n",
            "\n",
            "\n",
            " Epoch  |  Batch  |  Train Loss  |  Val Loss  |  Val Acc  |  Elapsed \n",
            "----------------------------------------------------------------------\n",
            "   3    |   20    |   1.316111   |     -      |     -     |   4.85   \n",
            "   3    |   40    |   1.300870   |     -      |     -     |   4.62   \n",
            "   3    |   60    |   1.298565   |     -      |     -     |   4.61   \n",
            "   3    |   80    |   1.332601   |     -      |     -     |   4.61   \n",
            "   3    |   100   |   1.319680   |     -      |     -     |   4.62   \n",
            "   3    |   120   |   1.328912   |     -      |     -     |   4.61   \n",
            "   3    |   140   |   1.279129   |     -      |     -     |   4.61   \n",
            "   3    |   156   |   1.283548   |     -      |     -     |   3.53   \n",
            "----------------------------------------------------------------------\n",
            "   3    |    -    |   1.308091   |  1.298402  |   44.89   |   49.61  \n",
            "----------------------------------------------------------------------\n",
            "\n",
            "\n",
            "Training complete!\n"
          ]
        }
      ]
    },
    {
      "cell_type": "code",
      "source": [
        "y_pred = [t.cpu().numpy() for t in y_pred]\n",
        "print(classification_report(y_true, y_pred))\n",
        "print(\"\\n\\n\")\n",
        "print(confusion_matrix(y_true, y_pred))"
      ],
      "metadata": {
        "colab": {
          "base_uri": "https://localhost:8080/"
        },
        "id": "buL3rtmDw8ub",
        "outputId": "91875665-5482-4f8c-d2c6-190a5eed32c5"
      },
      "execution_count": null,
      "outputs": [
        {
          "output_type": "stream",
          "name": "stdout",
          "text": [
            "              precision    recall  f1-score   support\n",
            "\n",
            "           0       1.00      0.02      0.03       292\n",
            "           1       0.00      0.00      0.00       163\n",
            "           2       0.00      0.00      0.00       232\n",
            "           3       0.00      0.00      0.00       421\n",
            "           4       0.45      1.00      0.62       892\n",
            "\n",
            "    accuracy                           0.45      2000\n",
            "   macro avg       0.29      0.20      0.13      2000\n",
            "weighted avg       0.35      0.45      0.28      2000\n",
            "\n",
            "\n",
            "\n",
            "\n",
            "[[  5   0   0   0 287]\n",
            " [  0   0   0   0 163]\n",
            " [  0   0   0   0 232]\n",
            " [  0   0   0   0 421]\n",
            " [  0   0   0   0 892]]\n"
          ]
        },
        {
          "output_type": "stream",
          "name": "stderr",
          "text": [
            "/usr/local/lib/python3.9/dist-packages/sklearn/metrics/_classification.py:1344: UndefinedMetricWarning: Precision and F-score are ill-defined and being set to 0.0 in labels with no predicted samples. Use `zero_division` parameter to control this behavior.\n",
            "  _warn_prf(average, modifier, msg_start, len(result))\n",
            "/usr/local/lib/python3.9/dist-packages/sklearn/metrics/_classification.py:1344: UndefinedMetricWarning: Precision and F-score are ill-defined and being set to 0.0 in labels with no predicted samples. Use `zero_division` parameter to control this behavior.\n",
            "  _warn_prf(average, modifier, msg_start, len(result))\n",
            "/usr/local/lib/python3.9/dist-packages/sklearn/metrics/_classification.py:1344: UndefinedMetricWarning: Precision and F-score are ill-defined and being set to 0.0 in labels with no predicted samples. Use `zero_division` parameter to control this behavior.\n",
            "  _warn_prf(average, modifier, msg_start, len(result))\n"
          ]
        }
      ]
    },
    {
      "cell_type": "code",
      "source": [
        "set_seed(42)    # Set seed for reproducibility\n",
        "bert_classifier, optimizer, scheduler = initialize_model(epochs=10, freeze_bert = True)\n",
        "y_true, y_pred, train_loss_his_freeze, train_acc_his_freeze, valid_loss_his_freeze, valid_acc_his_freeze = train(bert_classifier, train_dataloader, val_dataloader, epochs=10, evaluation=True)"
      ],
      "metadata": {
        "colab": {
          "base_uri": "https://localhost:8080/"
        },
        "id": "c6d5UadMCv0B",
        "outputId": "20a402bc-b95e-4f49-ffcd-e26545214b73"
      },
      "execution_count": null,
      "outputs": [
        {
          "output_type": "stream",
          "name": "stderr",
          "text": [
            "Some weights of the model checkpoint at bert-base-uncased were not used when initializing BertModel: ['cls.predictions.transform.LayerNorm.weight', 'cls.seq_relationship.bias', 'cls.predictions.transform.dense.weight', 'cls.predictions.transform.dense.bias', 'cls.seq_relationship.weight', 'cls.predictions.transform.LayerNorm.bias', 'cls.predictions.bias', 'cls.predictions.decoder.weight']\n",
            "- This IS expected if you are initializing BertModel from the checkpoint of a model trained on another task or with another architecture (e.g. initializing a BertForSequenceClassification model from a BertForPreTraining model).\n",
            "- This IS NOT expected if you are initializing BertModel from the checkpoint of a model that you expect to be exactly identical (initializing a BertForSequenceClassification model from a BertForSequenceClassification model).\n",
            "/usr/local/lib/python3.9/dist-packages/transformers/optimization.py:391: FutureWarning: This implementation of AdamW is deprecated and will be removed in a future version. Use the PyTorch implementation torch.optim.AdamW instead, or set `no_deprecation_warning=True` to disable this warning\n",
            "  warnings.warn(\n"
          ]
        },
        {
          "output_type": "stream",
          "name": "stdout",
          "text": [
            "Start training...\n",
            "\n",
            " Epoch  |  Batch  |  Train Loss  |  Val Loss  |  Val Acc  |  Elapsed \n",
            "----------------------------------------------------------------------\n",
            "   1    |   20    |   1.608362   |     -      |     -     |   22.05  \n",
            "   1    |   40    |   1.521587   |     -      |     -     |   21.79  \n",
            "   1    |   60    |   1.485709   |     -      |     -     |   22.74  \n",
            "   1    |   80    |   1.435726   |     -      |     -     |   22.68  \n",
            "   1    |   100   |   1.431415   |     -      |     -     |   22.15  \n",
            "   1    |   120   |   1.382351   |     -      |     -     |   22.19  \n",
            "   1    |   140   |   1.341588   |     -      |     -     |   22.51  \n",
            "   1    |   156   |   1.390833   |     -      |     -     |   17.14  \n",
            "----------------------------------------------------------------------\n",
            "Saved model\n",
            "   1    |    -    |   1.452207   |  1.359268  |   44.64   |  241.41  \n",
            "----------------------------------------------------------------------\n",
            "\n",
            "\n",
            " Epoch  |  Batch  |  Train Loss  |  Val Loss  |  Val Acc  |  Elapsed \n",
            "----------------------------------------------------------------------\n",
            "   2    |   20    |   1.376042   |     -      |     -     |   23.54  \n",
            "   2    |   40    |   1.300297   |     -      |     -     |   22.43  \n",
            "   2    |   60    |   1.315824   |     -      |     -     |   22.41  \n",
            "   2    |   80    |   1.327151   |     -      |     -     |   22.42  \n",
            "   2    |   100   |   1.314159   |     -      |     -     |   22.37  \n",
            "   2    |   120   |   1.255986   |     -      |     -     |   22.34  \n",
            "   2    |   140   |   1.299768   |     -      |     -     |   22.47  \n",
            "   2    |   156   |   1.308905   |     -      |     -     |   17.07  \n",
            "----------------------------------------------------------------------\n",
            "Saved model\n",
            "   2    |    -    |   1.312758   |  1.264985  |   45.88   |  243.26  \n",
            "----------------------------------------------------------------------\n",
            "\n",
            "\n",
            " Epoch  |  Batch  |  Train Loss  |  Val Loss  |  Val Acc  |  Elapsed \n",
            "----------------------------------------------------------------------\n",
            "   3    |   20    |   1.270717   |     -      |     -     |   23.44  \n",
            "   3    |   40    |   1.252061   |     -      |     -     |   22.29  \n",
            "   3    |   60    |   1.242165   |     -      |     -     |   22.34  \n",
            "   3    |   80    |   1.276091   |     -      |     -     |   22.37  \n",
            "   3    |   100   |   1.248831   |     -      |     -     |   22.38  \n",
            "   3    |   120   |   1.254541   |     -      |     -     |   22.39  \n",
            "   3    |   140   |   1.201592   |     -      |     -     |   22.43  \n",
            "   3    |   156   |   1.203398   |     -      |     -     |   17.13  \n",
            "----------------------------------------------------------------------\n",
            "Saved model\n",
            "   3    |    -    |   1.244873   |  1.203606  |   49.26   |  242.98  \n",
            "----------------------------------------------------------------------\n",
            "\n",
            "\n",
            " Epoch  |  Batch  |  Train Loss  |  Val Loss  |  Val Acc  |  Elapsed \n",
            "----------------------------------------------------------------------\n",
            "   4    |   20    |   1.200823   |     -      |     -     |   23.55  \n",
            "   4    |   40    |   1.217199   |     -      |     -     |   22.44  \n",
            "   4    |   60    |   1.211873   |     -      |     -     |   22.36  \n",
            "   4    |   80    |   1.240530   |     -      |     -     |   22.37  \n",
            "   4    |   100   |   1.143539   |     -      |     -     |   22.35  \n",
            "   4    |   120   |   1.176359   |     -      |     -     |   22.38  \n",
            "   4    |   140   |   1.186820   |     -      |     -     |   22.31  \n",
            "   4    |   156   |   1.172803   |     -      |     -     |   17.05  \n",
            "----------------------------------------------------------------------\n",
            "Saved model\n",
            "   4    |    -    |   1.194322   |  1.161181  |   51.88   |  243.25  \n",
            "----------------------------------------------------------------------\n",
            "\n",
            "\n",
            " Epoch  |  Batch  |  Train Loss  |  Val Loss  |  Val Acc  |  Elapsed \n",
            "----------------------------------------------------------------------\n",
            "   5    |   20    |   1.158678   |     -      |     -     |   23.42  \n",
            "   5    |   40    |   1.181552   |     -      |     -     |   22.43  \n",
            "   5    |   60    |   1.171135   |     -      |     -     |   22.41  \n",
            "   5    |   80    |   1.152994   |     -      |     -     |   22.33  \n",
            "   5    |   100   |   1.166743   |     -      |     -     |   22.38  \n",
            "   5    |   120   |   1.156360   |     -      |     -     |   22.40  \n",
            "   5    |   140   |   1.148169   |     -      |     -     |   22.45  \n",
            "   5    |   156   |   1.148006   |     -      |     -     |   17.10  \n",
            "----------------------------------------------------------------------\n",
            "Saved model\n",
            "   5    |    -    |   1.160761   |  1.130758  |   53.37   |  243.12  \n",
            "----------------------------------------------------------------------\n",
            "\n",
            "\n",
            " Epoch  |  Batch  |  Train Loss  |  Val Loss  |  Val Acc  |  Elapsed \n",
            "----------------------------------------------------------------------\n",
            "   6    |   20    |   1.173178   |     -      |     -     |   23.52  \n",
            "   6    |   40    |   1.155787   |     -      |     -     |   22.47  \n",
            "   6    |   60    |   1.130488   |     -      |     -     |   22.45  \n",
            "   6    |   80    |   1.094525   |     -      |     -     |   22.37  \n",
            "   6    |   100   |   1.143366   |     -      |     -     |   22.33  \n",
            "   6    |   120   |   1.124216   |     -      |     -     |   22.37  \n",
            "   6    |   140   |   1.128708   |     -      |     -     |   22.44  \n",
            "   6    |   156   |   1.165462   |     -      |     -     |   17.12  \n",
            "----------------------------------------------------------------------\n",
            "Saved model\n",
            "   6    |    -    |   1.139019   |  1.108250  |   54.76   |  243.59  \n",
            "----------------------------------------------------------------------\n",
            "\n",
            "\n",
            " Epoch  |  Batch  |  Train Loss  |  Val Loss  |  Val Acc  |  Elapsed \n",
            "----------------------------------------------------------------------\n",
            "   7    |   20    |   1.146431   |     -      |     -     |   23.44  \n",
            "   7    |   40    |   1.105134   |     -      |     -     |   22.32  \n",
            "   7    |   60    |   1.123357   |     -      |     -     |   22.40  \n",
            "   7    |   80    |   1.129385   |     -      |     -     |   22.48  \n",
            "   7    |   100   |   1.099351   |     -      |     -     |   22.44  \n",
            "   7    |   120   |   1.100140   |     -      |     -     |   22.33  \n",
            "   7    |   140   |   1.151246   |     -      |     -     |   22.41  \n",
            "   7    |   156   |   1.080380   |     -      |     -     |   17.14  \n",
            "----------------------------------------------------------------------\n",
            "Saved model\n",
            "   7    |    -    |   1.118047   |  1.091592  |   55.85   |  243.20  \n",
            "----------------------------------------------------------------------\n",
            "\n",
            "\n",
            " Epoch  |  Batch  |  Train Loss  |  Val Loss  |  Val Acc  |  Elapsed \n",
            "----------------------------------------------------------------------\n",
            "   8    |   20    |   1.088375   |     -      |     -     |   23.54  \n",
            "   8    |   40    |   1.097187   |     -      |     -     |   22.47  \n",
            "   8    |   60    |   1.096630   |     -      |     -     |   22.45  \n",
            "   8    |   80    |   1.101808   |     -      |     -     |   22.30  \n",
            "   8    |   100   |   1.130313   |     -      |     -     |   22.38  \n",
            "   8    |   120   |   1.131274   |     -      |     -     |   22.39  \n",
            "   8    |   140   |   1.106512   |     -      |     -     |   22.37  \n",
            "   8    |   156   |   1.087114   |     -      |     -     |   17.04  \n",
            "----------------------------------------------------------------------\n",
            "Saved model\n",
            "   8    |    -    |   1.105250   |  1.080098  |   56.35   |  243.21  \n",
            "----------------------------------------------------------------------\n",
            "\n",
            "\n",
            " Epoch  |  Batch  |  Train Loss  |  Val Loss  |  Val Acc  |  Elapsed \n",
            "----------------------------------------------------------------------\n",
            "   9    |   20    |   1.094779   |     -      |     -     |   23.53  \n",
            "   9    |   40    |   1.103729   |     -      |     -     |   22.40  \n",
            "   9    |   60    |   1.117646   |     -      |     -     |   22.39  \n",
            "   9    |   80    |   1.076270   |     -      |     -     |   22.38  \n",
            "   9    |   100   |   1.108303   |     -      |     -     |   22.43  \n",
            "   9    |   120   |   1.070655   |     -      |     -     |   22.46  \n",
            "   9    |   140   |   1.110207   |     -      |     -     |   22.44  \n",
            "   9    |   156   |   1.094195   |     -      |     -     |   17.13  \n",
            "----------------------------------------------------------------------\n",
            "Saved model\n",
            "   9    |    -    |   1.097030   |  1.072941  |   56.65   |  243.37  \n",
            "----------------------------------------------------------------------\n",
            "\n",
            "\n",
            " Epoch  |  Batch  |  Train Loss  |  Val Loss  |  Val Acc  |  Elapsed \n",
            "----------------------------------------------------------------------\n",
            "  10    |   20    |   1.098826   |     -      |     -     |   23.43  \n",
            "  10    |   40    |   1.063524   |     -      |     -     |   22.47  \n",
            "  10    |   60    |   1.081403   |     -      |     -     |   22.38  \n",
            "  10    |   80    |   1.099414   |     -      |     -     |   22.34  \n",
            "  10    |   100   |   1.132334   |     -      |     -     |   22.45  \n",
            "  10    |   120   |   1.108741   |     -      |     -     |   22.43  \n",
            "  10    |   140   |   1.067998   |     -      |     -     |   22.42  \n",
            "  10    |   156   |   1.088604   |     -      |     -     |   17.12  \n",
            "----------------------------------------------------------------------\n",
            "Saved model\n",
            "  10    |    -    |   1.092747   |  1.070096  |   56.99   |  243.25  \n",
            "----------------------------------------------------------------------\n",
            "\n",
            "\n",
            "Training complete!\n"
          ]
        }
      ]
    },
    {
      "cell_type": "code",
      "source": [
        "print(\"train_loss_his:\",train_loss_his_freeze)\n",
        "print(\"train_acc_his:\",train_acc_his_freeze)\n",
        "print(\"valid_loss_his:\",valid_loss_his_freeze)\n",
        "print(\"valid_acc_his:\",valid_acc_his_freeze)"
      ],
      "metadata": {
        "colab": {
          "base_uri": "https://localhost:8080/"
        },
        "id": "at5IguO28Vw2",
        "outputId": "f94de619-255d-484e-db39-2f8b6aee587b"
      },
      "execution_count": null,
      "outputs": [
        {
          "output_type": "stream",
          "name": "stdout",
          "text": [
            "train_loss_his: [1.452206990521425, 1.3127583010940795, 1.2448728388282144, 1.1943219193987027, 1.1607605993368064, 1.1390186236922148, 1.118046912797697, 1.1052495036155554, 1.0970297258371, 1.0927470531433252]\n",
            "train_acc_his: [41.222133757961785, 43.11305732484077, 44.69214437367304, 46.357484076433124, 47.738853503184714, 48.84885881104034, 49.806642402183805, 50.574741242038215, 51.20753715498938, 51.67794585987261]\n",
            "valid_loss_his: [1.3592679141059754, 1.2649845906666346, 1.203606439015222, 1.1611814451596094, 1.1307576336557903, 1.1082498563660517, 1.0915917792017498, 1.0800976459942166, 1.072940693015144, 1.0700956583023071]\n",
            "valid_acc_his: [44.642857142857146, 45.882936507936506, 49.25595238095238, 51.88492063492063, 53.37301587301587, 54.76190476190476, 55.8531746031746, 56.34920634920635, 56.6468253968254, 56.99404761904762]\n"
          ]
        }
      ]
    },
    {
      "cell_type": "code",
      "source": [
        "y_pred = [t.cpu().numpy() for t in y_pred]\n",
        "print(classification_report(y_true, y_pred))\n",
        "print(\"\\n\\n\")\n",
        "print(confusion_matrix(y_true, y_pred))"
      ],
      "metadata": {
        "colab": {
          "base_uri": "https://localhost:8080/"
        },
        "id": "kVr6VX6_Djm9",
        "outputId": "7166a23f-7786-4844-a86b-4d529610ca56"
      },
      "execution_count": null,
      "outputs": [
        {
          "output_type": "stream",
          "name": "stdout",
          "text": [
            "              precision    recall  f1-score   support\n",
            "\n",
            "           0       0.66      0.66      0.66       292\n",
            "           1       0.00      0.00      0.00       163\n",
            "           2       0.00      0.00      0.00       232\n",
            "           3       0.32      0.23      0.27       421\n",
            "           4       0.60      0.95      0.74       892\n",
            "\n",
            "    accuracy                           0.57      2000\n",
            "   macro avg       0.32      0.37      0.33      2000\n",
            "weighted avg       0.43      0.57      0.48      2000\n",
            "\n",
            "\n",
            "\n",
            "\n",
            "[[192   0   0  15  85]\n",
            " [ 56   0   0  50  57]\n",
            " [ 24   0   0 109  99]\n",
            " [  9   0   0  98 314]\n",
            " [  9   0   0  35 848]]\n"
          ]
        },
        {
          "output_type": "stream",
          "name": "stderr",
          "text": [
            "/usr/local/lib/python3.9/dist-packages/sklearn/metrics/_classification.py:1344: UndefinedMetricWarning: Precision and F-score are ill-defined and being set to 0.0 in labels with no predicted samples. Use `zero_division` parameter to control this behavior.\n",
            "  _warn_prf(average, modifier, msg_start, len(result))\n",
            "/usr/local/lib/python3.9/dist-packages/sklearn/metrics/_classification.py:1344: UndefinedMetricWarning: Precision and F-score are ill-defined and being set to 0.0 in labels with no predicted samples. Use `zero_division` parameter to control this behavior.\n",
            "  _warn_prf(average, modifier, msg_start, len(result))\n",
            "/usr/local/lib/python3.9/dist-packages/sklearn/metrics/_classification.py:1344: UndefinedMetricWarning: Precision and F-score are ill-defined and being set to 0.0 in labels with no predicted samples. Use `zero_division` parameter to control this behavior.\n",
            "  _warn_prf(average, modifier, msg_start, len(result))\n"
          ]
        }
      ]
    },
    {
      "cell_type": "code",
      "source": [
        "plt.figure(figsize=(10,4))\n",
        "plt.subplot(1,2,1)\n",
        "\n",
        "plt.plot(train_loss_his_freeze, label=\"BERT-training\", color=\"blue\")\n",
        "plt.plot(valid_loss_his_freeze, label=\"BERT-validation\", color=\"yellow\")\n",
        "plt.xlabel(\"Iteration\")\n",
        "plt.ylabel(\"Loss\")\n",
        "plt.legend()\n",
        "\n",
        "plt.subplot(1,2,2)\n",
        "plt.plot(train_acc_his_freeze, label=\"BERT-training-accu\", color=\"blue\")\n",
        "plt.plot(valid_acc_his_freeze, label=\"BERT-validation-accu\", color=\"yellow\")\n",
        "plt.xlabel(\"Iteration\")\n",
        "plt.ylabel(\"Accuracy\")\n",
        "plt.legend()\n",
        "plt.show()"
      ],
      "metadata": {
        "colab": {
          "base_uri": "https://localhost:8080/",
          "height": 388
        },
        "id": "H941s4J2-dF7",
        "outputId": "6230e75a-7a82-456c-f4b6-db0230765916"
      },
      "execution_count": null,
      "outputs": [
        {
          "output_type": "display_data",
          "data": {
            "text/plain": [
              "<Figure size 1000x400 with 2 Axes>"
            ],
            "image/png": "[encoded data removed]"
          },
          "metadata": {}
        }
      ]
    },
    {
      "cell_type": "markdown",
      "source": [
        "#Fintune Bert\n",
        "We use the default value of bert_freeze which is to enable the fintune "
      ],
      "metadata": {
        "id": "G9YcGyz-v_Di"
      }
    },
    {
      "cell_type": "code",
      "source": [
        "set_seed(42)    # Set seed for reproducibility\n",
        "bert_classifier, optimizer, scheduler = initialize_model(epochs=15)\n",
        "y_true, y_pred = train(bert_classifier, train_dataloader, val_dataloader, epochs=15, evaluation=True)\n",
        "y_pred = [t.cpu().numpy() for t in y_pred]\n",
        "print(classification_report(y_true, y_pred))\n",
        "print(\"\\n\\n\")\n",
        "print(confusion_matrix(y_true, y_pred))"
      ],
      "metadata": {
        "colab": {
          "base_uri": "https://localhost:8080/",
          "height": 1000,
          "referenced_widgets": [
            "97e0b8c5eeec43d9b125da7cc1d5a31a",
            "b1fba09c232b4ed49c594ccaf9359287",
            "cfceb15bf3c5460c87884287c1431966",
            "7359a3e16a23486488b097818e6d45e9",
            "e04d046e3ce845e6b1830174d1f318ac",
            "f7a6bc972c3b47c6a6874e312073634d",
            "5cc9f72012154d7aac5cb8a9eddf3b8e",
            "ee00e5550b074b10a22f9232994e1a88",
            "0cdc8d3d265c4a72b5e487eb0e561423",
            "9d93b0d5266d4db39dab40feca2c334e",
            "5af078a9a2cd4f2e965c6109b8e2b4d9"
          ]
        },
        "id": "i70EkKwWGlvu",
        "outputId": "21236f3e-b6a3-492d-dd50-6642677ef4e7"
      },
      "execution_count": null,
      "outputs": [
        {
          "output_type": "display_data",
          "data": {
            "text/plain": [
              "Downloading pytorch_model.bin:   0%|          | 0.00/440M [00:00<?, ?B/s]"
            ],
            "application/vnd.jupyter.widget-view+json": {
              "version_major": 2,
              "version_minor": 0,
              "model_id": "97e0b8c5eeec43d9b125da7cc1d5a31a"
            }
          },
          "metadata": {}
        },
        {
          "output_type": "stream",
          "name": "stderr",
          "text": [
            "Some weights of the model checkpoint at bert-base-uncased were not used when initializing BertModel: ['cls.predictions.bias', 'cls.seq_relationship.bias', 'cls.predictions.transform.LayerNorm.weight', 'cls.seq_relationship.weight', 'cls.predictions.transform.dense.weight', 'cls.predictions.decoder.weight', 'cls.predictions.transform.LayerNorm.bias', 'cls.predictions.transform.dense.bias']\n",
            "- This IS expected if you are initializing BertModel from the checkpoint of a model trained on another task or with another architecture (e.g. initializing a BertForSequenceClassification model from a BertForPreTraining model).\n",
            "- This IS NOT expected if you are initializing BertModel from the checkpoint of a model that you expect to be exactly identical (initializing a BertForSequenceClassification model from a BertForSequenceClassification model).\n",
            "/usr/local/lib/python3.9/dist-packages/transformers/optimization.py:391: FutureWarning: This implementation of AdamW is deprecated and will be removed in a future version. Use the PyTorch implementation torch.optim.AdamW instead, or set `no_deprecation_warning=True` to disable this warning\n",
            "  warnings.warn(\n"
          ]
        },
        {
          "output_type": "stream",
          "name": "stdout",
          "text": [
            "Start training...\n",
            "\n",
            " Epoch  |  Batch  |  Train Loss  |  Val Loss  |  Val Acc  |  Elapsed \n",
            "----------------------------------------------------------------------\n",
            "   1    |   20    |   1.333936   |     -      |     -     |   17.46  \n",
            "   1    |   40    |   1.014640   |     -      |     -     |   13.66  \n",
            "   1    |   60    |   0.934705   |     -      |     -     |   13.67  \n",
            "   1    |   80    |   0.907420   |     -      |     -     |   13.65  \n",
            "   1    |   100   |   0.870264   |     -      |     -     |   13.65  \n",
            "   1    |   120   |   0.822011   |     -      |     -     |   13.66  \n",
            "   1    |   140   |   0.854207   |     -      |     -     |   13.65  \n",
            "   1    |   156   |   0.838340   |     -      |     -     |   10.44  \n",
            "----------------------------------------------------------------------\n",
            "   1    |    -    |   0.952172   |  0.772737  |   67.41   |  123.35  \n",
            "----------------------------------------------------------------------\n",
            "\n",
            "\n",
            " Epoch  |  Batch  |  Train Loss  |  Val Loss  |  Val Acc  |  Elapsed \n",
            "----------------------------------------------------------------------\n",
            "   2    |   20    |   0.681381   |     -      |     -     |   14.34  \n",
            "   2    |   40    |   0.652311   |     -      |     -     |   13.65  \n",
            "   2    |   60    |   0.714333   |     -      |     -     |   13.66  \n",
            "   2    |   80    |   0.704846   |     -      |     -     |   13.66  \n",
            "   2    |   100   |   0.681886   |     -      |     -     |   13.66  \n",
            "   2    |   120   |   0.653827   |     -      |     -     |   13.66  \n",
            "   2    |   140   |   0.689429   |     -      |     -     |   13.65  \n",
            "   2    |   156   |   0.657643   |     -      |     -     |   10.45  \n",
            "----------------------------------------------------------------------\n",
            "   2    |    -    |   0.680025   |  0.758455  |   69.25   |  120.26  \n",
            "----------------------------------------------------------------------\n",
            "\n",
            "\n",
            " Epoch  |  Batch  |  Train Loss  |  Val Loss  |  Val Acc  |  Elapsed \n",
            "----------------------------------------------------------------------\n",
            "   3    |   20    |   0.507722   |     -      |     -     |   14.34  \n",
            "   3    |   40    |   0.474875   |     -      |     -     |   13.65  \n",
            "   3    |   60    |   0.546389   |     -      |     -     |   13.65  \n",
            "   3    |   80    |   0.522487   |     -      |     -     |   13.66  \n",
            "   3    |   100   |   0.453886   |     -      |     -     |   13.65  \n",
            "   3    |   120   |   0.467401   |     -      |     -     |   13.66  \n",
            "   3    |   140   |   0.487872   |     -      |     -     |   13.65  \n",
            "   3    |   156   |   0.489521   |     -      |     -     |   10.44  \n",
            "----------------------------------------------------------------------\n",
            "   3    |    -    |   0.493966   |  0.795445  |   68.85   |  120.22  \n",
            "----------------------------------------------------------------------\n",
            "\n",
            "\n",
            " Epoch  |  Batch  |  Train Loss  |  Val Loss  |  Val Acc  |  Elapsed \n",
            "----------------------------------------------------------------------\n",
            "   4    |   20    |   0.364334   |     -      |     -     |   14.35  \n",
            "   4    |   40    |   0.353253   |     -      |     -     |   13.66  \n",
            "   4    |   60    |   0.297383   |     -      |     -     |   13.66  \n",
            "   4    |   80    |   0.313557   |     -      |     -     |   13.67  \n",
            "   4    |   100   |   0.325801   |     -      |     -     |   13.66  \n",
            "   4    |   120   |   0.279377   |     -      |     -     |   13.67  \n",
            "   4    |   140   |   0.331258   |     -      |     -     |   13.69  \n",
            "   4    |   156   |   0.285868   |     -      |     -     |   10.44  \n",
            "----------------------------------------------------------------------\n",
            "   4    |    -    |   0.319984   |  0.944016  |   67.41   |  120.33  \n",
            "----------------------------------------------------------------------\n",
            "\n",
            "\n",
            " Epoch  |  Batch  |  Train Loss  |  Val Loss  |  Val Acc  |  Elapsed \n",
            "----------------------------------------------------------------------\n",
            "   5    |   20    |   0.212094   |     -      |     -     |   14.36  \n",
            "   5    |   40    |   0.204686   |     -      |     -     |   13.67  \n",
            "   5    |   60    |   0.208057   |     -      |     -     |   13.67  \n",
            "   5    |   80    |   0.193379   |     -      |     -     |   13.68  \n",
            "   5    |   100   |   0.245254   |     -      |     -     |   13.66  \n",
            "   5    |   120   |   0.231245   |     -      |     -     |   13.67  \n",
            "   5    |   140   |   0.218607   |     -      |     -     |   13.67  \n",
            "   5    |   156   |   0.179917   |     -      |     -     |   10.44  \n",
            "----------------------------------------------------------------------\n",
            "   5    |    -    |   0.212466   |  1.065953  |   68.75   |  120.34  \n",
            "----------------------------------------------------------------------\n",
            "\n",
            "\n",
            " Epoch  |  Batch  |  Train Loss  |  Val Loss  |  Val Acc  |  Elapsed \n",
            "----------------------------------------------------------------------\n",
            "   6    |   20    |   0.153889   |     -      |     -     |   14.36  \n",
            "   6    |   40    |   0.165772   |     -      |     -     |   13.67  \n",
            "   6    |   60    |   0.136649   |     -      |     -     |   13.67  \n",
            "   6    |   80    |   0.123178   |     -      |     -     |   13.66  \n",
            "   6    |   100   |   0.128327   |     -      |     -     |   13.69  \n",
            "   6    |   120   |   0.149442   |     -      |     -     |   13.68  \n",
            "   6    |   140   |   0.131050   |     -      |     -     |   13.66  \n",
            "   6    |   156   |   0.138728   |     -      |     -     |   10.45  \n",
            "----------------------------------------------------------------------\n",
            "   6    |    -    |   0.141017   |  1.246906  |   67.16   |  120.36  \n",
            "----------------------------------------------------------------------\n",
            "\n",
            "\n",
            " Epoch  |  Batch  |  Train Loss  |  Val Loss  |  Val Acc  |  Elapsed \n",
            "----------------------------------------------------------------------\n",
            "   7    |   20    |   0.139439   |     -      |     -     |   14.36  \n",
            "   7    |   40    |   0.108150   |     -      |     -     |   13.67  \n",
            "   7    |   60    |   0.077777   |     -      |     -     |   13.66  \n",
            "   7    |   80    |   0.079055   |     -      |     -     |   13.66  \n",
            "   7    |   100   |   0.075495   |     -      |     -     |   13.66  \n",
            "   7    |   120   |   0.119696   |     -      |     -     |   13.66  \n",
            "   7    |   140   |   0.193194   |     -      |     -     |   13.65  \n",
            "   7    |   156   |   0.134782   |     -      |     -     |   10.45  \n",
            "----------------------------------------------------------------------\n",
            "   7    |    -    |   0.115618   |  1.377552  |   68.01   |  120.29  \n",
            "----------------------------------------------------------------------\n",
            "\n",
            "\n",
            " Epoch  |  Batch  |  Train Loss  |  Val Loss  |  Val Acc  |  Elapsed \n",
            "----------------------------------------------------------------------\n",
            "   8    |   20    |   0.073586   |     -      |     -     |   14.36  \n",
            "   8    |   40    |   0.077744   |     -      |     -     |   13.67  \n",
            "   8    |   60    |   0.073035   |     -      |     -     |   13.66  \n",
            "   8    |   80    |   0.107653   |     -      |     -     |   13.66  \n",
            "   8    |   100   |   0.112836   |     -      |     -     |   13.67  \n",
            "   8    |   120   |   0.082564   |     -      |     -     |   13.67  \n",
            "   8    |   140   |   0.131112   |     -      |     -     |   13.66  \n",
            "   8    |   156   |   0.092295   |     -      |     -     |   10.45  \n",
            "----------------------------------------------------------------------\n",
            "   8    |    -    |   0.093764   |  1.425208  |   68.55   |  120.33  \n",
            "----------------------------------------------------------------------\n",
            "\n",
            "\n",
            " Epoch  |  Batch  |  Train Loss  |  Val Loss  |  Val Acc  |  Elapsed \n",
            "----------------------------------------------------------------------\n",
            "   9    |   20    |   0.083814   |     -      |     -     |   14.37  \n",
            "   9    |   40    |   0.082323   |     -      |     -     |   13.66  \n",
            "   9    |   60    |   0.047502   |     -      |     -     |   13.66  \n",
            "   9    |   80    |   0.042227   |     -      |     -     |   13.66  \n",
            "   9    |   100   |   0.046078   |     -      |     -     |   13.65  \n",
            "   9    |   120   |   0.065017   |     -      |     -     |   13.66  \n",
            "   9    |   140   |   0.083385   |     -      |     -     |   13.65  \n",
            "   9    |   156   |   0.050707   |     -      |     -     |   10.44  \n",
            "----------------------------------------------------------------------\n",
            "   9    |    -    |   0.063070   |  1.623470  |   66.96   |  120.25  \n",
            "----------------------------------------------------------------------\n",
            "\n",
            "\n",
            " Epoch  |  Batch  |  Train Loss  |  Val Loss  |  Val Acc  |  Elapsed \n",
            "----------------------------------------------------------------------\n",
            "  10    |   20    |   0.061536   |     -      |     -     |   14.34  \n",
            "  10    |   40    |   0.040970   |     -      |     -     |   13.66  \n",
            "  10    |   60    |   0.029358   |     -      |     -     |   13.65  \n",
            "  10    |   80    |   0.032797   |     -      |     -     |   13.65  \n",
            "  10    |   100   |   0.067523   |     -      |     -     |   13.66  \n",
            "  10    |   120   |   0.037043   |     -      |     -     |   13.65  \n",
            "  10    |   140   |   0.032810   |     -      |     -     |   13.66  \n",
            "  10    |   156   |   0.079940   |     -      |     -     |   10.43  \n",
            "----------------------------------------------------------------------\n",
            "  10    |    -    |   0.047015   |  1.668706  |   67.76   |  120.22  \n",
            "----------------------------------------------------------------------\n",
            "\n",
            "\n",
            " Epoch  |  Batch  |  Train Loss  |  Val Loss  |  Val Acc  |  Elapsed \n",
            "----------------------------------------------------------------------\n",
            "  11    |   20    |   0.036715   |     -      |     -     |   14.34  \n",
            "  11    |   40    |   0.016952   |     -      |     -     |   13.66  \n",
            "  11    |   60    |   0.028725   |     -      |     -     |   13.66  \n",
            "  11    |   80    |   0.032615   |     -      |     -     |   13.66  \n",
            "  11    |   100   |   0.047257   |     -      |     -     |   13.66  \n",
            "  11    |   120   |   0.028314   |     -      |     -     |   13.66  \n",
            "  11    |   140   |   0.022621   |     -      |     -     |   13.66  \n",
            "  11    |   156   |   0.017775   |     -      |     -     |   10.43  \n",
            "----------------------------------------------------------------------\n",
            "  11    |    -    |   0.029204   |  1.681434  |   68.45   |  120.23  \n",
            "----------------------------------------------------------------------\n",
            "\n",
            "\n",
            " Epoch  |  Batch  |  Train Loss  |  Val Loss  |  Val Acc  |  Elapsed \n",
            "----------------------------------------------------------------------\n",
            "  12    |   20    |   0.025580   |     -      |     -     |   14.33  \n",
            "  12    |   40    |   0.033601   |     -      |     -     |   13.65  \n",
            "  12    |   60    |   0.027739   |     -      |     -     |   13.65  \n",
            "  12    |   80    |   0.010756   |     -      |     -     |   13.65  \n",
            "  12    |   100   |   0.004381   |     -      |     -     |   13.67  \n",
            "  12    |   120   |   0.007428   |     -      |     -     |   13.66  \n",
            "  12    |   140   |   0.018497   |     -      |     -     |   13.65  \n",
            "  12    |   156   |   0.020113   |     -      |     -     |   10.43  \n",
            "----------------------------------------------------------------------\n",
            "  12    |    -    |   0.018516   |  1.748869  |   68.70   |  120.22  \n",
            "----------------------------------------------------------------------\n",
            "\n",
            "\n",
            " Epoch  |  Batch  |  Train Loss  |  Val Loss  |  Val Acc  |  Elapsed \n",
            "----------------------------------------------------------------------\n",
            "  13    |   20    |   0.011122   |     -      |     -     |   14.34  \n",
            "  13    |   40    |   0.006923   |     -      |     -     |   13.66  \n",
            "  13    |   60    |   0.022953   |     -      |     -     |   13.65  \n",
            "  13    |   80    |   0.015897   |     -      |     -     |   13.65  \n",
            "  13    |   100   |   0.003317   |     -      |     -     |   13.65  \n",
            "  13    |   120   |   0.012552   |     -      |     -     |   13.65  \n",
            "  13    |   140   |   0.007702   |     -      |     -     |   13.66  \n",
            "  13    |   156   |   0.002938   |     -      |     -     |   10.44  \n",
            "----------------------------------------------------------------------\n",
            "  13    |    -    |   0.010621   |  1.792821  |   68.65   |  120.22  \n",
            "----------------------------------------------------------------------\n",
            "\n",
            "\n",
            " Epoch  |  Batch  |  Train Loss  |  Val Loss  |  Val Acc  |  Elapsed \n",
            "----------------------------------------------------------------------\n",
            "  14    |   20    |   0.009303   |     -      |     -     |   14.33  \n",
            "  14    |   40    |   0.003089   |     -      |     -     |   13.65  \n",
            "  14    |   60    |   0.003284   |     -      |     -     |   13.65  \n",
            "  14    |   80    |   0.002838   |     -      |     -     |   13.66  \n",
            "  14    |   100   |   0.002735   |     -      |     -     |   13.65  \n",
            "  14    |   120   |   0.023421   |     -      |     -     |   13.64  \n",
            "  14    |   140   |   0.014261   |     -      |     -     |   13.66  \n",
            "  14    |   156   |   0.002759   |     -      |     -     |   10.43  \n",
            "----------------------------------------------------------------------\n",
            "  14    |    -    |   0.007848   |  1.848600  |   67.96   |  120.20  \n",
            "----------------------------------------------------------------------\n",
            "\n",
            "\n",
            " Epoch  |  Batch  |  Train Loss  |  Val Loss  |  Val Acc  |  Elapsed \n",
            "----------------------------------------------------------------------\n",
            "  15    |   20    |   0.008435   |     -      |     -     |   14.34  \n",
            "  15    |   40    |   0.015192   |     -      |     -     |   13.66  \n",
            "  15    |   60    |   0.002599   |     -      |     -     |   13.65  \n",
            "  15    |   80    |   0.013139   |     -      |     -     |   13.65  \n",
            "  15    |   100   |   0.009209   |     -      |     -     |   13.65  \n",
            "  15    |   120   |   0.002713   |     -      |     -     |   13.65  \n",
            "  15    |   140   |   0.002565   |     -      |     -     |   13.65  \n",
            "  15    |   156   |   0.002577   |     -      |     -     |   10.43  \n",
            "----------------------------------------------------------------------\n",
            "  15    |    -    |   0.007177   |  1.842144  |   68.20   |  120.19  \n",
            "----------------------------------------------------------------------\n",
            "\n",
            "\n",
            "Training complete!\n",
            "              precision    recall  f1-score   support\n",
            "\n",
            "           0       0.80      0.78      0.79       292\n",
            "           1       0.39      0.38      0.39       163\n",
            "           2       0.50      0.53      0.51       232\n",
            "           3       0.51      0.53      0.52       421\n",
            "           4       0.83      0.82      0.82       892\n",
            "\n",
            "    accuracy                           0.68      2000\n",
            "   macro avg       0.61      0.61      0.61      2000\n",
            "weighted avg       0.69      0.68      0.68      2000\n",
            "\n",
            "\n",
            "\n",
            "\n",
            "[[227  53  12   0   0]\n",
            " [ 44  62  51   5   1]\n",
            " [  7  36 122  62   5]\n",
            " [  2   5  47 224 143]\n",
            " [  4   2  12 145 729]]\n"
          ]
        }
      ]
    },
    {
      "cell_type": "code",
      "source": [
        "set_seed(42)    # Set seed for reproducibility\n",
        "bert_classifier, optimizer, scheduler = initialize_model(epochs= 4)\n",
        "y_true, y_pred, train_loss_his, train_acc_his, valid_loss_his, valid_acc_his = train(bert_classifier, train_dataloader, val_dataloader, epochs = 4, evaluation=True)\n",
        "y_pred = [t.cpu().numpy() for t in y_pred]\n",
        "print(classification_report(y_true, y_pred))\n",
        "print(\"\\n\\n\")\n",
        "print(confusion_matrix(y_true, y_pred))"
      ],
      "metadata": {
        "colab": {
          "base_uri": "https://localhost:8080/"
        },
        "id": "3nKDKvEQqAee",
        "outputId": "d76ad1fe-e749-4659-e7d2-cbb1c368bfb5"
      },
      "execution_count": null,
      "outputs": [
        {
          "output_type": "stream",
          "name": "stderr",
          "text": [
            "Some weights of the model checkpoint at bert-base-uncased were not used when initializing BertModel: ['cls.predictions.bias', 'cls.seq_relationship.bias', 'cls.predictions.transform.LayerNorm.weight', 'cls.seq_relationship.weight', 'cls.predictions.transform.dense.weight', 'cls.predictions.decoder.weight', 'cls.predictions.transform.LayerNorm.bias', 'cls.predictions.transform.dense.bias']\n",
            "- This IS expected if you are initializing BertModel from the checkpoint of a model trained on another task or with another architecture (e.g. initializing a BertForSequenceClassification model from a BertForPreTraining model).\n",
            "- This IS NOT expected if you are initializing BertModel from the checkpoint of a model that you expect to be exactly identical (initializing a BertForSequenceClassification model from a BertForSequenceClassification model).\n",
            "/usr/local/lib/python3.9/dist-packages/transformers/optimization.py:391: FutureWarning: This implementation of AdamW is deprecated and will be removed in a future version. Use the PyTorch implementation torch.optim.AdamW instead, or set `no_deprecation_warning=True` to disable this warning\n",
            "  warnings.warn(\n"
          ]
        },
        {
          "output_type": "stream",
          "name": "stdout",
          "text": [
            "Start training...\n",
            "\n",
            " Epoch  |  Batch  |  Train Loss  |  Val Loss  |  Val Acc  |  Elapsed \n",
            "----------------------------------------------------------------------\n",
            "   1    |   20    |   1.337835   |     -      |     -     |   14.39  \n",
            "   1    |   40    |   1.029079   |     -      |     -     |   13.67  \n",
            "   1    |   60    |   0.924274   |     -      |     -     |   13.66  \n",
            "   1    |   80    |   0.915213   |     -      |     -     |   13.66  \n",
            "   1    |   100   |   0.873163   |     -      |     -     |   13.66  \n",
            "   1    |   120   |   0.845966   |     -      |     -     |   13.66  \n",
            "   1    |   140   |   0.839213   |     -      |     -     |   13.66  \n",
            "   1    |   156   |   0.810095   |     -      |     -     |   10.44  \n",
            "----------------------------------------------------------------------\n",
            "Saved model\n",
            "   1    |    -    |   0.952829   |  0.752957  |   68.85   |  121.29  \n",
            "----------------------------------------------------------------------\n",
            "\n",
            "\n",
            " Epoch  |  Batch  |  Train Loss  |  Val Loss  |  Val Acc  |  Elapsed \n",
            "----------------------------------------------------------------------\n",
            "   2    |   20    |   0.667221   |     -      |     -     |   14.37  \n",
            "   2    |   40    |   0.615677   |     -      |     -     |   13.67  \n",
            "   2    |   60    |   0.677532   |     -      |     -     |   13.67  \n",
            "   2    |   80    |   0.669644   |     -      |     -     |   13.67  \n",
            "   2    |   100   |   0.650218   |     -      |     -     |   13.69  \n",
            "   2    |   120   |   0.597592   |     -      |     -     |   13.69  \n",
            "   2    |   140   |   0.702803   |     -      |     -     |   13.68  \n",
            "   2    |   156   |   0.633566   |     -      |     -     |   10.45  \n",
            "----------------------------------------------------------------------\n",
            "Saved model\n",
            "   2    |    -    |   0.652344   |  0.743165  |   69.64   |  121.40  \n",
            "----------------------------------------------------------------------\n",
            "\n",
            "\n",
            " Epoch  |  Batch  |  Train Loss  |  Val Loss  |  Val Acc  |  Elapsed \n",
            "----------------------------------------------------------------------\n",
            "   3    |   20    |   0.463730   |     -      |     -     |   14.38  \n",
            "   3    |   40    |   0.436897   |     -      |     -     |   13.66  \n",
            "   3    |   60    |   0.487769   |     -      |     -     |   13.68  \n",
            "   3    |   80    |   0.469554   |     -      |     -     |   13.67  \n",
            "   3    |   100   |   0.449723   |     -      |     -     |   13.67  \n",
            "   3    |   120   |   0.444622   |     -      |     -     |   13.68  \n",
            "   3    |   140   |   0.469763   |     -      |     -     |   13.67  \n",
            "   3    |   156   |   0.473968   |     -      |     -     |   10.45  \n",
            "----------------------------------------------------------------------\n",
            "   3    |    -    |   0.461709   |  0.793048  |   69.20   |  120.39  \n",
            "----------------------------------------------------------------------\n",
            "\n",
            "\n",
            "Early stopping\n",
            "Training complete!\n",
            "              precision    recall  f1-score   support\n",
            "\n",
            "           0       0.79      0.79      0.79       292\n",
            "           1       0.46      0.31      0.37       163\n",
            "           2       0.50      0.54      0.52       232\n",
            "           3       0.52      0.49      0.50       421\n",
            "           4       0.81      0.86      0.84       892\n",
            "\n",
            "    accuracy                           0.69      2000\n",
            "   macro avg       0.62      0.60      0.61      2000\n",
            "weighted avg       0.68      0.69      0.69      2000\n",
            "\n",
            "\n",
            "\n",
            "\n",
            "[[232  39  14   4   3]\n",
            " [ 46  51  57   8   1]\n",
            " [  8  18 125  71  10]\n",
            " [  4   3  44 207 163]\n",
            " [  2   1   9 111 769]]\n"
          ]
        }
      ]
    },
    {
      "cell_type": "code",
      "source": [
        "'''\n",
        "set_seed(42)    # Set seed for reproducibility\n",
        "bert_classifier, optimizer, scheduler = initialize_model(epochs= 1)\n",
        "y_true, y_pred,train_loss_his_10, train_acc_his_10, valid_loss_his_10, valid_acc_his_10 = train(bert_classifier, train_dataloader, val_dataloader, epochs = 1, evaluation=True)\n",
        "y_pred = [t.cpu().numpy() for t in y_pred]\n",
        "print(classification_report(y_true, y_pred))\n",
        "print(\"\\n\\n\")\n",
        "print(confusion_matrix(y_true, y_pred))\n",
        "'''"
      ],
      "metadata": {
        "id": "XKAJc00Vzk6t",
        "colab": {
          "base_uri": "https://localhost:8080/",
          "height": 89
        },
        "outputId": "db2e2269-b030-466d-ab43-91e61ee2be29"
      },
      "execution_count": null,
      "outputs": [
        {
          "output_type": "execute_result",
          "data": {
            "text/plain": [
              "'\\nset_seed(42)    # Set seed for reproducibility\\nbert_classifier, optimizer, scheduler = initialize_model(epochs= 1)\\ny_true, y_pred,train_loss_his_10, train_acc_his_10, valid_loss_his_10, valid_acc_his_10 = train(bert_classifier, train_dataloader, val_dataloader, epochs = 1, evaluation=True)\\ny_pred = [t.cpu().numpy() for t in y_pred]\\nprint(classification_report(y_true, y_pred))\\nprint(\"\\n\\n\")\\nprint(confusion_matrix(y_true, y_pred))\\n'"
            ],
            "application/vnd.google.colaboratory.intrinsic+json": {
              "type": "string"
            }
          },
          "metadata": {},
          "execution_count": 115
        }
      ]
    },
    {
      "cell_type": "code",
      "source": [
        "#according to the previous result\n",
        "Train_Loss = [0.952172, 0.680025,0.493966, 0.319984 ,0.212466,0.141017 ,0.115618, 0.093764 ,0.063070 ,0.047015 ]\n",
        "Val_Loss = [0.772737, 0.758455, 0.795445,0.944016,1.065953,1.246906,1.377552,1.425208,1.623470,1.668706 ]\n",
        "Val_Acc = [67.41,69.25,68.85,67.41,68.75,67.16,68.01, 68.55,66.96,67.76]\n",
        "\n",
        "train_loss_f = [1.452206990521425, 1.3127583010940795, 1.2448728388282144, 1.1943219193987027, 1.1607605993368064, 1.1390186236922148, 1.118046912797697, 1.1052495036155554, 1.0970297258371, 1.0927470531433252]\n",
        "valid_loss_f = [1.3592679141059754, 1.2649845906666346, 1.203606439015222, 1.1611814451596094, 1.1307576336557903, 1.1082498563660517, 1.0915917792017498, 1.0800976459942166, 1.072940693015144, 1.0700956583023071]\n",
        "valid_acc_f = [44.642857142857146, 45.882936507936506, 49.25595238095238, 51.88492063492063, 53.37301587301587, 54.76190476190476, 55.8531746031746, 56.34920634920635, 56.6468253968254, 56.99404761904762]\n"
      ],
      "metadata": {
        "id": "cvbaskILowPN"
      },
      "execution_count": null,
      "outputs": []
    },
    {
      "cell_type": "code",
      "source": [
        "plt.plot(Train_Loss, label=\"BERT-training-fintune\", color=\"blue\", linestyle=\"dashed\")\n",
        "plt.plot(Val_Loss, label=\"BERT-validation-fintune\", color=\"blue\")\n",
        "\n",
        "plt.xlabel(\"Iteration\")\n",
        "plt.ylabel(\"Loss\")\n",
        "plt.legend()"
      ],
      "metadata": {
        "id": "FTHAS1PCyUIL",
        "colab": {
          "base_uri": "https://localhost:8080/",
          "height": 467
        },
        "outputId": "7594228c-5335-4580-b015-7253c9c90474"
      },
      "execution_count": null,
      "outputs": [
        {
          "output_type": "execute_result",
          "data": {
            "text/plain": [
              "<matplotlib.legend.Legend at 0x7f2d0e4d00a0>"
            ]
          },
          "metadata": {},
          "execution_count": 112
        },
        {
          "output_type": "display_data",
          "data": {
            "text/plain": [
              "<Figure size 640x480 with 1 Axes>"
            ],
            "image/png": "[encoded data removed]"
          },
          "metadata": {}
        }
      ]
    },
    {
      "cell_type": "code",
      "source": [
        "plt.figure(figsize=(10,4))\n",
        "plt.subplot(1,2,1)\n",
        "plt.plot(Train_Loss, label=\"BERT-Train-Fintune\", color=\"blue\", linestyle=\"dashed\")\n",
        "plt.plot(Val_Loss, label=\"BERT-Valid-Fintune\", color=\"blue\")\n",
        "plt.plot(train_loss_f, label=\"BERT-Train-Freeze\", color=\"orange\", linestyle=\"dashed\")\n",
        "plt.plot(valid_loss_f, label=\"BERT-Valid-Freeze\", color=\"orange\")\n",
        "plt.xlabel(\"Iteration\")\n",
        "plt.ylabel(\"Loss\")\n",
        "plt.legend()\n",
        "plt.subplot(1,2,2)\n",
        "plt.plot(Val_Acc, label=\"BERT-Valid-Fintune\", color=\"blue\")\n",
        "plt.plot(valid_acc_f, label=\"BERT-Valid-Freeze\", color=\"Orange\")\n",
        "plt.xlabel(\"Iteration\")\n",
        "plt.ylabel(\"Accuracy\")\n",
        "plt.legend()\n",
        "plt.show()"
      ],
      "metadata": {
        "id": "YOrfVf6RwHNU",
        "colab": {
          "base_uri": "https://localhost:8080/",
          "height": 388
        },
        "outputId": "30f1427c-e0e0-4fae-bf23-97c374603315"
      },
      "execution_count": null,
      "outputs": [
        {
          "output_type": "display_data",
          "data": {
            "text/plain": [
              "<Figure size 1000x400 with 2 Axes>"
            ],
            "image/png": "[encoded data removed]"
          },
          "metadata": {}
        }
      ]
    }
  ],
  "metadata": {
    "kernelspec": {
      "display_name": "Python 3",
      "language": "python",
      "name": "python3"
    },
    "language_info": {
      "codemirror_mode": {
        "name": "ipython",
        "version": 3
      },
      "file_extension": ".py",
      "mimetype": "text/x-python",
      "name": "python",
      "nbconvert_exporter": "python",
      "pygments_lexer": "ipython3",
      "version": "3.8.12"
    },
    "colab": {
      "provenance": [],
      "machine_shape": "hm",
      "include_colab_link": true
    },
    "accelerator": "GPU",
    "gpuClass": "premium",
    "widgets": {
      "application/vnd.jupyter.widget-state+json": {
        "97e0b8c5eeec43d9b125da7cc1d5a31a": {
          "model_module": "@jupyter-widgets/controls",
          "model_name": "HBoxModel",
          "model_module_version": "1.5.0",
          "state": {
            "_dom_classes": [],
            "_model_module": "@jupyter-widgets/controls",
            "_model_module_version": "1.5.0",
            "_model_name": "HBoxModel",
            "_view_count": null,
            "_view_module": "@jupyter-widgets/controls",
            "_view_module_version": "1.5.0",
            "_view_name": "HBoxView",
            "box_style": "",
            "children": [
              "IPY_MODEL_b1fba09c232b4ed49c594ccaf9359287",
              "IPY_MODEL_cfceb15bf3c5460c87884287c1431966",
              "IPY_MODEL_7359a3e16a23486488b097818e6d45e9"
            ],
            "layout": "IPY_MODEL_e04d046e3ce845e6b1830174d1f318ac"
          }
        },
        "b1fba09c232b4ed49c594ccaf9359287": {
          "model_module": "@jupyter-widgets/controls",
          "model_name": "HTMLModel",
          "model_module_version": "1.5.0",
          "state": {
            "_dom_classes": [],
            "_model_module": "@jupyter-widgets/controls",
            "_model_module_version": "1.5.0",
            "_model_name": "HTMLModel",
            "_view_count": null,
            "_view_module": "@jupyter-widgets/controls",
            "_view_module_version": "1.5.0",
            "_view_name": "HTMLView",
            "description": "",
            "description_tooltip": null,
            "layout": "IPY_MODEL_f7a6bc972c3b47c6a6874e312073634d",
            "placeholder": "​",
            "style": "IPY_MODEL_5cc9f72012154d7aac5cb8a9eddf3b8e",
            "value": "Downloading pytorch_model.bin: 100%"
          }
        },
        "cfceb15bf3c5460c87884287c1431966": {
          "model_module": "@jupyter-widgets/controls",
          "model_name": "FloatProgressModel",
          "model_module_version": "1.5.0",
          "state": {
            "_dom_classes": [],
            "_model_module": "@jupyter-widgets/controls",
            "_model_module_version": "1.5.0",
            "_model_name": "FloatProgressModel",
            "_view_count": null,
            "_view_module": "@jupyter-widgets/controls",
            "_view_module_version": "1.5.0",
            "_view_name": "ProgressView",
            "bar_style": "success",
            "description": "",
            "description_tooltip": null,
            "layout": "IPY_MODEL_ee00e5550b074b10a22f9232994e1a88",
            "max": 440473133,
            "min": 0,
            "orientation": "horizontal",
            "style": "IPY_MODEL_0cdc8d3d265c4a72b5e487eb0e561423",
            "value": 440473133
          }
        },
        "7359a3e16a23486488b097818e6d45e9": {
          "model_module": "@jupyter-widgets/controls",
          "model_name": "HTMLModel",
          "model_module_version": "1.5.0",
          "state": {
            "_dom_classes": [],
            "_model_module": "@jupyter-widgets/controls",
            "_model_module_version": "1.5.0",
            "_model_name": "HTMLModel",
            "_view_count": null,
            "_view_module": "@jupyter-widgets/controls",
            "_view_module_version": "1.5.0",
            "_view_name": "HTMLView",
            "description": "",
            "description_tooltip": null,
            "layout": "IPY_MODEL_9d93b0d5266d4db39dab40feca2c334e",
            "placeholder": "​",
            "style": "IPY_MODEL_5af078a9a2cd4f2e965c6109b8e2b4d9",
            "value": " 440M/440M [00:01&lt;00:00, 280MB/s]"
          }
        },
        "e04d046e3ce845e6b1830174d1f318ac": {
          "model_module": "@jupyter-widgets/base",
          "model_name": "LayoutModel",
          "model_module_version": "1.2.0",
          "state": {
            "_model_module": "@jupyter-widgets/base",
            "_model_module_version": "1.2.0",
            "_model_name": "LayoutModel",
            "_view_count": null,
            "_view_module": "@jupyter-widgets/base",
            "_view_module_version": "1.2.0",
            "_view_name": "LayoutView",
            "align_content": null,
            "align_items": null,
            "align_self": null,
            "border": null,
            "bottom": null,
            "display": null,
            "flex": null,
            "flex_flow": null,
            "grid_area": null,
            "grid_auto_columns": null,
            "grid_auto_flow": null,
            "grid_auto_rows": null,
            "grid_column": null,
            "grid_gap": null,
            "grid_row": null,
            "grid_template_areas": null,
            "grid_template_columns": null,
            "grid_template_rows": null,
            "height": null,
            "justify_content": null,
            "justify_items": null,
            "left": null,
            "margin": null,
            "max_height": null,
            "max_width": null,
            "min_height": null,
            "min_width": null,
            "object_fit": null,
            "object_position": null,
            "order": null,
            "overflow": null,
            "overflow_x": null,
            "overflow_y": null,
            "padding": null,
            "right": null,
            "top": null,
            "visibility": null,
            "width": null
          }
        },
        "f7a6bc972c3b47c6a6874e312073634d": {
          "model_module": "@jupyter-widgets/base",
          "model_name": "LayoutModel",
          "model_module_version": "1.2.0",
          "state": {
            "_model_module": "@jupyter-widgets/base",
            "_model_module_version": "1.2.0",
            "_model_name": "LayoutModel",
            "_view_count": null,
            "_view_module": "@jupyter-widgets/base",
            "_view_module_version": "1.2.0",
            "_view_name": "LayoutView",
            "align_content": null,
            "align_items": null,
            "align_self": null,
            "border": null,
            "bottom": null,
            "display": null,
            "flex": null,
            "flex_flow": null,
            "grid_area": null,
            "grid_auto_columns": null,
            "grid_auto_flow": null,
            "grid_auto_rows": null,
            "grid_column": null,
            "grid_gap": null,
            "grid_row": null,
            "grid_template_areas": null,
            "grid_template_columns": null,
            "grid_template_rows": null,
            "height": null,
            "justify_content": null,
            "justify_items": null,
            "left": null,
            "margin": null,
            "max_height": null,
            "max_width": null,
            "min_height": null,
            "min_width": null,
            "object_fit": null,
            "object_position": null,
            "order": null,
            "overflow": null,
            "overflow_x": null,
            "overflow_y": null,
            "padding": null,
            "right": null,
            "top": null,
            "visibility": null,
            "width": null
          }
        },
        "5cc9f72012154d7aac5cb8a9eddf3b8e": {
          "model_module": "@jupyter-widgets/controls",
          "model_name": "DescriptionStyleModel",
          "model_module_version": "1.5.0",
          "state": {
            "_model_module": "@jupyter-widgets/controls",
            "_model_module_version": "1.5.0",
            "_model_name": "DescriptionStyleModel",
            "_view_count": null,
            "_view_module": "@jupyter-widgets/base",
            "_view_module_version": "1.2.0",
            "_view_name": "StyleView",
            "description_width": ""
          }
        },
        "ee00e5550b074b10a22f9232994e1a88": {
          "model_module": "@jupyter-widgets/base",
          "model_name": "LayoutModel",
          "model_module_version": "1.2.0",
          "state": {
            "_model_module": "@jupyter-widgets/base",
            "_model_module_version": "1.2.0",
            "_model_name": "LayoutModel",
            "_view_count": null,
            "_view_module": "@jupyter-widgets/base",
            "_view_module_version": "1.2.0",
            "_view_name": "LayoutView",
            "align_content": null,
            "align_items": null,
            "align_self": null,
            "border": null,
            "bottom": null,
            "display": null,
            "flex": null,
            "flex_flow": null,
            "grid_area": null,
            "grid_auto_columns": null,
            "grid_auto_flow": null,
            "grid_auto_rows": null,
            "grid_column": null,
            "grid_gap": null,
            "grid_row": null,
            "grid_template_areas": null,
            "grid_template_columns": null,
            "grid_template_rows": null,
            "height": null,
            "justify_content": null,
            "justify_items": null,
            "left": null,
            "margin": null,
            "max_height": null,
            "max_width": null,
            "min_height": null,
            "min_width": null,
            "object_fit": null,
            "object_position": null,
            "order": null,
            "overflow": null,
            "overflow_x": null,
            "overflow_y": null,
            "padding": null,
            "right": null,
            "top": null,
            "visibility": null,
            "width": null
          }
        },
        "0cdc8d3d265c4a72b5e487eb0e561423": {
          "model_module": "@jupyter-widgets/controls",
          "model_name": "ProgressStyleModel",
          "model_module_version": "1.5.0",
          "state": {
            "_model_module": "@jupyter-widgets/controls",
            "_model_module_version": "1.5.0",
            "_model_name": "ProgressStyleModel",
            "_view_count": null,
            "_view_module": "@jupyter-widgets/base",
            "_view_module_version": "1.2.0",
            "_view_name": "StyleView",
            "bar_color": null,
            "description_width": ""
          }
        },
        "9d93b0d5266d4db39dab40feca2c334e": {
          "model_module": "@jupyter-widgets/base",
          "model_name": "LayoutModel",
          "model_module_version": "1.2.0",
          "state": {
            "_model_module": "@jupyter-widgets/base",
            "_model_module_version": "1.2.0",
            "_model_name": "LayoutModel",
            "_view_count": null,
            "_view_module": "@jupyter-widgets/base",
            "_view_module_version": "1.2.0",
            "_view_name": "LayoutView",
            "align_content": null,
            "align_items": null,
            "align_self": null,
            "border": null,
            "bottom": null,
            "display": null,
            "flex": null,
            "flex_flow": null,
            "grid_area": null,
            "grid_auto_columns": null,
            "grid_auto_flow": null,
            "grid_auto_rows": null,
            "grid_column": null,
            "grid_gap": null,
            "grid_row": null,
            "grid_template_areas": null,
            "grid_template_columns": null,
            "grid_template_rows": null,
            "height": null,
            "justify_content": null,
            "justify_items": null,
            "left": null,
            "margin": null,
            "max_height": null,
            "max_width": null,
            "min_height": null,
            "min_width": null,
            "object_fit": null,
            "object_position": null,
            "order": null,
            "overflow": null,
            "overflow_x": null,
            "overflow_y": null,
            "padding": null,
            "right": null,
            "top": null,
            "visibility": null,
            "width": null
          }
        },
        "5af078a9a2cd4f2e965c6109b8e2b4d9": {
          "model_module": "@jupyter-widgets/controls",
          "model_name": "DescriptionStyleModel",
          "model_module_version": "1.5.0",
          "state": {
            "_model_module": "@jupyter-widgets/controls",
            "_model_module_version": "1.5.0",
            "_model_name": "DescriptionStyleModel",
            "_view_count": null,
            "_view_module": "@jupyter-widgets/base",
            "_view_module_version": "1.2.0",
            "_view_name": "StyleView",
            "description_width": ""
          }
        },
        "6cd2b164cb134ab49e616c9dfaa43cbc": {
          "model_module": "@jupyter-widgets/controls",
          "model_name": "HBoxModel",
          "model_module_version": "1.5.0",
          "state": {
            "_dom_classes": [],
            "_model_module": "@jupyter-widgets/controls",
            "_model_module_version": "1.5.0",
            "_model_name": "HBoxModel",
            "_view_count": null,
            "_view_module": "@jupyter-widgets/controls",
            "_view_module_version": "1.5.0",
            "_view_name": "HBoxView",
            "box_style": "",
            "children": [
              "IPY_MODEL_13cc9555d8ab49d2a0691f19eb2a4651",
              "IPY_MODEL_1da80eb5a2d14d0ca2cd7a8e6ce27aaf",
              "IPY_MODEL_7e79d87320164de9b893f31b0d645b7e"
            ],
            "layout": "IPY_MODEL_2012350a33124e5b9c35835417aa9a0e"
          }
        },
        "13cc9555d8ab49d2a0691f19eb2a4651": {
          "model_module": "@jupyter-widgets/controls",
          "model_name": "HTMLModel",
          "model_module_version": "1.5.0",
          "state": {
            "_dom_classes": [],
            "_model_module": "@jupyter-widgets/controls",
            "_model_module_version": "1.5.0",
            "_model_name": "HTMLModel",
            "_view_count": null,
            "_view_module": "@jupyter-widgets/controls",
            "_view_module_version": "1.5.0",
            "_view_name": "HTMLView",
            "description": "",
            "description_tooltip": null,
            "layout": "IPY_MODEL_69c857a9f75c461a9e9157c80772bb9e",
            "placeholder": "​",
            "style": "IPY_MODEL_232a7d1567404e6383c9488b990257fb",
            "value": "Downloading (…)okenizer_config.json: 100%"
          }
        },
        "1da80eb5a2d14d0ca2cd7a8e6ce27aaf": {
          "model_module": "@jupyter-widgets/controls",
          "model_name": "FloatProgressModel",
          "model_module_version": "1.5.0",
          "state": {
            "_dom_classes": [],
            "_model_module": "@jupyter-widgets/controls",
            "_model_module_version": "1.5.0",
            "_model_name": "FloatProgressModel",
            "_view_count": null,
            "_view_module": "@jupyter-widgets/controls",
            "_view_module_version": "1.5.0",
            "_view_name": "ProgressView",
            "bar_style": "success",
            "description": "",
            "description_tooltip": null,
            "layout": "IPY_MODEL_ba9ffd47448641f7a80e4dd9f54616af",
            "max": 39,
            "min": 0,
            "orientation": "horizontal",
            "style": "IPY_MODEL_77e7a9a7c3194f779ebae4bc1d4006e4",
            "value": 39
          }
        },
        "7e79d87320164de9b893f31b0d645b7e": {
          "model_module": "@jupyter-widgets/controls",
          "model_name": "HTMLModel",
          "model_module_version": "1.5.0",
          "state": {
            "_dom_classes": [],
            "_model_module": "@jupyter-widgets/controls",
            "_model_module_version": "1.5.0",
            "_model_name": "HTMLModel",
            "_view_count": null,
            "_view_module": "@jupyter-widgets/controls",
            "_view_module_version": "1.5.0",
            "_view_name": "HTMLView",
            "description": "",
            "description_tooltip": null,
            "layout": "IPY_MODEL_3b435895240942cb8cf626b80e9a8d7d",
            "placeholder": "​",
            "style": "IPY_MODEL_3df783afcd4b45309ef221d36d7ebf65",
            "value": " 39.0/39.0 [00:00&lt;00:00, 1.76kB/s]"
          }
        },
        "2012350a33124e5b9c35835417aa9a0e": {
          "model_module": "@jupyter-widgets/base",
          "model_name": "LayoutModel",
          "model_module_version": "1.2.0",
          "state": {
            "_model_module": "@jupyter-widgets/base",
            "_model_module_version": "1.2.0",
            "_model_name": "LayoutModel",
            "_view_count": null,
            "_view_module": "@jupyter-widgets/base",
            "_view_module_version": "1.2.0",
            "_view_name": "LayoutView",
            "align_content": null,
            "align_items": null,
            "align_self": null,
            "border": null,
            "bottom": null,
            "display": null,
            "flex": null,
            "flex_flow": null,
            "grid_area": null,
            "grid_auto_columns": null,
            "grid_auto_flow": null,
            "grid_auto_rows": null,
            "grid_column": null,
            "grid_gap": null,
            "grid_row": null,
            "grid_template_areas": null,
            "grid_template_columns": null,
            "grid_template_rows": null,
            "height": null,
            "justify_content": null,
            "justify_items": null,
            "left": null,
            "margin": null,
            "max_height": null,
            "max_width": null,
            "min_height": null,
            "min_width": null,
            "object_fit": null,
            "object_position": null,
            "order": null,
            "overflow": null,
            "overflow_x": null,
            "overflow_y": null,
            "padding": null,
            "right": null,
            "top": null,
            "visibility": null,
            "width": null
          }
        },
        "69c857a9f75c461a9e9157c80772bb9e": {
          "model_module": "@jupyter-widgets/base",
          "model_name": "LayoutModel",
          "model_module_version": "1.2.0",
          "state": {
            "_model_module": "@jupyter-widgets/base",
            "_model_module_version": "1.2.0",
            "_model_name": "LayoutModel",
            "_view_count": null,
            "_view_module": "@jupyter-widgets/base",
            "_view_module_version": "1.2.0",
            "_view_name": "LayoutView",
            "align_content": null,
            "align_items": null,
            "align_self": null,
            "border": null,
            "bottom": null,
            "display": null,
            "flex": null,
            "flex_flow": null,
            "grid_area": null,
            "grid_auto_columns": null,
            "grid_auto_flow": null,
            "grid_auto_rows": null,
            "grid_column": null,
            "grid_gap": null,
            "grid_row": null,
            "grid_template_areas": null,
            "grid_template_columns": null,
            "grid_template_rows": null,
            "height": null,
            "justify_content": null,
            "justify_items": null,
            "left": null,
            "margin": null,
            "max_height": null,
            "max_width": null,
            "min_height": null,
            "min_width": null,
            "object_fit": null,
            "object_position": null,
            "order": null,
            "overflow": null,
            "overflow_x": null,
            "overflow_y": null,
            "padding": null,
            "right": null,
            "top": null,
            "visibility": null,
            "width": null
          }
        },
        "232a7d1567404e6383c9488b990257fb": {
          "model_module": "@jupyter-widgets/controls",
          "model_name": "DescriptionStyleModel",
          "model_module_version": "1.5.0",
          "state": {
            "_model_module": "@jupyter-widgets/controls",
            "_model_module_version": "1.5.0",
            "_model_name": "DescriptionStyleModel",
            "_view_count": null,
            "_view_module": "@jupyter-widgets/base",
            "_view_module_version": "1.2.0",
            "_view_name": "StyleView",
            "description_width": ""
          }
        },
        "ba9ffd47448641f7a80e4dd9f54616af": {
          "model_module": "@jupyter-widgets/base",
          "model_name": "LayoutModel",
          "model_module_version": "1.2.0",
          "state": {
            "_model_module": "@jupyter-widgets/base",
            "_model_module_version": "1.2.0",
            "_model_name": "LayoutModel",
            "_view_count": null,
            "_view_module": "@jupyter-widgets/base",
            "_view_module_version": "1.2.0",
            "_view_name": "LayoutView",
            "align_content": null,
            "align_items": null,
            "align_self": null,
            "border": null,
            "bottom": null,
            "display": null,
            "flex": null,
            "flex_flow": null,
            "grid_area": null,
            "grid_auto_columns": null,
            "grid_auto_flow": null,
            "grid_auto_rows": null,
            "grid_column": null,
            "grid_gap": null,
            "grid_row": null,
            "grid_template_areas": null,
            "grid_template_columns": null,
            "grid_template_rows": null,
            "height": null,
            "justify_content": null,
            "justify_items": null,
            "left": null,
            "margin": null,
            "max_height": null,
            "max_width": null,
            "min_height": null,
            "min_width": null,
            "object_fit": null,
            "object_position": null,
            "order": null,
            "overflow": null,
            "overflow_x": null,
            "overflow_y": null,
            "padding": null,
            "right": null,
            "top": null,
            "visibility": null,
            "width": null
          }
        },
        "77e7a9a7c3194f779ebae4bc1d4006e4": {
          "model_module": "@jupyter-widgets/controls",
          "model_name": "ProgressStyleModel",
          "model_module_version": "1.5.0",
          "state": {
            "_model_module": "@jupyter-widgets/controls",
            "_model_module_version": "1.5.0",
            "_model_name": "ProgressStyleModel",
            "_view_count": null,
            "_view_module": "@jupyter-widgets/base",
            "_view_module_version": "1.2.0",
            "_view_name": "StyleView",
            "bar_color": null,
            "description_width": ""
          }
        },
        "3b435895240942cb8cf626b80e9a8d7d": {
          "model_module": "@jupyter-widgets/base",
          "model_name": "LayoutModel",
          "model_module_version": "1.2.0",
          "state": {
            "_model_module": "@jupyter-widgets/base",
            "_model_module_version": "1.2.0",
            "_model_name": "LayoutModel",
            "_view_count": null,
            "_view_module": "@jupyter-widgets/base",
            "_view_module_version": "1.2.0",
            "_view_name": "LayoutView",
            "align_content": null,
            "align_items": null,
            "align_self": null,
            "border": null,
            "bottom": null,
            "display": null,
            "flex": null,
            "flex_flow": null,
            "grid_area": null,
            "grid_auto_columns": null,
            "grid_auto_flow": null,
            "grid_auto_rows": null,
            "grid_column": null,
            "grid_gap": null,
            "grid_row": null,
            "grid_template_areas": null,
            "grid_template_columns": null,
            "grid_template_rows": null,
            "height": null,
            "justify_content": null,
            "justify_items": null,
            "left": null,
            "margin": null,
            "max_height": null,
            "max_width": null,
            "min_height": null,
            "min_width": null,
            "object_fit": null,
            "object_position": null,
            "order": null,
            "overflow": null,
            "overflow_x": null,
            "overflow_y": null,
            "padding": null,
            "right": null,
            "top": null,
            "visibility": null,
            "width": null
          }
        },
        "3df783afcd4b45309ef221d36d7ebf65": {
          "model_module": "@jupyter-widgets/controls",
          "model_name": "DescriptionStyleModel",
          "model_module_version": "1.5.0",
          "state": {
            "_model_module": "@jupyter-widgets/controls",
            "_model_module_version": "1.5.0",
            "_model_name": "DescriptionStyleModel",
            "_view_count": null,
            "_view_module": "@jupyter-widgets/base",
            "_view_module_version": "1.2.0",
            "_view_name": "StyleView",
            "description_width": ""
          }
        },
        "019edbff49ca405db07e2d6faeabf6c2": {
          "model_module": "@jupyter-widgets/controls",
          "model_name": "HBoxModel",
          "model_module_version": "1.5.0",
          "state": {
            "_dom_classes": [],
            "_model_module": "@jupyter-widgets/controls",
            "_model_module_version": "1.5.0",
            "_model_name": "HBoxModel",
            "_view_count": null,
            "_view_module": "@jupyter-widgets/controls",
            "_view_module_version": "1.5.0",
            "_view_name": "HBoxView",
            "box_style": "",
            "children": [
              "IPY_MODEL_2e2c9a57ab8343c488ac934c7b93109d",
              "IPY_MODEL_ab33a71f3e64401eba4a0ef77ff6481c",
              "IPY_MODEL_517a745d066b4030a897e436472d232d"
            ],
            "layout": "IPY_MODEL_2a97ea0a0f904611b54766b2c21e7e05"
          }
        },
        "2e2c9a57ab8343c488ac934c7b93109d": {
          "model_module": "@jupyter-widgets/controls",
          "model_name": "HTMLModel",
          "model_module_version": "1.5.0",
          "state": {
            "_dom_classes": [],
            "_model_module": "@jupyter-widgets/controls",
            "_model_module_version": "1.5.0",
            "_model_name": "HTMLModel",
            "_view_count": null,
            "_view_module": "@jupyter-widgets/controls",
            "_view_module_version": "1.5.0",
            "_view_name": "HTMLView",
            "description": "",
            "description_tooltip": null,
            "layout": "IPY_MODEL_f5906bc755a14072914e08fabc13237f",
            "placeholder": "​",
            "style": "IPY_MODEL_9527d477c23647f1b4d0884513b20efb",
            "value": "Downloading (…)lve/main/config.json: 100%"
          }
        },
        "ab33a71f3e64401eba4a0ef77ff6481c": {
          "model_module": "@jupyter-widgets/controls",
          "model_name": "FloatProgressModel",
          "model_module_version": "1.5.0",
          "state": {
            "_dom_classes": [],
            "_model_module": "@jupyter-widgets/controls",
            "_model_module_version": "1.5.0",
            "_model_name": "FloatProgressModel",
            "_view_count": null,
            "_view_module": "@jupyter-widgets/controls",
            "_view_module_version": "1.5.0",
            "_view_name": "ProgressView",
            "bar_style": "success",
            "description": "",
            "description_tooltip": null,
            "layout": "IPY_MODEL_4fc9672ffcde4a2ab47fd48ae4954e29",
            "max": 953,
            "min": 0,
            "orientation": "horizontal",
            "style": "IPY_MODEL_420481c0d8c24aaf88d9434cbeb00ab3",
            "value": 953
          }
        },
        "517a745d066b4030a897e436472d232d": {
          "model_module": "@jupyter-widgets/controls",
          "model_name": "HTMLModel",
          "model_module_version": "1.5.0",
          "state": {
            "_dom_classes": [],
            "_model_module": "@jupyter-widgets/controls",
            "_model_module_version": "1.5.0",
            "_model_name": "HTMLModel",
            "_view_count": null,
            "_view_module": "@jupyter-widgets/controls",
            "_view_module_version": "1.5.0",
            "_view_name": "HTMLView",
            "description": "",
            "description_tooltip": null,
            "layout": "IPY_MODEL_97c60893bec04554bbaf1a0185f353ab",
            "placeholder": "​",
            "style": "IPY_MODEL_a85ea81ab57b4122a12c19d4d65fd9ce",
            "value": " 953/953 [00:00&lt;00:00, 34.7kB/s]"
          }
        },
        "2a97ea0a0f904611b54766b2c21e7e05": {
          "model_module": "@jupyter-widgets/base",
          "model_name": "LayoutModel",
          "model_module_version": "1.2.0",
          "state": {
            "_model_module": "@jupyter-widgets/base",
            "_model_module_version": "1.2.0",
            "_model_name": "LayoutModel",
            "_view_count": null,
            "_view_module": "@jupyter-widgets/base",
            "_view_module_version": "1.2.0",
            "_view_name": "LayoutView",
            "align_content": null,
            "align_items": null,
            "align_self": null,
            "border": null,
            "bottom": null,
            "display": null,
            "flex": null,
            "flex_flow": null,
            "grid_area": null,
            "grid_auto_columns": null,
            "grid_auto_flow": null,
            "grid_auto_rows": null,
            "grid_column": null,
            "grid_gap": null,
            "grid_row": null,
            "grid_template_areas": null,
            "grid_template_columns": null,
            "grid_template_rows": null,
            "height": null,
            "justify_content": null,
            "justify_items": null,
            "left": null,
            "margin": null,
            "max_height": null,
            "max_width": null,
            "min_height": null,
            "min_width": null,
            "object_fit": null,
            "object_position": null,
            "order": null,
            "overflow": null,
            "overflow_x": null,
            "overflow_y": null,
            "padding": null,
            "right": null,
            "top": null,
            "visibility": null,
            "width": null
          }
        },
        "f5906bc755a14072914e08fabc13237f": {
          "model_module": "@jupyter-widgets/base",
          "model_name": "LayoutModel",
          "model_module_version": "1.2.0",
          "state": {
            "_model_module": "@jupyter-widgets/base",
            "_model_module_version": "1.2.0",
            "_model_name": "LayoutModel",
            "_view_count": null,
            "_view_module": "@jupyter-widgets/base",
            "_view_module_version": "1.2.0",
            "_view_name": "LayoutView",
            "align_content": null,
            "align_items": null,
            "align_self": null,
            "border": null,
            "bottom": null,
            "display": null,
            "flex": null,
            "flex_flow": null,
            "grid_area": null,
            "grid_auto_columns": null,
            "grid_auto_flow": null,
            "grid_auto_rows": null,
            "grid_column": null,
            "grid_gap": null,
            "grid_row": null,
            "grid_template_areas": null,
            "grid_template_columns": null,
            "grid_template_rows": null,
            "height": null,
            "justify_content": null,
            "justify_items": null,
            "left": null,
            "margin": null,
            "max_height": null,
            "max_width": null,
            "min_height": null,
            "min_width": null,
            "object_fit": null,
            "object_position": null,
            "order": null,
            "overflow": null,
            "overflow_x": null,
            "overflow_y": null,
            "padding": null,
            "right": null,
            "top": null,
            "visibility": null,
            "width": null
          }
        },
        "9527d477c23647f1b4d0884513b20efb": {
          "model_module": "@jupyter-widgets/controls",
          "model_name": "DescriptionStyleModel",
          "model_module_version": "1.5.0",
          "state": {
            "_model_module": "@jupyter-widgets/controls",
            "_model_module_version": "1.5.0",
            "_model_name": "DescriptionStyleModel",
            "_view_count": null,
            "_view_module": "@jupyter-widgets/base",
            "_view_module_version": "1.2.0",
            "_view_name": "StyleView",
            "description_width": ""
          }
        },
        "4fc9672ffcde4a2ab47fd48ae4954e29": {
          "model_module": "@jupyter-widgets/base",
          "model_name": "LayoutModel",
          "model_module_version": "1.2.0",
          "state": {
            "_model_module": "@jupyter-widgets/base",
            "_model_module_version": "1.2.0",
            "_model_name": "LayoutModel",
            "_view_count": null,
            "_view_module": "@jupyter-widgets/base",
            "_view_module_version": "1.2.0",
            "_view_name": "LayoutView",
            "align_content": null,
            "align_items": null,
            "align_self": null,
            "border": null,
            "bottom": null,
            "display": null,
            "flex": null,
            "flex_flow": null,
            "grid_area": null,
            "grid_auto_columns": null,
            "grid_auto_flow": null,
            "grid_auto_rows": null,
            "grid_column": null,
            "grid_gap": null,
            "grid_row": null,
            "grid_template_areas": null,
            "grid_template_columns": null,
            "grid_template_rows": null,
            "height": null,
            "justify_content": null,
            "justify_items": null,
            "left": null,
            "margin": null,
            "max_height": null,
            "max_width": null,
            "min_height": null,
            "min_width": null,
            "object_fit": null,
            "object_position": null,
            "order": null,
            "overflow": null,
            "overflow_x": null,
            "overflow_y": null,
            "padding": null,
            "right": null,
            "top": null,
            "visibility": null,
            "width": null
          }
        },
        "420481c0d8c24aaf88d9434cbeb00ab3": {
          "model_module": "@jupyter-widgets/controls",
          "model_name": "ProgressStyleModel",
          "model_module_version": "1.5.0",
          "state": {
            "_model_module": "@jupyter-widgets/controls",
            "_model_module_version": "1.5.0",
            "_model_name": "ProgressStyleModel",
            "_view_count": null,
            "_view_module": "@jupyter-widgets/base",
            "_view_module_version": "1.2.0",
            "_view_name": "StyleView",
            "bar_color": null,
            "description_width": ""
          }
        },
        "97c60893bec04554bbaf1a0185f353ab": {
          "model_module": "@jupyter-widgets/base",
          "model_name": "LayoutModel",
          "model_module_version": "1.2.0",
          "state": {
            "_model_module": "@jupyter-widgets/base",
            "_model_module_version": "1.2.0",
            "_model_name": "LayoutModel",
            "_view_count": null,
            "_view_module": "@jupyter-widgets/base",
            "_view_module_version": "1.2.0",
            "_view_name": "LayoutView",
            "align_content": null,
            "align_items": null,
            "align_self": null,
            "border": null,
            "bottom": null,
            "display": null,
            "flex": null,
            "flex_flow": null,
            "grid_area": null,
            "grid_auto_columns": null,
            "grid_auto_flow": null,
            "grid_auto_rows": null,
            "grid_column": null,
            "grid_gap": null,
            "grid_row": null,
            "grid_template_areas": null,
            "grid_template_columns": null,
            "grid_template_rows": null,
            "height": null,
            "justify_content": null,
            "justify_items": null,
            "left": null,
            "margin": null,
            "max_height": null,
            "max_width": null,
            "min_height": null,
            "min_width": null,
            "object_fit": null,
            "object_position": null,
            "order": null,
            "overflow": null,
            "overflow_x": null,
            "overflow_y": null,
            "padding": null,
            "right": null,
            "top": null,
            "visibility": null,
            "width": null
          }
        },
        "a85ea81ab57b4122a12c19d4d65fd9ce": {
          "model_module": "@jupyter-widgets/controls",
          "model_name": "DescriptionStyleModel",
          "model_module_version": "1.5.0",
          "state": {
            "_model_module": "@jupyter-widgets/controls",
            "_model_module_version": "1.5.0",
            "_model_name": "DescriptionStyleModel",
            "_view_count": null,
            "_view_module": "@jupyter-widgets/base",
            "_view_module_version": "1.2.0",
            "_view_name": "StyleView",
            "description_width": ""
          }
        },
        "fc06e149c68c45bc83e1433d8da46dac": {
          "model_module": "@jupyter-widgets/controls",
          "model_name": "HBoxModel",
          "model_module_version": "1.5.0",
          "state": {
            "_dom_classes": [],
            "_model_module": "@jupyter-widgets/controls",
            "_model_module_version": "1.5.0",
            "_model_name": "HBoxModel",
            "_view_count": null,
            "_view_module": "@jupyter-widgets/controls",
            "_view_module_version": "1.5.0",
            "_view_name": "HBoxView",
            "box_style": "",
            "children": [
              "IPY_MODEL_35310400f7514afd92eeb5f29be541ce",
              "IPY_MODEL_670c0b2f7f3248c7808cdb8f9a544d53",
              "IPY_MODEL_c2a0daf68d7b435ba4b5f0bd1082a1eb"
            ],
            "layout": "IPY_MODEL_8a9f5753a8384b9eb9fcd5349eebfa7d"
          }
        },
        "35310400f7514afd92eeb5f29be541ce": {
          "model_module": "@jupyter-widgets/controls",
          "model_name": "HTMLModel",
          "model_module_version": "1.5.0",
          "state": {
            "_dom_classes": [],
            "_model_module": "@jupyter-widgets/controls",
            "_model_module_version": "1.5.0",
            "_model_name": "HTMLModel",
            "_view_count": null,
            "_view_module": "@jupyter-widgets/controls",
            "_view_module_version": "1.5.0",
            "_view_name": "HTMLView",
            "description": "",
            "description_tooltip": null,
            "layout": "IPY_MODEL_7bb6739d16d74179ad28e00a7bb4952f",
            "placeholder": "​",
            "style": "IPY_MODEL_e49c155c340c4f0d90377f73f7ec7b14",
            "value": "Downloading (…)solve/main/vocab.txt: 100%"
          }
        },
        "670c0b2f7f3248c7808cdb8f9a544d53": {
          "model_module": "@jupyter-widgets/controls",
          "model_name": "FloatProgressModel",
          "model_module_version": "1.5.0",
          "state": {
            "_dom_classes": [],
            "_model_module": "@jupyter-widgets/controls",
            "_model_module_version": "1.5.0",
            "_model_name": "FloatProgressModel",
            "_view_count": null,
            "_view_module": "@jupyter-widgets/controls",
            "_view_module_version": "1.5.0",
            "_view_name": "ProgressView",
            "bar_style": "success",
            "description": "",
            "description_tooltip": null,
            "layout": "IPY_MODEL_73cdc30b0b9b4857b956d6d637da293b",
            "max": 871891,
            "min": 0,
            "orientation": "horizontal",
            "style": "IPY_MODEL_1c8145e6736e426b989812b865ab85c7",
            "value": 871891
          }
        },
        "c2a0daf68d7b435ba4b5f0bd1082a1eb": {
          "model_module": "@jupyter-widgets/controls",
          "model_name": "HTMLModel",
          "model_module_version": "1.5.0",
          "state": {
            "_dom_classes": [],
            "_model_module": "@jupyter-widgets/controls",
            "_model_module_version": "1.5.0",
            "_model_name": "HTMLModel",
            "_view_count": null,
            "_view_module": "@jupyter-widgets/controls",
            "_view_module_version": "1.5.0",
            "_view_name": "HTMLView",
            "description": "",
            "description_tooltip": null,
            "layout": "IPY_MODEL_223ceeb46156469db1c75e81a3acc428",
            "placeholder": "​",
            "style": "IPY_MODEL_634984164802409f86d2e3edd079911a",
            "value": " 872k/872k [00:00&lt;00:00, 1.17MB/s]"
          }
        },
        "8a9f5753a8384b9eb9fcd5349eebfa7d": {
          "model_module": "@jupyter-widgets/base",
          "model_name": "LayoutModel",
          "model_module_version": "1.2.0",
          "state": {
            "_model_module": "@jupyter-widgets/base",
            "_model_module_version": "1.2.0",
            "_model_name": "LayoutModel",
            "_view_count": null,
            "_view_module": "@jupyter-widgets/base",
            "_view_module_version": "1.2.0",
            "_view_name": "LayoutView",
            "align_content": null,
            "align_items": null,
            "align_self": null,
            "border": null,
            "bottom": null,
            "display": null,
            "flex": null,
            "flex_flow": null,
            "grid_area": null,
            "grid_auto_columns": null,
            "grid_auto_flow": null,
            "grid_auto_rows": null,
            "grid_column": null,
            "grid_gap": null,
            "grid_row": null,
            "grid_template_areas": null,
            "grid_template_columns": null,
            "grid_template_rows": null,
            "height": null,
            "justify_content": null,
            "justify_items": null,
            "left": null,
            "margin": null,
            "max_height": null,
            "max_width": null,
            "min_height": null,
            "min_width": null,
            "object_fit": null,
            "object_position": null,
            "order": null,
            "overflow": null,
            "overflow_x": null,
            "overflow_y": null,
            "padding": null,
            "right": null,
            "top": null,
            "visibility": null,
            "width": null
          }
        },
        "7bb6739d16d74179ad28e00a7bb4952f": {
          "model_module": "@jupyter-widgets/base",
          "model_name": "LayoutModel",
          "model_module_version": "1.2.0",
          "state": {
            "_model_module": "@jupyter-widgets/base",
            "_model_module_version": "1.2.0",
            "_model_name": "LayoutModel",
            "_view_count": null,
            "_view_module": "@jupyter-widgets/base",
            "_view_module_version": "1.2.0",
            "_view_name": "LayoutView",
            "align_content": null,
            "align_items": null,
            "align_self": null,
            "border": null,
            "bottom": null,
            "display": null,
            "flex": null,
            "flex_flow": null,
            "grid_area": null,
            "grid_auto_columns": null,
            "grid_auto_flow": null,
            "grid_auto_rows": null,
            "grid_column": null,
            "grid_gap": null,
            "grid_row": null,
            "grid_template_areas": null,
            "grid_template_columns": null,
            "grid_template_rows": null,
            "height": null,
            "justify_content": null,
            "justify_items": null,
            "left": null,
            "margin": null,
            "max_height": null,
            "max_width": null,
            "min_height": null,
            "min_width": null,
            "object_fit": null,
            "object_position": null,
            "order": null,
            "overflow": null,
            "overflow_x": null,
            "overflow_y": null,
            "padding": null,
            "right": null,
            "top": null,
            "visibility": null,
            "width": null
          }
        },
        "e49c155c340c4f0d90377f73f7ec7b14": {
          "model_module": "@jupyter-widgets/controls",
          "model_name": "DescriptionStyleModel",
          "model_module_version": "1.5.0",
          "state": {
            "_model_module": "@jupyter-widgets/controls",
            "_model_module_version": "1.5.0",
            "_model_name": "DescriptionStyleModel",
            "_view_count": null,
            "_view_module": "@jupyter-widgets/base",
            "_view_module_version": "1.2.0",
            "_view_name": "StyleView",
            "description_width": ""
          }
        },
        "73cdc30b0b9b4857b956d6d637da293b": {
          "model_module": "@jupyter-widgets/base",
          "model_name": "LayoutModel",
          "model_module_version": "1.2.0",
          "state": {
            "_model_module": "@jupyter-widgets/base",
            "_model_module_version": "1.2.0",
            "_model_name": "LayoutModel",
            "_view_count": null,
            "_view_module": "@jupyter-widgets/base",
            "_view_module_version": "1.2.0",
            "_view_name": "LayoutView",
            "align_content": null,
            "align_items": null,
            "align_self": null,
            "border": null,
            "bottom": null,
            "display": null,
            "flex": null,
            "flex_flow": null,
            "grid_area": null,
            "grid_auto_columns": null,
            "grid_auto_flow": null,
            "grid_auto_rows": null,
            "grid_column": null,
            "grid_gap": null,
            "grid_row": null,
            "grid_template_areas": null,
            "grid_template_columns": null,
            "grid_template_rows": null,
            "height": null,
            "justify_content": null,
            "justify_items": null,
            "left": null,
            "margin": null,
            "max_height": null,
            "max_width": null,
            "min_height": null,
            "min_width": null,
            "object_fit": null,
            "object_position": null,
            "order": null,
            "overflow": null,
            "overflow_x": null,
            "overflow_y": null,
            "padding": null,
            "right": null,
            "top": null,
            "visibility": null,
            "width": null
          }
        },
        "1c8145e6736e426b989812b865ab85c7": {
          "model_module": "@jupyter-widgets/controls",
          "model_name": "ProgressStyleModel",
          "model_module_version": "1.5.0",
          "state": {
            "_model_module": "@jupyter-widgets/controls",
            "_model_module_version": "1.5.0",
            "_model_name": "ProgressStyleModel",
            "_view_count": null,
            "_view_module": "@jupyter-widgets/base",
            "_view_module_version": "1.2.0",
            "_view_name": "StyleView",
            "bar_color": null,
            "description_width": ""
          }
        },
        "223ceeb46156469db1c75e81a3acc428": {
          "model_module": "@jupyter-widgets/base",
          "model_name": "LayoutModel",
          "model_module_version": "1.2.0",
          "state": {
            "_model_module": "@jupyter-widgets/base",
            "_model_module_version": "1.2.0",
            "_model_name": "LayoutModel",
            "_view_count": null,
            "_view_module": "@jupyter-widgets/base",
            "_view_module_version": "1.2.0",
            "_view_name": "LayoutView",
            "align_content": null,
            "align_items": null,
            "align_self": null,
            "border": null,
            "bottom": null,
            "display": null,
            "flex": null,
            "flex_flow": null,
            "grid_area": null,
            "grid_auto_columns": null,
            "grid_auto_flow": null,
            "grid_auto_rows": null,
            "grid_column": null,
            "grid_gap": null,
            "grid_row": null,
            "grid_template_areas": null,
            "grid_template_columns": null,
            "grid_template_rows": null,
            "height": null,
            "justify_content": null,
            "justify_items": null,
            "left": null,
            "margin": null,
            "max_height": null,
            "max_width": null,
            "min_height": null,
            "min_width": null,
            "object_fit": null,
            "object_position": null,
            "order": null,
            "overflow": null,
            "overflow_x": null,
            "overflow_y": null,
            "padding": null,
            "right": null,
            "top": null,
            "visibility": null,
            "width": null
          }
        },
        "634984164802409f86d2e3edd079911a": {
          "model_module": "@jupyter-widgets/controls",
          "model_name": "DescriptionStyleModel",
          "model_module_version": "1.5.0",
          "state": {
            "_model_module": "@jupyter-widgets/controls",
            "_model_module_version": "1.5.0",
            "_model_name": "DescriptionStyleModel",
            "_view_count": null,
            "_view_module": "@jupyter-widgets/base",
            "_view_module_version": "1.2.0",
            "_view_name": "StyleView",
            "description_width": ""
          }
        },
        "58b9a703349d4aedb7db5506d0a7759e": {
          "model_module": "@jupyter-widgets/controls",
          "model_name": "HBoxModel",
          "model_module_version": "1.5.0",
          "state": {
            "_dom_classes": [],
            "_model_module": "@jupyter-widgets/controls",
            "_model_module_version": "1.5.0",
            "_model_name": "HBoxModel",
            "_view_count": null,
            "_view_module": "@jupyter-widgets/controls",
            "_view_module_version": "1.5.0",
            "_view_name": "HBoxView",
            "box_style": "",
            "children": [
              "IPY_MODEL_71870d6e40684856a742e482760ba1bf",
              "IPY_MODEL_cd69dd7e308e444e87b4c1d53107ecc9",
              "IPY_MODEL_bc10bad2cfde4291a42dedabcdac161f"
            ],
            "layout": "IPY_MODEL_bb37787510ba4a6b828be91009d17ec5"
          }
        },
        "71870d6e40684856a742e482760ba1bf": {
          "model_module": "@jupyter-widgets/controls",
          "model_name": "HTMLModel",
          "model_module_version": "1.5.0",
          "state": {
            "_dom_classes": [],
            "_model_module": "@jupyter-widgets/controls",
            "_model_module_version": "1.5.0",
            "_model_name": "HTMLModel",
            "_view_count": null,
            "_view_module": "@jupyter-widgets/controls",
            "_view_module_version": "1.5.0",
            "_view_name": "HTMLView",
            "description": "",
            "description_tooltip": null,
            "layout": "IPY_MODEL_7a49d88986294d68bee537eb228737ef",
            "placeholder": "​",
            "style": "IPY_MODEL_00011fc61ece44ed9778501fcf25b304",
            "value": "Downloading (…)cial_tokens_map.json: 100%"
          }
        },
        "cd69dd7e308e444e87b4c1d53107ecc9": {
          "model_module": "@jupyter-widgets/controls",
          "model_name": "FloatProgressModel",
          "model_module_version": "1.5.0",
          "state": {
            "_dom_classes": [],
            "_model_module": "@jupyter-widgets/controls",
            "_model_module_version": "1.5.0",
            "_model_name": "FloatProgressModel",
            "_view_count": null,
            "_view_module": "@jupyter-widgets/controls",
            "_view_module_version": "1.5.0",
            "_view_name": "ProgressView",
            "bar_style": "success",
            "description": "",
            "description_tooltip": null,
            "layout": "IPY_MODEL_ab5480c6316c443fa65fa827cea7e0df",
            "max": 112,
            "min": 0,
            "orientation": "horizontal",
            "style": "IPY_MODEL_1a4dd196e92a4874b73fa209a28c6234",
            "value": 112
          }
        },
        "bc10bad2cfde4291a42dedabcdac161f": {
          "model_module": "@jupyter-widgets/controls",
          "model_name": "HTMLModel",
          "model_module_version": "1.5.0",
          "state": {
            "_dom_classes": [],
            "_model_module": "@jupyter-widgets/controls",
            "_model_module_version": "1.5.0",
            "_model_name": "HTMLModel",
            "_view_count": null,
            "_view_module": "@jupyter-widgets/controls",
            "_view_module_version": "1.5.0",
            "_view_name": "HTMLView",
            "description": "",
            "description_tooltip": null,
            "layout": "IPY_MODEL_4420de1b8fad405e81555d828bb5d7ce",
            "placeholder": "​",
            "style": "IPY_MODEL_9c35c9dd2e5a4361ac58714f79b2e69c",
            "value": " 112/112 [00:00&lt;00:00, 7.66kB/s]"
          }
        },
        "bb37787510ba4a6b828be91009d17ec5": {
          "model_module": "@jupyter-widgets/base",
          "model_name": "LayoutModel",
          "model_module_version": "1.2.0",
          "state": {
            "_model_module": "@jupyter-widgets/base",
            "_model_module_version": "1.2.0",
            "_model_name": "LayoutModel",
            "_view_count": null,
            "_view_module": "@jupyter-widgets/base",
            "_view_module_version": "1.2.0",
            "_view_name": "LayoutView",
            "align_content": null,
            "align_items": null,
            "align_self": null,
            "border": null,
            "bottom": null,
            "display": null,
            "flex": null,
            "flex_flow": null,
            "grid_area": null,
            "grid_auto_columns": null,
            "grid_auto_flow": null,
            "grid_auto_rows": null,
            "grid_column": null,
            "grid_gap": null,
            "grid_row": null,
            "grid_template_areas": null,
            "grid_template_columns": null,
            "grid_template_rows": null,
            "height": null,
            "justify_content": null,
            "justify_items": null,
            "left": null,
            "margin": null,
            "max_height": null,
            "max_width": null,
            "min_height": null,
            "min_width": null,
            "object_fit": null,
            "object_position": null,
            "order": null,
            "overflow": null,
            "overflow_x": null,
            "overflow_y": null,
            "padding": null,
            "right": null,
            "top": null,
            "visibility": null,
            "width": null
          }
        },
        "7a49d88986294d68bee537eb228737ef": {
          "model_module": "@jupyter-widgets/base",
          "model_name": "LayoutModel",
          "model_module_version": "1.2.0",
          "state": {
            "_model_module": "@jupyter-widgets/base",
            "_model_module_version": "1.2.0",
            "_model_name": "LayoutModel",
            "_view_count": null,
            "_view_module": "@jupyter-widgets/base",
            "_view_module_version": "1.2.0",
            "_view_name": "LayoutView",
            "align_content": null,
            "align_items": null,
            "align_self": null,
            "border": null,
            "bottom": null,
            "display": null,
            "flex": null,
            "flex_flow": null,
            "grid_area": null,
            "grid_auto_columns": null,
            "grid_auto_flow": null,
            "grid_auto_rows": null,
            "grid_column": null,
            "grid_gap": null,
            "grid_row": null,
            "grid_template_areas": null,
            "grid_template_columns": null,
            "grid_template_rows": null,
            "height": null,
            "justify_content": null,
            "justify_items": null,
            "left": null,
            "margin": null,
            "max_height": null,
            "max_width": null,
            "min_height": null,
            "min_width": null,
            "object_fit": null,
            "object_position": null,
            "order": null,
            "overflow": null,
            "overflow_x": null,
            "overflow_y": null,
            "padding": null,
            "right": null,
            "top": null,
            "visibility": null,
            "width": null
          }
        },
        "00011fc61ece44ed9778501fcf25b304": {
          "model_module": "@jupyter-widgets/controls",
          "model_name": "DescriptionStyleModel",
          "model_module_version": "1.5.0",
          "state": {
            "_model_module": "@jupyter-widgets/controls",
            "_model_module_version": "1.5.0",
            "_model_name": "DescriptionStyleModel",
            "_view_count": null,
            "_view_module": "@jupyter-widgets/base",
            "_view_module_version": "1.2.0",
            "_view_name": "StyleView",
            "description_width": ""
          }
        },
        "ab5480c6316c443fa65fa827cea7e0df": {
          "model_module": "@jupyter-widgets/base",
          "model_name": "LayoutModel",
          "model_module_version": "1.2.0",
          "state": {
            "_model_module": "@jupyter-widgets/base",
            "_model_module_version": "1.2.0",
            "_model_name": "LayoutModel",
            "_view_count": null,
            "_view_module": "@jupyter-widgets/base",
            "_view_module_version": "1.2.0",
            "_view_name": "LayoutView",
            "align_content": null,
            "align_items": null,
            "align_self": null,
            "border": null,
            "bottom": null,
            "display": null,
            "flex": null,
            "flex_flow": null,
            "grid_area": null,
            "grid_auto_columns": null,
            "grid_auto_flow": null,
            "grid_auto_rows": null,
            "grid_column": null,
            "grid_gap": null,
            "grid_row": null,
            "grid_template_areas": null,
            "grid_template_columns": null,
            "grid_template_rows": null,
            "height": null,
            "justify_content": null,
            "justify_items": null,
            "left": null,
            "margin": null,
            "max_height": null,
            "max_width": null,
            "min_height": null,
            "min_width": null,
            "object_fit": null,
            "object_position": null,
            "order": null,
            "overflow": null,
            "overflow_x": null,
            "overflow_y": null,
            "padding": null,
            "right": null,
            "top": null,
            "visibility": null,
            "width": null
          }
        },
        "1a4dd196e92a4874b73fa209a28c6234": {
          "model_module": "@jupyter-widgets/controls",
          "model_name": "ProgressStyleModel",
          "model_module_version": "1.5.0",
          "state": {
            "_model_module": "@jupyter-widgets/controls",
            "_model_module_version": "1.5.0",
            "_model_name": "ProgressStyleModel",
            "_view_count": null,
            "_view_module": "@jupyter-widgets/base",
            "_view_module_version": "1.2.0",
            "_view_name": "StyleView",
            "bar_color": null,
            "description_width": ""
          }
        },
        "4420de1b8fad405e81555d828bb5d7ce": {
          "model_module": "@jupyter-widgets/base",
          "model_name": "LayoutModel",
          "model_module_version": "1.2.0",
          "state": {
            "_model_module": "@jupyter-widgets/base",
            "_model_module_version": "1.2.0",
            "_model_name": "LayoutModel",
            "_view_count": null,
            "_view_module": "@jupyter-widgets/base",
            "_view_module_version": "1.2.0",
            "_view_name": "LayoutView",
            "align_content": null,
            "align_items": null,
            "align_self": null,
            "border": null,
            "bottom": null,
            "display": null,
            "flex": null,
            "flex_flow": null,
            "grid_area": null,
            "grid_auto_columns": null,
            "grid_auto_flow": null,
            "grid_auto_rows": null,
            "grid_column": null,
            "grid_gap": null,
            "grid_row": null,
            "grid_template_areas": null,
            "grid_template_columns": null,
            "grid_template_rows": null,
            "height": null,
            "justify_content": null,
            "justify_items": null,
            "left": null,
            "margin": null,
            "max_height": null,
            "max_width": null,
            "min_height": null,
            "min_width": null,
            "object_fit": null,
            "object_position": null,
            "order": null,
            "overflow": null,
            "overflow_x": null,
            "overflow_y": null,
            "padding": null,
            "right": null,
            "top": null,
            "visibility": null,
            "width": null
          }
        },
        "9c35c9dd2e5a4361ac58714f79b2e69c": {
          "model_module": "@jupyter-widgets/controls",
          "model_name": "DescriptionStyleModel",
          "model_module_version": "1.5.0",
          "state": {
            "_model_module": "@jupyter-widgets/controls",
            "_model_module_version": "1.5.0",
            "_model_name": "DescriptionStyleModel",
            "_view_count": null,
            "_view_module": "@jupyter-widgets/base",
            "_view_module_version": "1.2.0",
            "_view_name": "StyleView",
            "description_width": ""
          }
        },
        "9b3d25c0ba1743819face3812dc29874": {
          "model_module": "@jupyter-widgets/controls",
          "model_name": "HBoxModel",
          "model_module_version": "1.5.0",
          "state": {
            "_dom_classes": [],
            "_model_module": "@jupyter-widgets/controls",
            "_model_module_version": "1.5.0",
            "_model_name": "HBoxModel",
            "_view_count": null,
            "_view_module": "@jupyter-widgets/controls",
            "_view_module_version": "1.5.0",
            "_view_name": "HBoxView",
            "box_style": "",
            "children": [
              "IPY_MODEL_43303387530146608717b0bde11a14e1",
              "IPY_MODEL_eb19896e8beb463bb3ee72436c0c7cfe",
              "IPY_MODEL_956a34e07dcc40b9a936d5a99aa86d2c"
            ],
            "layout": "IPY_MODEL_832c3613f6544fe497ea547e556de7fe"
          }
        },
        "43303387530146608717b0bde11a14e1": {
          "model_module": "@jupyter-widgets/controls",
          "model_name": "HTMLModel",
          "model_module_version": "1.5.0",
          "state": {
            "_dom_classes": [],
            "_model_module": "@jupyter-widgets/controls",
            "_model_module_version": "1.5.0",
            "_model_name": "HTMLModel",
            "_view_count": null,
            "_view_module": "@jupyter-widgets/controls",
            "_view_module_version": "1.5.0",
            "_view_name": "HTMLView",
            "description": "",
            "description_tooltip": null,
            "layout": "IPY_MODEL_59e32732dbe94e9ab63d5b7cb9660969",
            "placeholder": "​",
            "style": "IPY_MODEL_dea166ece2bf4eb7a4d82fad5fd94e84",
            "value": "Downloading pytorch_model.bin: 100%"
          }
        },
        "eb19896e8beb463bb3ee72436c0c7cfe": {
          "model_module": "@jupyter-widgets/controls",
          "model_name": "FloatProgressModel",
          "model_module_version": "1.5.0",
          "state": {
            "_dom_classes": [],
            "_model_module": "@jupyter-widgets/controls",
            "_model_module_version": "1.5.0",
            "_model_name": "FloatProgressModel",
            "_view_count": null,
            "_view_module": "@jupyter-widgets/controls",
            "_view_module_version": "1.5.0",
            "_view_name": "ProgressView",
            "bar_style": "success",
            "description": "",
            "description_tooltip": null,
            "layout": "IPY_MODEL_cef38cfab6104f9880bd16fdfbb95798",
            "max": 669491321,
            "min": 0,
            "orientation": "horizontal",
            "style": "IPY_MODEL_858c4fb724cf49a5a50d77532ef1a344",
            "value": 669491321
          }
        },
        "956a34e07dcc40b9a936d5a99aa86d2c": {
          "model_module": "@jupyter-widgets/controls",
          "model_name": "HTMLModel",
          "model_module_version": "1.5.0",
          "state": {
            "_dom_classes": [],
            "_model_module": "@jupyter-widgets/controls",
            "_model_module_version": "1.5.0",
            "_model_name": "HTMLModel",
            "_view_count": null,
            "_view_module": "@jupyter-widgets/controls",
            "_view_module_version": "1.5.0",
            "_view_name": "HTMLView",
            "description": "",
            "description_tooltip": null,
            "layout": "IPY_MODEL_2d1dd4c65ac849ebadad3a995485b188",
            "placeholder": "​",
            "style": "IPY_MODEL_b265666a2b404058a8e8a5c84947926b",
            "value": " 669M/669M [00:08&lt;00:00, 83.3MB/s]"
          }
        },
        "832c3613f6544fe497ea547e556de7fe": {
          "model_module": "@jupyter-widgets/base",
          "model_name": "LayoutModel",
          "model_module_version": "1.2.0",
          "state": {
            "_model_module": "@jupyter-widgets/base",
            "_model_module_version": "1.2.0",
            "_model_name": "LayoutModel",
            "_view_count": null,
            "_view_module": "@jupyter-widgets/base",
            "_view_module_version": "1.2.0",
            "_view_name": "LayoutView",
            "align_content": null,
            "align_items": null,
            "align_self": null,
            "border": null,
            "bottom": null,
            "display": null,
            "flex": null,
            "flex_flow": null,
            "grid_area": null,
            "grid_auto_columns": null,
            "grid_auto_flow": null,
            "grid_auto_rows": null,
            "grid_column": null,
            "grid_gap": null,
            "grid_row": null,
            "grid_template_areas": null,
            "grid_template_columns": null,
            "grid_template_rows": null,
            "height": null,
            "justify_content": null,
            "justify_items": null,
            "left": null,
            "margin": null,
            "max_height": null,
            "max_width": null,
            "min_height": null,
            "min_width": null,
            "object_fit": null,
            "object_position": null,
            "order": null,
            "overflow": null,
            "overflow_x": null,
            "overflow_y": null,
            "padding": null,
            "right": null,
            "top": null,
            "visibility": null,
            "width": null
          }
        },
        "59e32732dbe94e9ab63d5b7cb9660969": {
          "model_module": "@jupyter-widgets/base",
          "model_name": "LayoutModel",
          "model_module_version": "1.2.0",
          "state": {
            "_model_module": "@jupyter-widgets/base",
            "_model_module_version": "1.2.0",
            "_model_name": "LayoutModel",
            "_view_count": null,
            "_view_module": "@jupyter-widgets/base",
            "_view_module_version": "1.2.0",
            "_view_name": "LayoutView",
            "align_content": null,
            "align_items": null,
            "align_self": null,
            "border": null,
            "bottom": null,
            "display": null,
            "flex": null,
            "flex_flow": null,
            "grid_area": null,
            "grid_auto_columns": null,
            "grid_auto_flow": null,
            "grid_auto_rows": null,
            "grid_column": null,
            "grid_gap": null,
            "grid_row": null,
            "grid_template_areas": null,
            "grid_template_columns": null,
            "grid_template_rows": null,
            "height": null,
            "justify_content": null,
            "justify_items": null,
            "left": null,
            "margin": null,
            "max_height": null,
            "max_width": null,
            "min_height": null,
            "min_width": null,
            "object_fit": null,
            "object_position": null,
            "order": null,
            "overflow": null,
            "overflow_x": null,
            "overflow_y": null,
            "padding": null,
            "right": null,
            "top": null,
            "visibility": null,
            "width": null
          }
        },
        "dea166ece2bf4eb7a4d82fad5fd94e84": {
          "model_module": "@jupyter-widgets/controls",
          "model_name": "DescriptionStyleModel",
          "model_module_version": "1.5.0",
          "state": {
            "_model_module": "@jupyter-widgets/controls",
            "_model_module_version": "1.5.0",
            "_model_name": "DescriptionStyleModel",
            "_view_count": null,
            "_view_module": "@jupyter-widgets/base",
            "_view_module_version": "1.2.0",
            "_view_name": "StyleView",
            "description_width": ""
          }
        },
        "cef38cfab6104f9880bd16fdfbb95798": {
          "model_module": "@jupyter-widgets/base",
          "model_name": "LayoutModel",
          "model_module_version": "1.2.0",
          "state": {
            "_model_module": "@jupyter-widgets/base",
            "_model_module_version": "1.2.0",
            "_model_name": "LayoutModel",
            "_view_count": null,
            "_view_module": "@jupyter-widgets/base",
            "_view_module_version": "1.2.0",
            "_view_name": "LayoutView",
            "align_content": null,
            "align_items": null,
            "align_self": null,
            "border": null,
            "bottom": null,
            "display": null,
            "flex": null,
            "flex_flow": null,
            "grid_area": null,
            "grid_auto_columns": null,
            "grid_auto_flow": null,
            "grid_auto_rows": null,
            "grid_column": null,
            "grid_gap": null,
            "grid_row": null,
            "grid_template_areas": null,
            "grid_template_columns": null,
            "grid_template_rows": null,
            "height": null,
            "justify_content": null,
            "justify_items": null,
            "left": null,
            "margin": null,
            "max_height": null,
            "max_width": null,
            "min_height": null,
            "min_width": null,
            "object_fit": null,
            "object_position": null,
            "order": null,
            "overflow": null,
            "overflow_x": null,
            "overflow_y": null,
            "padding": null,
            "right": null,
            "top": null,
            "visibility": null,
            "width": null
          }
        },
        "858c4fb724cf49a5a50d77532ef1a344": {
          "model_module": "@jupyter-widgets/controls",
          "model_name": "ProgressStyleModel",
          "model_module_version": "1.5.0",
          "state": {
            "_model_module": "@jupyter-widgets/controls",
            "_model_module_version": "1.5.0",
            "_model_name": "ProgressStyleModel",
            "_view_count": null,
            "_view_module": "@jupyter-widgets/base",
            "_view_module_version": "1.2.0",
            "_view_name": "StyleView",
            "bar_color": null,
            "description_width": ""
          }
        },
        "2d1dd4c65ac849ebadad3a995485b188": {
          "model_module": "@jupyter-widgets/base",
          "model_name": "LayoutModel",
          "model_module_version": "1.2.0",
          "state": {
            "_model_module": "@jupyter-widgets/base",
            "_model_module_version": "1.2.0",
            "_model_name": "LayoutModel",
            "_view_count": null,
            "_view_module": "@jupyter-widgets/base",
            "_view_module_version": "1.2.0",
            "_view_name": "LayoutView",
            "align_content": null,
            "align_items": null,
            "align_self": null,
            "border": null,
            "bottom": null,
            "display": null,
            "flex": null,
            "flex_flow": null,
            "grid_area": null,
            "grid_auto_columns": null,
            "grid_auto_flow": null,
            "grid_auto_rows": null,
            "grid_column": null,
            "grid_gap": null,
            "grid_row": null,
            "grid_template_areas": null,
            "grid_template_columns": null,
            "grid_template_rows": null,
            "height": null,
            "justify_content": null,
            "justify_items": null,
            "left": null,
            "margin": null,
            "max_height": null,
            "max_width": null,
            "min_height": null,
            "min_width": null,
            "object_fit": null,
            "object_position": null,
            "order": null,
            "overflow": null,
            "overflow_x": null,
            "overflow_y": null,
            "padding": null,
            "right": null,
            "top": null,
            "visibility": null,
            "width": null
          }
        },
        "b265666a2b404058a8e8a5c84947926b": {
          "model_module": "@jupyter-widgets/controls",
          "model_name": "DescriptionStyleModel",
          "model_module_version": "1.5.0",
          "state": {
            "_model_module": "@jupyter-widgets/controls",
            "_model_module_version": "1.5.0",
            "_model_name": "DescriptionStyleModel",
            "_view_count": null,
            "_view_module": "@jupyter-widgets/base",
            "_view_module_version": "1.2.0",
            "_view_name": "StyleView",
            "description_width": ""
          }
        }
      }
    }
  },
  "nbformat": 4,
  "nbformat_minor": 0
}